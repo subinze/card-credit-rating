{
 "cells": [
  {
   "cell_type": "code",
   "execution_count": null,
   "metadata": {},
   "outputs": [],
   "source": []
  },
  {
   "cell_type": "code",
   "execution_count": 1,
   "metadata": {
    "ExecuteTime": {
     "end_time": "2021-11-13T05:51:38.410120Z",
     "start_time": "2021-11-13T05:51:37.196185Z"
    }
   },
   "outputs": [],
   "source": [
    "import pandas as pd\n",
    "import numpy as np\n",
    "from sklearn. preprocessing import scale, minmax_scale, robust_scale\n",
    "import matplotlib\n",
    "import matplotlib.pyplot as plt\n",
    "import seaborn as sns\n",
    "from statsmodels.formula.api import ols\n",
    "from statsmodels.api import qqplot, add_constant\n",
    "import statsmodels.formula.api as smf\n",
    "from statsmodels.stats.outliers_influence import variance_inflation_factor\n",
    "from sklearn.linear_model import LinearRegression\n",
    "from sklearn.feature_selection import RFE\n",
    "from sklearn.preprocessing import StandardScaler\n",
    "from statsmodels.tools.eval_measures import rmse\n",
    "from sklearn. linear_model import Ridge,  Lasso, ElasticNet\n",
    "from sklearn.tree import export_graphviz\n",
    "import graphviz\n",
    "from sklearn.model_selection import train_test_split\n",
    "from sklearn.ensemble import RandomForestRegressor\n",
    "from sklearn.model_selection import GridSearchCV\n",
    "matplotlib.rc('font',family = 'Noto Sans CJK JP')\n",
    "import os\n",
    "os.getcwd()\n",
    "path = '/home/piai/다운로드'"
   ]
  },
  {
   "cell_type": "markdown",
   "metadata": {},
   "source": [
    "# 차주"
   ]
  },
  {
   "cell_type": "code",
   "execution_count": 2,
   "metadata": {
    "ExecuteTime": {
     "end_time": "2021-11-13T05:51:38.449452Z",
     "start_time": "2021-11-13T05:51:38.412787Z"
    },
    "scrolled": true
   },
   "outputs": [
    {
     "data": {
      "text/html": [
       "<div>\n",
       "<style scoped>\n",
       "    .dataframe tbody tr th:only-of-type {\n",
       "        vertical-align: middle;\n",
       "    }\n",
       "\n",
       "    .dataframe tbody tr th {\n",
       "        vertical-align: top;\n",
       "    }\n",
       "\n",
       "    .dataframe thead th {\n",
       "        text-align: right;\n",
       "    }\n",
       "</style>\n",
       "<table border=\"1\" class=\"dataframe\">\n",
       "  <thead>\n",
       "    <tr style=\"text-align: right;\">\n",
       "      <th></th>\n",
       "      <th>chaju_id</th>\n",
       "      <th>credit_class</th>\n",
       "      <th>score_risk</th>\n",
       "      <th>gender</th>\n",
       "      <th>age</th>\n",
       "      <th>agegroup</th>\n",
       "      <th>job</th>\n",
       "      <th>edu</th>\n",
       "      <th>dwell_type</th>\n",
       "      <th>house_type</th>\n",
       "      <th>marriage</th>\n",
       "      <th>income_home_grp</th>\n",
       "      <th>income_ind_grp</th>\n",
       "      <th>expenditure_grp</th>\n",
       "      <th>child_cd</th>\n",
       "      <th>no_child</th>\n",
       "      <th>flag_priv_biz_cd</th>\n",
       "    </tr>\n",
       "  </thead>\n",
       "  <tbody>\n",
       "    <tr>\n",
       "      <th>0</th>\n",
       "      <td>C-1001</td>\n",
       "      <td>C05</td>\n",
       "      <td>478</td>\n",
       "      <td>남성</td>\n",
       "      <td>30</td>\n",
       "      <td>30대</td>\n",
       "      <td>기능/노무직</td>\n",
       "      <td>대학교 졸업</td>\n",
       "      <td>자가</td>\n",
       "      <td>아파트</td>\n",
       "      <td>미혼</td>\n",
       "      <td>900-999만원</td>\n",
       "      <td>300-399만원</td>\n",
       "      <td>100-199만원</td>\n",
       "      <td>Y</td>\n",
       "      <td>0</td>\n",
       "      <td>N</td>\n",
       "    </tr>\n",
       "    <tr>\n",
       "      <th>1</th>\n",
       "      <td>C-1002</td>\n",
       "      <td>C05</td>\n",
       "      <td>484</td>\n",
       "      <td>여성</td>\n",
       "      <td>66</td>\n",
       "      <td>60대</td>\n",
       "      <td>전업주부</td>\n",
       "      <td>초등학교 졸업</td>\n",
       "      <td>자가</td>\n",
       "      <td>아파트</td>\n",
       "      <td>기혼</td>\n",
       "      <td>200-299만원</td>\n",
       "      <td>모름/무응답</td>\n",
       "      <td>99만원 이하</td>\n",
       "      <td>N</td>\n",
       "      <td>3</td>\n",
       "      <td>Y</td>\n",
       "    </tr>\n",
       "    <tr>\n",
       "      <th>2</th>\n",
       "      <td>C-1003</td>\n",
       "      <td>C05</td>\n",
       "      <td>478</td>\n",
       "      <td>남성</td>\n",
       "      <td>43</td>\n",
       "      <td>40대</td>\n",
       "      <td>판매/서비스직</td>\n",
       "      <td>대학교 졸업</td>\n",
       "      <td>자가</td>\n",
       "      <td>아파트</td>\n",
       "      <td>기혼</td>\n",
       "      <td>500-599만원</td>\n",
       "      <td>500-599만원</td>\n",
       "      <td>100-199만원</td>\n",
       "      <td>N</td>\n",
       "      <td>2</td>\n",
       "      <td>N</td>\n",
       "    </tr>\n",
       "    <tr>\n",
       "      <th>3</th>\n",
       "      <td>C-1004</td>\n",
       "      <td>C05</td>\n",
       "      <td>445</td>\n",
       "      <td>남성</td>\n",
       "      <td>28</td>\n",
       "      <td>20대</td>\n",
       "      <td>무직/기타</td>\n",
       "      <td>대학교 졸업</td>\n",
       "      <td>자가</td>\n",
       "      <td>아파트</td>\n",
       "      <td>미혼</td>\n",
       "      <td>500-599만원</td>\n",
       "      <td>모름/무응답</td>\n",
       "      <td>99만원 이하</td>\n",
       "      <td>Y</td>\n",
       "      <td>0</td>\n",
       "      <td>N</td>\n",
       "    </tr>\n",
       "    <tr>\n",
       "      <th>4</th>\n",
       "      <td>C-1005</td>\n",
       "      <td>C05</td>\n",
       "      <td>421</td>\n",
       "      <td>남성</td>\n",
       "      <td>52</td>\n",
       "      <td>50대</td>\n",
       "      <td>행정관리/전문직</td>\n",
       "      <td>대학교 졸업</td>\n",
       "      <td>자가</td>\n",
       "      <td>아파트</td>\n",
       "      <td>기혼</td>\n",
       "      <td>500-599만원</td>\n",
       "      <td>500-599만원</td>\n",
       "      <td>200-299만원</td>\n",
       "      <td>N</td>\n",
       "      <td>2</td>\n",
       "      <td>N</td>\n",
       "    </tr>\n",
       "  </tbody>\n",
       "</table>\n",
       "</div>"
      ],
      "text/plain": [
       "  chaju_id credit_class  score_risk gender  age agegroup       job      edu  \\\n",
       "0   C-1001          C05         478     남성   30      30대    기능/노무직   대학교 졸업   \n",
       "1   C-1002          C05         484     여성   66      60대      전업주부  초등학교 졸업   \n",
       "2   C-1003          C05         478     남성   43      40대   판매/서비스직   대학교 졸업   \n",
       "3   C-1004          C05         445     남성   28      20대     무직/기타   대학교 졸업   \n",
       "4   C-1005          C05         421     남성   52      50대  행정관리/전문직   대학교 졸업   \n",
       "\n",
       "  dwell_type house_type marriage income_home_grp income_ind_grp  \\\n",
       "0         자가        아파트       미혼       900-999만원      300-399만원   \n",
       "1         자가        아파트       기혼       200-299만원         모름/무응답   \n",
       "2         자가        아파트       기혼       500-599만원      500-599만원   \n",
       "3         자가        아파트       미혼       500-599만원         모름/무응답   \n",
       "4         자가        아파트       기혼       500-599만원      500-599만원   \n",
       "\n",
       "  expenditure_grp child_cd  no_child flag_priv_biz_cd  \n",
       "0       100-199만원        Y         0                N  \n",
       "1         99만원 이하        N         3                Y  \n",
       "2       100-199만원        N         2                N  \n",
       "3         99만원 이하        Y         0                N  \n",
       "4       200-299만원        N         2                N  "
      ]
     },
     "execution_count": 2,
     "metadata": {},
     "output_type": "execute_result"
    }
   ],
   "source": [
    "df_chaju = pd.read_csv(path + \"/CreDB_chaju.CSV\", engine = \"python\", encoding=\"cp949\")\n",
    "df_chaju.head()"
   ]
  },
  {
   "cell_type": "code",
   "execution_count": 3,
   "metadata": {
    "ExecuteTime": {
     "end_time": "2021-11-13T05:51:38.466332Z",
     "start_time": "2021-11-13T05:51:38.452962Z"
    }
   },
   "outputs": [
    {
     "name": "stdout",
     "output_type": "stream",
     "text": [
      "<class 'pandas.core.frame.DataFrame'>\n",
      "RangeIndex: 1984 entries, 0 to 1983\n",
      "Data columns (total 17 columns):\n",
      " #   Column            Non-Null Count  Dtype \n",
      "---  ------            --------------  ----- \n",
      " 0   chaju_id          1984 non-null   object\n",
      " 1   credit_class      1984 non-null   object\n",
      " 2   score_risk        1984 non-null   int64 \n",
      " 3   gender            1984 non-null   object\n",
      " 4   age               1984 non-null   int64 \n",
      " 5   agegroup          1984 non-null   object\n",
      " 6   job               1984 non-null   object\n",
      " 7   edu               1984 non-null   object\n",
      " 8   dwell_type        1984 non-null   object\n",
      " 9   house_type        1984 non-null   object\n",
      " 10  marriage          1984 non-null   object\n",
      " 11  income_home_grp   1984 non-null   object\n",
      " 12  income_ind_grp    1984 non-null   object\n",
      " 13  expenditure_grp   1984 non-null   object\n",
      " 14  child_cd          1984 non-null   object\n",
      " 15  no_child          1984 non-null   int64 \n",
      " 16  flag_priv_biz_cd  1984 non-null   object\n",
      "dtypes: int64(3), object(14)\n",
      "memory usage: 263.6+ KB\n"
     ]
    }
   ],
   "source": [
    "df_chaju.info()"
   ]
  },
  {
   "cell_type": "code",
   "execution_count": 89,
   "metadata": {
    "ExecuteTime": {
     "end_time": "2021-11-13T08:52:58.599899Z",
     "start_time": "2021-11-13T08:52:58.583115Z"
    },
    "scrolled": true
   },
   "outputs": [
    {
     "data": {
      "text/plain": [
       "chaju_id            0\n",
       "credit_class        0\n",
       "score_risk          0\n",
       "gender              0\n",
       "age                 0\n",
       "agegroup            0\n",
       "job                 0\n",
       "edu                 0\n",
       "dwell_type          0\n",
       "house_type          0\n",
       "marriage            0\n",
       "income_home_grp     0\n",
       "income_ind_grp      0\n",
       "expenditure_grp     0\n",
       "child_cd            0\n",
       "no_child            0\n",
       "flag_priv_biz_cd    0\n",
       "dtype: int64"
      ]
     },
     "execution_count": 89,
     "metadata": {},
     "output_type": "execute_result"
    }
   ],
   "source": [
    "df_chaju.isna().sum()"
   ]
  },
  {
   "cell_type": "code",
   "execution_count": 6,
   "metadata": {
    "ExecuteTime": {
     "end_time": "2021-11-13T05:52:09.794488Z",
     "start_time": "2021-11-13T05:52:09.758711Z"
    },
    "scrolled": false
   },
   "outputs": [
    {
     "data": {
      "text/html": [
       "<div>\n",
       "<style scoped>\n",
       "    .dataframe tbody tr th:only-of-type {\n",
       "        vertical-align: middle;\n",
       "    }\n",
       "\n",
       "    .dataframe tbody tr th {\n",
       "        vertical-align: top;\n",
       "    }\n",
       "\n",
       "    .dataframe thead th {\n",
       "        text-align: right;\n",
       "    }\n",
       "</style>\n",
       "<table border=\"1\" class=\"dataframe\">\n",
       "  <thead>\n",
       "    <tr style=\"text-align: right;\">\n",
       "      <th></th>\n",
       "      <th>score_risk</th>\n",
       "      <th>age</th>\n",
       "      <th>no_child</th>\n",
       "    </tr>\n",
       "  </thead>\n",
       "  <tbody>\n",
       "    <tr>\n",
       "      <th>count</th>\n",
       "      <td>1984.000000</td>\n",
       "      <td>1984.000000</td>\n",
       "      <td>1984.000000</td>\n",
       "    </tr>\n",
       "    <tr>\n",
       "      <th>mean</th>\n",
       "      <td>431.570060</td>\n",
       "      <td>48.907258</td>\n",
       "      <td>1.358871</td>\n",
       "    </tr>\n",
       "    <tr>\n",
       "      <th>std</th>\n",
       "      <td>97.223664</td>\n",
       "      <td>14.958557</td>\n",
       "      <td>0.921663</td>\n",
       "    </tr>\n",
       "    <tr>\n",
       "      <th>min</th>\n",
       "      <td>185.000000</td>\n",
       "      <td>21.000000</td>\n",
       "      <td>0.000000</td>\n",
       "    </tr>\n",
       "    <tr>\n",
       "      <th>25%</th>\n",
       "      <td>360.000000</td>\n",
       "      <td>37.000000</td>\n",
       "      <td>0.000000</td>\n",
       "    </tr>\n",
       "    <tr>\n",
       "      <th>50%</th>\n",
       "      <td>428.000000</td>\n",
       "      <td>48.000000</td>\n",
       "      <td>2.000000</td>\n",
       "    </tr>\n",
       "    <tr>\n",
       "      <th>75%</th>\n",
       "      <td>491.000000</td>\n",
       "      <td>60.000000</td>\n",
       "      <td>2.000000</td>\n",
       "    </tr>\n",
       "    <tr>\n",
       "      <th>max</th>\n",
       "      <td>824.000000</td>\n",
       "      <td>85.000000</td>\n",
       "      <td>3.000000</td>\n",
       "    </tr>\n",
       "  </tbody>\n",
       "</table>\n",
       "</div>"
      ],
      "text/plain": [
       "        score_risk          age     no_child\n",
       "count  1984.000000  1984.000000  1984.000000\n",
       "mean    431.570060    48.907258     1.358871\n",
       "std      97.223664    14.958557     0.921663\n",
       "min     185.000000    21.000000     0.000000\n",
       "25%     360.000000    37.000000     0.000000\n",
       "50%     428.000000    48.000000     2.000000\n",
       "75%     491.000000    60.000000     2.000000\n",
       "max     824.000000    85.000000     3.000000"
      ]
     },
     "execution_count": 6,
     "metadata": {},
     "output_type": "execute_result"
    }
   ],
   "source": [
    "df_chaju.describe()"
   ]
  },
  {
   "cell_type": "markdown",
   "metadata": {},
   "source": [
    "### 차주 id"
   ]
  },
  {
   "cell_type": "code",
   "execution_count": 7,
   "metadata": {
    "ExecuteTime": {
     "end_time": "2021-11-13T05:52:10.511871Z",
     "start_time": "2021-11-13T05:52:10.495969Z"
    },
    "scrolled": true
   },
   "outputs": [
    {
     "data": {
      "text/plain": [
       "C-1803    1\n",
       "C-2332    1\n",
       "C-1036    1\n",
       "C-1623    1\n",
       "C-2939    1\n",
       "         ..\n",
       "C-2570    1\n",
       "C-2954    1\n",
       "C-1452    1\n",
       "C-2000    1\n",
       "C-2980    1\n",
       "Name: chaju_id, Length: 1984, dtype: int64"
      ]
     },
     "execution_count": 7,
     "metadata": {},
     "output_type": "execute_result"
    }
   ],
   "source": [
    "df_chaju['chaju_id'].value_counts()"
   ]
  },
  {
   "cell_type": "markdown",
   "metadata": {},
   "source": [
    "### 차주 신용등급"
   ]
  },
  {
   "cell_type": "code",
   "execution_count": 68,
   "metadata": {
    "ExecuteTime": {
     "end_time": "2021-11-13T08:35:38.392550Z",
     "start_time": "2021-11-13T08:35:38.379638Z"
    }
   },
   "outputs": [
    {
     "data": {
      "text/plain": [
       "C05    739\n",
       "C04    657\n",
       "C06    348\n",
       "C03    136\n",
       "C07     77\n",
       "C08     18\n",
       "C02      5\n",
       "C09      4\n",
       "Name: credit_class, dtype: int64"
      ]
     },
     "execution_count": 68,
     "metadata": {},
     "output_type": "execute_result"
    }
   ],
   "source": [
    "df_chaju['credit_class'].value_counts()"
   ]
  },
  {
   "cell_type": "code",
   "execution_count": 95,
   "metadata": {
    "ExecuteTime": {
     "end_time": "2021-11-13T09:07:01.690832Z",
     "start_time": "2021-11-13T09:07:01.533100Z"
    }
   },
   "outputs": [
    {
     "data": {
      "text/plain": [
       "(array([739., 348., 657.,   0.,  77., 136.,   0.,  18.,   4.,   5.]),\n",
       " array([0. , 0.7, 1.4, 2.1, 2.8, 3.5, 4.2, 4.9, 5.6, 6.3, 7. ]),\n",
       " <BarContainer object of 10 artists>)"
      ]
     },
     "execution_count": 95,
     "metadata": {},
     "output_type": "execute_result"
    },
    {
     "data": {
      "image/png": "[encoded data removed]",
      "text/plain": [
       "<Figure size 432x288 with 1 Axes>"
      ]
     },
     "metadata": {
      "needs_background": "light"
     },
     "output_type": "display_data"
    }
   ],
   "source": [
    "credit_class = df_chaju['credit_class']\n",
    "plt.hist(credit_class)"
   ]
  },
  {
   "cell_type": "markdown",
   "metadata": {},
   "source": [
    "### 차주 위험점수"
   ]
  },
  {
   "cell_type": "code",
   "execution_count": 70,
   "metadata": {
    "ExecuteTime": {
     "end_time": "2021-11-13T08:36:02.891935Z",
     "start_time": "2021-11-13T08:36:02.877076Z"
    }
   },
   "outputs": [
    {
     "data": {
      "text/plain": [
       "478    43\n",
       "438    43\n",
       "428    41\n",
       "398    38\n",
       "338    35\n",
       "       ..\n",
       "611     1\n",
       "615     1\n",
       "625     1\n",
       "634     1\n",
       "824     1\n",
       "Name: score_risk, Length: 225, dtype: int64"
      ]
     },
     "execution_count": 70,
     "metadata": {},
     "output_type": "execute_result"
    }
   ],
   "source": [
    "df_chaju['score_risk'].value_counts()"
   ]
  },
  {
   "cell_type": "markdown",
   "metadata": {},
   "source": [
    "### 성별"
   ]
  },
  {
   "cell_type": "code",
   "execution_count": 8,
   "metadata": {
    "ExecuteTime": {
     "end_time": "2021-11-13T05:52:11.550629Z",
     "start_time": "2021-11-13T05:52:11.536805Z"
    }
   },
   "outputs": [
    {
     "data": {
      "text/plain": [
       "남성    1090\n",
       "여성     894\n",
       "Name: gender, dtype: int64"
      ]
     },
     "execution_count": 8,
     "metadata": {},
     "output_type": "execute_result"
    }
   ],
   "source": [
    "df_chaju['gender'].value_counts()"
   ]
  },
  {
   "cell_type": "markdown",
   "metadata": {},
   "source": [
    "### 연령그룹"
   ]
  },
  {
   "cell_type": "code",
   "execution_count": 9,
   "metadata": {
    "ExecuteTime": {
     "end_time": "2021-11-13T05:52:12.224521Z",
     "start_time": "2021-11-13T05:52:12.207425Z"
    },
    "scrolled": true
   },
   "outputs": [
    {
     "data": {
      "text/plain": [
       "40대      462\n",
       "50대      420\n",
       "30대      372\n",
       "60대      323\n",
       "20대      220\n",
       "70대      133\n",
       "80대이상     54\n",
       "Name: agegroup, dtype: int64"
      ]
     },
     "execution_count": 9,
     "metadata": {},
     "output_type": "execute_result"
    }
   ],
   "source": [
    "df_chaju['agegroup'].value_counts()"
   ]
  },
  {
   "cell_type": "code",
   "execution_count": 96,
   "metadata": {
    "ExecuteTime": {
     "end_time": "2021-11-13T09:07:41.066666Z",
     "start_time": "2021-11-13T09:07:40.925090Z"
    }
   },
   "outputs": [
    {
     "data": {
      "text/plain": [
       "(array([372., 323.,   0., 462.,   0., 220., 420.,   0., 133.,  54.]),\n",
       " array([0. , 0.6, 1.2, 1.8, 2.4, 3. , 3.6, 4.2, 4.8, 5.4, 6. ]),\n",
       " <BarContainer object of 10 artists>)"
      ]
     },
     "execution_count": 96,
     "metadata": {},
     "output_type": "execute_result"
    },
    {
     "data": {
      "image/png": "[encoded data removed]",
      "text/plain": [
       "<Figure size 432x288 with 1 Axes>"
      ]
     },
     "metadata": {
      "needs_background": "light"
     },
     "output_type": "display_data"
    }
   ],
   "source": [
    "agegroup = df_chaju['agegroup']\n",
    "plt.hist(agegroup)"
   ]
  },
  {
   "cell_type": "markdown",
   "metadata": {},
   "source": [
    "### 직업"
   ]
  },
  {
   "cell_type": "code",
   "execution_count": 55,
   "metadata": {
    "ExecuteTime": {
     "end_time": "2021-11-13T08:27:08.885561Z",
     "start_time": "2021-11-13T08:27:08.872270Z"
    }
   },
   "outputs": [
    {
     "data": {
      "text/plain": [
       "기능/노무직       435\n",
       "사무직          405\n",
       "판매/서비스직      364\n",
       "전업주부         360\n",
       "행정관리/전문직     174\n",
       "무직/기타        136\n",
       "학생(재수생포함)    110\n",
       "Name: job, dtype: int64"
      ]
     },
     "execution_count": 55,
     "metadata": {},
     "output_type": "execute_result"
    }
   ],
   "source": [
    "df_chaju['job'].value_counts()"
   ]
  },
  {
   "cell_type": "code",
   "execution_count": 99,
   "metadata": {
    "ExecuteTime": {
     "end_time": "2021-11-13T09:12:16.353465Z",
     "start_time": "2021-11-13T09:12:16.191836Z"
    }
   },
   "outputs": [
    {
     "data": {
      "text/plain": [
       "(array([435., 360.,   0., 364.,   0., 136., 174.,   0., 110., 405.]),\n",
       " array([0. , 0.6, 1.2, 1.8, 2.4, 3. , 3.6, 4.2, 4.8, 5.4, 6. ]),\n",
       " <BarContainer object of 10 artists>)"
      ]
     },
     "execution_count": 99,
     "metadata": {},
     "output_type": "execute_result"
    },
    {
     "data": {
      "image/png": "[encoded data removed]",
      "text/plain": [
       "<Figure size 936x576 with 1 Axes>"
      ]
     },
     "metadata": {
      "needs_background": "light"
     },
     "output_type": "display_data"
    }
   ],
   "source": [
    "plt.figure(figsize=(13,8))\n",
    "job = df_chaju['job']\n",
    "plt.hist(job)"
   ]
  },
  {
   "cell_type": "markdown",
   "metadata": {},
   "source": [
    "### 교육수준"
   ]
  },
  {
   "cell_type": "code",
   "execution_count": 56,
   "metadata": {
    "ExecuteTime": {
     "end_time": "2021-11-13T08:27:09.697382Z",
     "start_time": "2021-11-13T08:27:09.684102Z"
    }
   },
   "outputs": [
    {
     "data": {
      "text/plain": [
       "대학교 졸업     719\n",
       "고등학교 졸업    707\n",
       "전문대학 졸업    223\n",
       "중학교 졸업     146\n",
       "대학교 재학      84\n",
       "대학원 졸업      73\n",
       "대학원 재학      16\n",
       "초등학교 졸업     13\n",
       "전문대학 재학      2\n",
       "고등학교 재학      1\n",
       "Name: edu, dtype: int64"
      ]
     },
     "execution_count": 56,
     "metadata": {},
     "output_type": "execute_result"
    }
   ],
   "source": [
    "df_chaju['edu'].value_counts()"
   ]
  },
  {
   "cell_type": "code",
   "execution_count": 108,
   "metadata": {
    "ExecuteTime": {
     "end_time": "2021-11-13T09:15:15.515755Z",
     "start_time": "2021-11-13T09:15:15.327981Z"
    }
   },
   "outputs": [
    {
     "data": {
      "text/plain": [
       "(array([719.,  13., 707.,  84., 223., 146.,  73.,  16.,   1.,   2.]),\n",
       " array([0. , 0.9, 1.8, 2.7, 3.6, 4.5, 5.4, 6.3, 7.2, 8.1, 9. ]),\n",
       " <BarContainer object of 10 artists>)"
      ]
     },
     "execution_count": 108,
     "metadata": {},
     "output_type": "execute_result"
    },
    {
     "data": {
      "image/png": "[encoded data removed]",
      "text/plain": [
       "<Figure size 1080x576 with 1 Axes>"
      ]
     },
     "metadata": {
      "needs_background": "light"
     },
     "output_type": "display_data"
    }
   ],
   "source": [
    "plt.figure(figsize=(15,8))\n",
    "edu = df_chaju['edu']\n",
    "plt.hist(edu)"
   ]
  },
  {
   "cell_type": "markdown",
   "metadata": {},
   "source": [
    "### 주거형태"
   ]
  },
  {
   "cell_type": "code",
   "execution_count": 106,
   "metadata": {
    "ExecuteTime": {
     "end_time": "2021-11-13T09:15:03.880587Z",
     "start_time": "2021-11-13T09:15:03.868170Z"
    }
   },
   "outputs": [
    {
     "data": {
      "text/plain": [
       "자가       1550\n",
       "전세        338\n",
       "월세         85\n",
       "사택/기타       8\n",
       "영구임대        3\n",
       "Name: dwell_type, dtype: int64"
      ]
     },
     "execution_count": 106,
     "metadata": {},
     "output_type": "execute_result"
    }
   ],
   "source": [
    "df_chaju['dwell_type'].value_counts()"
   ]
  },
  {
   "cell_type": "code",
   "execution_count": 107,
   "metadata": {
    "ExecuteTime": {
     "end_time": "2021-11-13T09:15:06.282123Z",
     "start_time": "2021-11-13T09:15:06.111601Z"
    }
   },
   "outputs": [
    {
     "data": {
      "text/plain": [
       "(array([1550.,    0.,  338.,    0.,    0.,   85.,    0.,    3.,    0.,\n",
       "           8.]),\n",
       " array([0. , 0.4, 0.8, 1.2, 1.6, 2. , 2.4, 2.8, 3.2, 3.6, 4. ]),\n",
       " <BarContainer object of 10 artists>)"
      ]
     },
     "execution_count": 107,
     "metadata": {},
     "output_type": "execute_result"
    },
    {
     "data": {
      "image/png": "[encoded data removed]",
      "text/plain": [
       "<Figure size 720x576 with 1 Axes>"
      ]
     },
     "metadata": {
      "needs_background": "light"
     },
     "output_type": "display_data"
    }
   ],
   "source": [
    "plt.figure(figsize=(10,8))\n",
    "dwell_type = df_chaju['dwell_type']\n",
    "plt.hist(dwell_type)"
   ]
  },
  {
   "cell_type": "markdown",
   "metadata": {},
   "source": [
    "### 주택형태"
   ]
  },
  {
   "cell_type": "code",
   "execution_count": 58,
   "metadata": {
    "ExecuteTime": {
     "end_time": "2021-11-13T08:29:24.341892Z",
     "start_time": "2021-11-13T08:29:24.328746Z"
    }
   },
   "outputs": [
    {
     "data": {
      "text/plain": [
       "아파트          1190\n",
       "단독주택          405\n",
       "연립/다세대/빌라     355\n",
       "오피스텔           19\n",
       "상가주택           11\n",
       "기타              4\n",
       "Name: house_type, dtype: int64"
      ]
     },
     "execution_count": 58,
     "metadata": {},
     "output_type": "execute_result"
    }
   ],
   "source": [
    "df_chaju['house_type'].value_counts()"
   ]
  },
  {
   "cell_type": "code",
   "execution_count": 109,
   "metadata": {
    "ExecuteTime": {
     "end_time": "2021-11-13T09:16:23.744318Z",
     "start_time": "2021-11-13T09:16:23.586233Z"
    }
   },
   "outputs": [
    {
     "data": {
      "text/plain": [
       "(array([1190.,    0.,  355.,    0.,  405.,    0.,   19.,    0.,    4.,\n",
       "          11.]),\n",
       " array([0. , 0.5, 1. , 1.5, 2. , 2.5, 3. , 3.5, 4. , 4.5, 5. ]),\n",
       " <BarContainer object of 10 artists>)"
      ]
     },
     "execution_count": 109,
     "metadata": {},
     "output_type": "execute_result"
    },
    {
     "data": {
      "image/png": "[encoded data removed]",
      "text/plain": [
       "<Figure size 720x576 with 1 Axes>"
      ]
     },
     "metadata": {
      "needs_background": "light"
     },
     "output_type": "display_data"
    }
   ],
   "source": [
    "plt.figure(figsize=(10,8))\n",
    "house_type = df_chaju['house_type']\n",
    "plt.hist(house_type)"
   ]
  },
  {
   "cell_type": "markdown",
   "metadata": {},
   "source": [
    "### 결혼상태"
   ]
  },
  {
   "cell_type": "code",
   "execution_count": 67,
   "metadata": {
    "ExecuteTime": {
     "end_time": "2021-11-13T08:32:41.611196Z",
     "start_time": "2021-11-13T08:32:41.597930Z"
    }
   },
   "outputs": [
    {
     "data": {
      "text/plain": [
       "기혼              1442\n",
       "미혼               442\n",
       "기타(이혼/별거/사별)     100\n",
       "Name: marriage, dtype: int64"
      ]
     },
     "execution_count": 67,
     "metadata": {},
     "output_type": "execute_result"
    }
   ],
   "source": [
    "df_chaju['marriage'].value_counts()"
   ]
  },
  {
   "cell_type": "code",
   "execution_count": 110,
   "metadata": {
    "ExecuteTime": {
     "end_time": "2021-11-13T09:16:56.699561Z",
     "start_time": "2021-11-13T09:16:56.562497Z"
    }
   },
   "outputs": [
    {
     "data": {
      "text/plain": [
       "(array([ 442.,    0.,    0.,    0.,    0., 1442.,    0.,    0.,    0.,\n",
       "         100.]),\n",
       " array([0. , 0.2, 0.4, 0.6, 0.8, 1. , 1.2, 1.4, 1.6, 1.8, 2. ]),\n",
       " <BarContainer object of 10 artists>)"
      ]
     },
     "execution_count": 110,
     "metadata": {},
     "output_type": "execute_result"
    },
    {
     "data": {
      "image/png": "[encoded data removed]",
      "text/plain": [
       "<Figure size 720x576 with 1 Axes>"
      ]
     },
     "metadata": {
      "needs_background": "light"
     },
     "output_type": "display_data"
    }
   ],
   "source": [
    "plt.figure(figsize=(10,8))\n",
    "marriage = df_chaju['marriage']\n",
    "plt.hist(marriage)"
   ]
  },
  {
   "cell_type": "markdown",
   "metadata": {},
   "source": [
    "### 가족 월 평균수입"
   ]
  },
  {
   "cell_type": "code",
   "execution_count": 61,
   "metadata": {
    "ExecuteTime": {
     "end_time": "2021-11-13T08:29:53.558841Z",
     "start_time": "2021-11-13T08:29:53.544950Z"
    },
    "scrolled": true
   },
   "outputs": [
    {
     "data": {
      "text/plain": [
       "500-599만원    404\n",
       "300-399만원    393\n",
       "400-499만원    355\n",
       "600-699만원    247\n",
       "200-299만원    232\n",
       "700-799만원    119\n",
       "100-199만원     83\n",
       "800-899만원     56\n",
       "99만원 이하       54\n",
       "1000만원 이상     23\n",
       "900-999만원     18\n",
       "Name: income_home_grp, dtype: int64"
      ]
     },
     "execution_count": 61,
     "metadata": {},
     "output_type": "execute_result"
    }
   ],
   "source": [
    "df_chaju['income_home_grp'].value_counts()"
   ]
  },
  {
   "cell_type": "code",
   "execution_count": 112,
   "metadata": {
    "ExecuteTime": {
     "end_time": "2021-11-13T09:17:38.247665Z",
     "start_time": "2021-11-13T09:17:38.056135Z"
    }
   },
   "outputs": [
    {
     "data": {
      "text/plain": [
       "(array([ 18., 232., 404., 393., 355.,  56., 247.,  83., 119.,  77.]),\n",
       " array([ 0.,  1.,  2.,  3.,  4.,  5.,  6.,  7.,  8.,  9., 10.]),\n",
       " <BarContainer object of 10 artists>)"
      ]
     },
     "execution_count": 112,
     "metadata": {},
     "output_type": "execute_result"
    },
    {
     "data": {
      "image/png": "[encoded data removed]",
      "text/plain": [
       "<Figure size 1080x576 with 1 Axes>"
      ]
     },
     "metadata": {
      "needs_background": "light"
     },
     "output_type": "display_data"
    }
   ],
   "source": [
    "plt.figure(figsize=(15,8))\n",
    "income_home_grp = df_chaju['income_home_grp']\n",
    "plt.hist(income_home_grp)"
   ]
  },
  {
   "cell_type": "markdown",
   "metadata": {},
   "source": [
    "### 개인 월평균수입"
   ]
  },
  {
   "cell_type": "code",
   "execution_count": 62,
   "metadata": {
    "ExecuteTime": {
     "end_time": "2021-11-13T08:30:08.966897Z",
     "start_time": "2021-11-13T08:30:08.952723Z"
    },
    "scrolled": true
   },
   "outputs": [
    {
     "data": {
      "text/plain": [
       "모름/무응답       604\n",
       "200-299만원    489\n",
       "300-399만원    332\n",
       "100-199만원    219\n",
       "400-499만원    142\n",
       "500-599만원     89\n",
       "600-699만원     64\n",
       "99만원 이하       24\n",
       "700-799만원     13\n",
       "800-899만원      4\n",
       "1000만원 이상      3\n",
       "900-999만원      1\n",
       "Name: income_ind_grp, dtype: int64"
      ]
     },
     "execution_count": 62,
     "metadata": {},
     "output_type": "execute_result"
    }
   ],
   "source": [
    "df_chaju['income_ind_grp'].value_counts()"
   ]
  },
  {
   "cell_type": "markdown",
   "metadata": {},
   "source": [
    "### 개인 월평균 지출"
   ]
  },
  {
   "cell_type": "code",
   "execution_count": 63,
   "metadata": {
    "ExecuteTime": {
     "end_time": "2021-11-13T08:30:35.046888Z",
     "start_time": "2021-11-13T08:30:35.033411Z"
    }
   },
   "outputs": [
    {
     "data": {
      "text/plain": [
       "100-199만원    914\n",
       "99만원 이하      867\n",
       "200-299만원    150\n",
       "300-399만원     41\n",
       "500-599만원      6\n",
       "400-499만원      6\n",
       "Name: expenditure_grp, dtype: int64"
      ]
     },
     "execution_count": 63,
     "metadata": {},
     "output_type": "execute_result"
    }
   ],
   "source": [
    "df_chaju['expenditure_grp'].value_counts()"
   ]
  },
  {
   "cell_type": "markdown",
   "metadata": {},
   "source": [
    "### 자녀 유무"
   ]
  },
  {
   "cell_type": "code",
   "execution_count": 64,
   "metadata": {
    "ExecuteTime": {
     "end_time": "2021-11-13T08:30:56.791956Z",
     "start_time": "2021-11-13T08:30:56.777960Z"
    },
    "scrolled": true
   },
   "outputs": [
    {
     "data": {
      "text/plain": [
       "N    1461\n",
       "Y     523\n",
       "Name: child_cd, dtype: int64"
      ]
     },
     "execution_count": 64,
     "metadata": {},
     "output_type": "execute_result"
    }
   ],
   "source": [
    "df_chaju['child_cd'].value_counts()"
   ]
  },
  {
   "cell_type": "markdown",
   "metadata": {},
   "source": [
    "### 자녀 수"
   ]
  },
  {
   "cell_type": "code",
   "execution_count": 65,
   "metadata": {
    "ExecuteTime": {
     "end_time": "2021-11-13T08:31:10.070912Z",
     "start_time": "2021-11-13T08:31:10.057742Z"
    },
    "scrolled": true
   },
   "outputs": [
    {
     "data": {
      "text/plain": [
       "2    1053\n",
       "0     523\n",
       "1     317\n",
       "3      91\n",
       "Name: no_child, dtype: int64"
      ]
     },
     "execution_count": 65,
     "metadata": {},
     "output_type": "execute_result"
    }
   ],
   "source": [
    "df_chaju['no_child'].value_counts()"
   ]
  },
  {
   "cell_type": "markdown",
   "metadata": {},
   "source": [
    "### 개인사업자여부"
   ]
  },
  {
   "cell_type": "code",
   "execution_count": 66,
   "metadata": {
    "ExecuteTime": {
     "end_time": "2021-11-13T08:31:24.777383Z",
     "start_time": "2021-11-13T08:31:24.762719Z"
    }
   },
   "outputs": [
    {
     "data": {
      "text/plain": [
       "N    1802\n",
       "Y     182\n",
       "Name: flag_priv_biz_cd, dtype: int64"
      ]
     },
     "execution_count": 66,
     "metadata": {},
     "output_type": "execute_result"
    }
   ],
   "source": [
    "df_chaju['flag_priv_biz_cd'].value_counts()"
   ]
  },
  {
   "cell_type": "markdown",
   "metadata": {},
   "source": [
    "### groupby"
   ]
  },
  {
   "cell_type": "code",
   "execution_count": 166,
   "metadata": {
    "ExecuteTime": {
     "end_time": "2021-11-13T13:42:25.092653Z",
     "start_time": "2021-11-13T13:42:25.062857Z"
    }
   },
   "outputs": [],
   "source": [
    "df_chaju_gb=df_chaju.groupby(['chaju_id','credit_class','score_risk','age','job','edu','dwell_type','house_type','marriage','income_home_grp','income_ind_grp','expenditure_grp','child_cd','no_child','flag_priv_biz_cd'])['agegroup'].count()\n",
    "df_chaju_gb=pd.DataFrame(df_chaju_gb)"
   ]
  },
  {
   "cell_type": "code",
   "execution_count": 167,
   "metadata": {
    "ExecuteTime": {
     "end_time": "2021-11-13T13:42:36.545756Z",
     "start_time": "2021-11-13T13:42:36.471643Z"
    }
   },
   "outputs": [
    {
     "data": {
      "text/html": [
       "<div>\n",
       "<style scoped>\n",
       "    .dataframe tbody tr th:only-of-type {\n",
       "        vertical-align: middle;\n",
       "    }\n",
       "\n",
       "    .dataframe tbody tr th {\n",
       "        vertical-align: top;\n",
       "    }\n",
       "\n",
       "    .dataframe thead th {\n",
       "        text-align: right;\n",
       "    }\n",
       "</style>\n",
       "<table border=\"1\" class=\"dataframe\">\n",
       "  <thead>\n",
       "    <tr style=\"text-align: right;\">\n",
       "      <th></th>\n",
       "      <th></th>\n",
       "      <th></th>\n",
       "      <th></th>\n",
       "      <th></th>\n",
       "      <th></th>\n",
       "      <th></th>\n",
       "      <th></th>\n",
       "      <th></th>\n",
       "      <th></th>\n",
       "      <th></th>\n",
       "      <th></th>\n",
       "      <th></th>\n",
       "      <th></th>\n",
       "      <th></th>\n",
       "      <th>agegroup</th>\n",
       "    </tr>\n",
       "    <tr>\n",
       "      <th>chaju_id</th>\n",
       "      <th>credit_class</th>\n",
       "      <th>score_risk</th>\n",
       "      <th>age</th>\n",
       "      <th>job</th>\n",
       "      <th>edu</th>\n",
       "      <th>dwell_type</th>\n",
       "      <th>house_type</th>\n",
       "      <th>marriage</th>\n",
       "      <th>income_home_grp</th>\n",
       "      <th>income_ind_grp</th>\n",
       "      <th>expenditure_grp</th>\n",
       "      <th>child_cd</th>\n",
       "      <th>no_child</th>\n",
       "      <th>flag_priv_biz_cd</th>\n",
       "      <th></th>\n",
       "    </tr>\n",
       "  </thead>\n",
       "  <tbody>\n",
       "    <tr>\n",
       "      <th>C-1001</th>\n",
       "      <th>C05</th>\n",
       "      <th>478</th>\n",
       "      <th>30</th>\n",
       "      <th>기능/노무직</th>\n",
       "      <th>대학교 졸업</th>\n",
       "      <th>자가</th>\n",
       "      <th>아파트</th>\n",
       "      <th>미혼</th>\n",
       "      <th>900-999만원</th>\n",
       "      <th>300-399만원</th>\n",
       "      <th>100-199만원</th>\n",
       "      <th>Y</th>\n",
       "      <th>0</th>\n",
       "      <th>N</th>\n",
       "      <td>1</td>\n",
       "    </tr>\n",
       "    <tr>\n",
       "      <th>C-1002</th>\n",
       "      <th>C05</th>\n",
       "      <th>484</th>\n",
       "      <th>66</th>\n",
       "      <th>전업주부</th>\n",
       "      <th>초등학교 졸업</th>\n",
       "      <th>자가</th>\n",
       "      <th>아파트</th>\n",
       "      <th>기혼</th>\n",
       "      <th>200-299만원</th>\n",
       "      <th>모름/무응답</th>\n",
       "      <th>99만원 이하</th>\n",
       "      <th>N</th>\n",
       "      <th>3</th>\n",
       "      <th>Y</th>\n",
       "      <td>1</td>\n",
       "    </tr>\n",
       "    <tr>\n",
       "      <th>C-1003</th>\n",
       "      <th>C05</th>\n",
       "      <th>478</th>\n",
       "      <th>43</th>\n",
       "      <th>판매/서비스직</th>\n",
       "      <th>대학교 졸업</th>\n",
       "      <th>자가</th>\n",
       "      <th>아파트</th>\n",
       "      <th>기혼</th>\n",
       "      <th>500-599만원</th>\n",
       "      <th>500-599만원</th>\n",
       "      <th>100-199만원</th>\n",
       "      <th>N</th>\n",
       "      <th>2</th>\n",
       "      <th>N</th>\n",
       "      <td>1</td>\n",
       "    </tr>\n",
       "    <tr>\n",
       "      <th>C-1004</th>\n",
       "      <th>C05</th>\n",
       "      <th>445</th>\n",
       "      <th>28</th>\n",
       "      <th>무직/기타</th>\n",
       "      <th>대학교 졸업</th>\n",
       "      <th>자가</th>\n",
       "      <th>아파트</th>\n",
       "      <th>미혼</th>\n",
       "      <th>500-599만원</th>\n",
       "      <th>모름/무응답</th>\n",
       "      <th>99만원 이하</th>\n",
       "      <th>Y</th>\n",
       "      <th>0</th>\n",
       "      <th>N</th>\n",
       "      <td>1</td>\n",
       "    </tr>\n",
       "    <tr>\n",
       "      <th>C-1005</th>\n",
       "      <th>C05</th>\n",
       "      <th>421</th>\n",
       "      <th>52</th>\n",
       "      <th>행정관리/전문직</th>\n",
       "      <th>대학교 졸업</th>\n",
       "      <th>자가</th>\n",
       "      <th>아파트</th>\n",
       "      <th>기혼</th>\n",
       "      <th>500-599만원</th>\n",
       "      <th>500-599만원</th>\n",
       "      <th>200-299만원</th>\n",
       "      <th>N</th>\n",
       "      <th>2</th>\n",
       "      <th>N</th>\n",
       "      <td>1</td>\n",
       "    </tr>\n",
       "    <tr>\n",
       "      <th>...</th>\n",
       "      <th>...</th>\n",
       "      <th>...</th>\n",
       "      <th>...</th>\n",
       "      <th>...</th>\n",
       "      <th>...</th>\n",
       "      <th>...</th>\n",
       "      <th>...</th>\n",
       "      <th>...</th>\n",
       "      <th>...</th>\n",
       "      <th>...</th>\n",
       "      <th>...</th>\n",
       "      <th>...</th>\n",
       "      <th>...</th>\n",
       "      <th>...</th>\n",
       "      <td>...</td>\n",
       "    </tr>\n",
       "    <tr>\n",
       "      <th>C-2996</th>\n",
       "      <th>C05</th>\n",
       "      <th>448</th>\n",
       "      <th>41</th>\n",
       "      <th>사무직</th>\n",
       "      <th>대학교 졸업</th>\n",
       "      <th>자가</th>\n",
       "      <th>단독주택</th>\n",
       "      <th>미혼</th>\n",
       "      <th>300-399만원</th>\n",
       "      <th>300-399만원</th>\n",
       "      <th>100-199만원</th>\n",
       "      <th>Y</th>\n",
       "      <th>0</th>\n",
       "      <th>N</th>\n",
       "      <td>1</td>\n",
       "    </tr>\n",
       "    <tr>\n",
       "      <th>C-2997</th>\n",
       "      <th>C04</th>\n",
       "      <th>308</th>\n",
       "      <th>37</th>\n",
       "      <th>사무직</th>\n",
       "      <th>대학교 졸업</th>\n",
       "      <th>자가</th>\n",
       "      <th>아파트</th>\n",
       "      <th>기혼</th>\n",
       "      <th>300-399만원</th>\n",
       "      <th>300-399만원</th>\n",
       "      <th>100-199만원</th>\n",
       "      <th>N</th>\n",
       "      <th>2</th>\n",
       "      <th>N</th>\n",
       "      <td>1</td>\n",
       "    </tr>\n",
       "    <tr>\n",
       "      <th>C-2998</th>\n",
       "      <th>C04</th>\n",
       "      <th>371</th>\n",
       "      <th>50</th>\n",
       "      <th>기능/노무직</th>\n",
       "      <th>고등학교 졸업</th>\n",
       "      <th>자가</th>\n",
       "      <th>아파트</th>\n",
       "      <th>기혼</th>\n",
       "      <th>500-599만원</th>\n",
       "      <th>100-199만원</th>\n",
       "      <th>100-199만원</th>\n",
       "      <th>N</th>\n",
       "      <th>2</th>\n",
       "      <th>N</th>\n",
       "      <td>1</td>\n",
       "    </tr>\n",
       "    <tr>\n",
       "      <th>C-2999</th>\n",
       "      <th>C04</th>\n",
       "      <th>398</th>\n",
       "      <th>42</th>\n",
       "      <th>기능/노무직</th>\n",
       "      <th>전문대학 졸업</th>\n",
       "      <th>전세</th>\n",
       "      <th>아파트</th>\n",
       "      <th>기혼</th>\n",
       "      <th>300-399만원</th>\n",
       "      <th>300-399만원</th>\n",
       "      <th>100-199만원</th>\n",
       "      <th>N</th>\n",
       "      <th>2</th>\n",
       "      <th>N</th>\n",
       "      <td>1</td>\n",
       "    </tr>\n",
       "    <tr>\n",
       "      <th>C-3000</th>\n",
       "      <th>C06</th>\n",
       "      <th>571</th>\n",
       "      <th>59</th>\n",
       "      <th>전업주부</th>\n",
       "      <th>고등학교 졸업</th>\n",
       "      <th>자가</th>\n",
       "      <th>아파트</th>\n",
       "      <th>기타(이혼/별거/사별)</th>\n",
       "      <th>99만원 이하</th>\n",
       "      <th>모름/무응답</th>\n",
       "      <th>99만원 이하</th>\n",
       "      <th>N</th>\n",
       "      <th>1</th>\n",
       "      <th>N</th>\n",
       "      <td>1</td>\n",
       "    </tr>\n",
       "  </tbody>\n",
       "</table>\n",
       "<p>1984 rows × 1 columns</p>\n",
       "</div>"
      ],
      "text/plain": [
       "                                                                                                                                                                            agegroup\n",
       "chaju_id credit_class score_risk age job      edu     dwell_type house_type marriage     income_home_grp income_ind_grp expenditure_grp child_cd no_child flag_priv_biz_cd          \n",
       "C-1001   C05          478        30  기능/노무직   대학교 졸업  자가         아파트        미혼           900-999만원       300-399만원      100-199만원       Y        0        N                        1\n",
       "C-1002   C05          484        66  전업주부     초등학교 졸업 자가         아파트        기혼           200-299만원       모름/무응답         99만원 이하         N        3        Y                        1\n",
       "C-1003   C05          478        43  판매/서비스직  대학교 졸업  자가         아파트        기혼           500-599만원       500-599만원      100-199만원       N        2        N                        1\n",
       "C-1004   C05          445        28  무직/기타    대학교 졸업  자가         아파트        미혼           500-599만원       모름/무응답         99만원 이하         Y        0        N                        1\n",
       "C-1005   C05          421        52  행정관리/전문직 대학교 졸업  자가         아파트        기혼           500-599만원       500-599만원      200-299만원       N        2        N                        1\n",
       "...                                                                                                                                                                              ...\n",
       "C-2996   C05          448        41  사무직      대학교 졸업  자가         단독주택       미혼           300-399만원       300-399만원      100-199만원       Y        0        N                        1\n",
       "C-2997   C04          308        37  사무직      대학교 졸업  자가         아파트        기혼           300-399만원       300-399만원      100-199만원       N        2        N                        1\n",
       "C-2998   C04          371        50  기능/노무직   고등학교 졸업 자가         아파트        기혼           500-599만원       100-199만원      100-199만원       N        2        N                        1\n",
       "C-2999   C04          398        42  기능/노무직   전문대학 졸업 전세         아파트        기혼           300-399만원       300-399만원      100-199만원       N        2        N                        1\n",
       "C-3000   C06          571        59  전업주부     고등학교 졸업 자가         아파트        기타(이혼/별거/사별) 99만원 이하         모름/무응답         99만원 이하         N        1        N                        1\n",
       "\n",
       "[1984 rows x 1 columns]"
      ]
     },
     "execution_count": 167,
     "metadata": {},
     "output_type": "execute_result"
    }
   ],
   "source": [
    "df_chaju_gb"
   ]
  },
  {
   "cell_type": "code",
   "execution_count": 169,
   "metadata": {
    "ExecuteTime": {
     "end_time": "2021-11-13T13:50:01.393077Z",
     "start_time": "2021-11-13T13:50:00.698363Z"
    }
   },
   "outputs": [],
   "source": [
    "df_chaju_gb.to_excel(\"차주정보.xlsx\")"
   ]
  },
  {
   "cell_type": "markdown",
   "metadata": {},
   "source": [
    "# LOAN"
   ]
  },
  {
   "cell_type": "code",
   "execution_count": 45,
   "metadata": {
    "ExecuteTime": {
     "end_time": "2021-11-13T07:52:45.947941Z",
     "start_time": "2021-11-13T07:52:45.209711Z"
    },
    "scrolled": false
   },
   "outputs": [
    {
     "data": {
      "text/html": [
       "<div>\n",
       "<style scoped>\n",
       "    .dataframe tbody tr th:only-of-type {\n",
       "        vertical-align: middle;\n",
       "    }\n",
       "\n",
       "    .dataframe tbody tr th {\n",
       "        vertical-align: top;\n",
       "    }\n",
       "\n",
       "    .dataframe thead th {\n",
       "        text-align: right;\n",
       "    }\n",
       "</style>\n",
       "<table border=\"1\" class=\"dataframe\">\n",
       "  <thead>\n",
       "    <tr style=\"text-align: right;\">\n",
       "      <th></th>\n",
       "      <th>chaju_id</th>\n",
       "      <th>com_id</th>\n",
       "      <th>check_ym</th>\n",
       "      <th>sector_cd</th>\n",
       "      <th>sector</th>\n",
       "      <th>loan_cd_1</th>\n",
       "      <th>loan_prod_1</th>\n",
       "      <th>loan_cd_2</th>\n",
       "      <th>loan_prod_2</th>\n",
       "      <th>loan_ym</th>\n",
       "      <th>loan_amt</th>\n",
       "    </tr>\n",
       "  </thead>\n",
       "  <tbody>\n",
       "    <tr>\n",
       "      <th>0</th>\n",
       "      <td>C-1001</td>\n",
       "      <td>S01-01010</td>\n",
       "      <td>201905</td>\n",
       "      <td>S01</td>\n",
       "      <td>은행(S01)</td>\n",
       "      <td>L0031</td>\n",
       "      <td>개인대출정보(카드대출 제외)</td>\n",
       "      <td>L220</td>\n",
       "      <td>주택담보대출</td>\n",
       "      <td>201810</td>\n",
       "      <td>19000000</td>\n",
       "    </tr>\n",
       "    <tr>\n",
       "      <th>1</th>\n",
       "      <td>C-1001</td>\n",
       "      <td>S01-01010</td>\n",
       "      <td>201901</td>\n",
       "      <td>S01</td>\n",
       "      <td>은행(S01)</td>\n",
       "      <td>L0031</td>\n",
       "      <td>개인대출정보(카드대출 제외)</td>\n",
       "      <td>L220</td>\n",
       "      <td>주택담보대출</td>\n",
       "      <td>201810</td>\n",
       "      <td>19000000</td>\n",
       "    </tr>\n",
       "    <tr>\n",
       "      <th>2</th>\n",
       "      <td>C-1001</td>\n",
       "      <td>S01-01010</td>\n",
       "      <td>201902</td>\n",
       "      <td>S01</td>\n",
       "      <td>은행(S01)</td>\n",
       "      <td>L0031</td>\n",
       "      <td>개인대출정보(카드대출 제외)</td>\n",
       "      <td>L220</td>\n",
       "      <td>주택담보대출</td>\n",
       "      <td>201810</td>\n",
       "      <td>19000000</td>\n",
       "    </tr>\n",
       "    <tr>\n",
       "      <th>3</th>\n",
       "      <td>C-1001</td>\n",
       "      <td>S01-01010</td>\n",
       "      <td>201812</td>\n",
       "      <td>S01</td>\n",
       "      <td>은행(S01)</td>\n",
       "      <td>L0031</td>\n",
       "      <td>개인대출정보(카드대출 제외)</td>\n",
       "      <td>L220</td>\n",
       "      <td>주택담보대출</td>\n",
       "      <td>201810</td>\n",
       "      <td>19000000</td>\n",
       "    </tr>\n",
       "    <tr>\n",
       "      <th>4</th>\n",
       "      <td>C-1001</td>\n",
       "      <td>S01-01010</td>\n",
       "      <td>201904</td>\n",
       "      <td>S01</td>\n",
       "      <td>은행(S01)</td>\n",
       "      <td>L0031</td>\n",
       "      <td>개인대출정보(카드대출 제외)</td>\n",
       "      <td>L220</td>\n",
       "      <td>주택담보대출</td>\n",
       "      <td>201810</td>\n",
       "      <td>19000000</td>\n",
       "    </tr>\n",
       "  </tbody>\n",
       "</table>\n",
       "</div>"
      ],
      "text/plain": [
       "  chaju_id     com_id  check_ym sector_cd   sector loan_cd_1      loan_prod_1  \\\n",
       "0   C-1001  S01-01010    201905       S01  은행(S01)     L0031  개인대출정보(카드대출 제외)   \n",
       "1   C-1001  S01-01010    201901       S01  은행(S01)     L0031  개인대출정보(카드대출 제외)   \n",
       "2   C-1001  S01-01010    201902       S01  은행(S01)     L0031  개인대출정보(카드대출 제외)   \n",
       "3   C-1001  S01-01010    201812       S01  은행(S01)     L0031  개인대출정보(카드대출 제외)   \n",
       "4   C-1001  S01-01010    201904       S01  은행(S01)     L0031  개인대출정보(카드대출 제외)   \n",
       "\n",
       "  loan_cd_2 loan_prod_2  loan_ym  loan_amt  \n",
       "0      L220      주택담보대출   201810  19000000  \n",
       "1      L220      주택담보대출   201810  19000000  \n",
       "2      L220      주택담보대출   201810  19000000  \n",
       "3      L220      주택담보대출   201810  19000000  \n",
       "4      L220      주택담보대출   201810  19000000  "
      ]
     },
     "execution_count": 45,
     "metadata": {},
     "output_type": "execute_result"
    }
   ],
   "source": [
    "df_loan = pd.read_csv(path + \"/CreDB_loan.csv\", engine = \"python\", encoding=\"cp949\")\n",
    "df_loan.head()"
   ]
  },
  {
   "cell_type": "code",
   "execution_count": 46,
   "metadata": {
    "ExecuteTime": {
     "end_time": "2021-11-13T07:52:51.878846Z",
     "start_time": "2021-11-13T07:52:51.847703Z"
    }
   },
   "outputs": [
    {
     "data": {
      "text/plain": [
       "C-2708    193\n",
       "C-2498    188\n",
       "C-2452    187\n",
       "C-1267    177\n",
       "C-1582    174\n",
       "         ... \n",
       "C-2775      1\n",
       "C-1386      1\n",
       "C-2754      1\n",
       "C-2903      1\n",
       "C-1316      1\n",
       "Name: chaju_id, Length: 1328, dtype: int64"
      ]
     },
     "execution_count": 46,
     "metadata": {},
     "output_type": "execute_result"
    }
   ],
   "source": [
    "df_loan[\"chaju_id\"].value_counts()"
   ]
  },
  {
   "cell_type": "markdown",
   "metadata": {},
   "source": [
    "### 대출기관 ID"
   ]
  },
  {
   "cell_type": "code",
   "execution_count": 79,
   "metadata": {
    "ExecuteTime": {
     "end_time": "2021-11-13T08:39:33.783150Z",
     "start_time": "2021-11-13T08:39:33.758526Z"
    }
   },
   "outputs": [
    {
     "data": {
      "text/plain": [
       "S01-01018    1401\n",
       "S01-01003    1386\n",
       "S01-01011    1257\n",
       "S01-01004    1245\n",
       "S05-01018    1205\n",
       "             ... \n",
       "S03-01161       2\n",
       "S03-01112       1\n",
       "S98-01024       1\n",
       "S03-01045       1\n",
       "S06-01013       1\n",
       "Name: com_id, Length: 425, dtype: int64"
      ]
     },
     "execution_count": 79,
     "metadata": {},
     "output_type": "execute_result"
    }
   ],
   "source": [
    "df_loan[\"com_id\"].value_counts()"
   ]
  },
  {
   "cell_type": "markdown",
   "metadata": {},
   "source": [
    "### 업권코드"
   ]
  },
  {
   "cell_type": "code",
   "execution_count": 78,
   "metadata": {
    "ExecuteTime": {
     "end_time": "2021-11-13T08:39:18.713142Z",
     "start_time": "2021-11-13T08:39:18.688388Z"
    }
   },
   "outputs": [
    {
     "data": {
      "text/plain": [
       "S01    19633\n",
       "S05    15553\n",
       "S03     7650\n",
       "S17     6799\n",
       "S21     5127\n",
       "S98     2696\n",
       "S08      851\n",
       "S06      466\n",
       "Name: sector_cd, dtype: int64"
      ]
     },
     "execution_count": 78,
     "metadata": {},
     "output_type": "execute_result"
    }
   ],
   "source": [
    "df_loan[\"sector_cd\"].value_counts()"
   ]
  },
  {
   "cell_type": "markdown",
   "metadata": {},
   "source": [
    "### 상권"
   ]
  },
  {
   "cell_type": "code",
   "execution_count": 72,
   "metadata": {
    "ExecuteTime": {
     "end_time": "2021-11-13T08:37:01.159558Z",
     "start_time": "2021-11-13T08:37:01.133292Z"
    }
   },
   "outputs": [
    {
     "data": {
      "text/plain": [
       "은행(S01)                 19633\n",
       "신용카드사(S05)              15553\n",
       "상호금융-농협/수협/금고 등(S03)     7650\n",
       "캐피탈/할부/리스 등(S17)         6799\n",
       "상호저축은행(S21)              5127\n",
       "기타-장학재단/기금 등(S98)        2696\n",
       "손해보험사(S08)                851\n",
       "생명보험사(S06)                466\n",
       "Name: sector, dtype: int64"
      ]
     },
     "execution_count": 72,
     "metadata": {},
     "output_type": "execute_result"
    }
   ],
   "source": [
    "df_loan[\"sector\"].value_counts()"
   ]
  },
  {
   "cell_type": "markdown",
   "metadata": {},
   "source": [
    "### 대출상품1"
   ]
  },
  {
   "cell_type": "code",
   "execution_count": 76,
   "metadata": {
    "ExecuteTime": {
     "end_time": "2021-11-13T08:38:21.532439Z",
     "start_time": "2021-11-13T08:38:21.502568Z"
    }
   },
   "outputs": [
    {
     "data": {
      "text/plain": [
       "개인대출정보(카드대출 제외)    42400\n",
       "단기카드대출              8367\n",
       "장기카드대출              8008\n",
       "Name: loan_prod_1, dtype: int64"
      ]
     },
     "execution_count": 76,
     "metadata": {},
     "output_type": "execute_result"
    }
   ],
   "source": [
    "df_loan[\"loan_prod_1\"].value_counts()"
   ]
  },
  {
   "cell_type": "markdown",
   "metadata": {},
   "source": [
    "### 대출상품2"
   ]
  },
  {
   "cell_type": "code",
   "execution_count": 77,
   "metadata": {
    "ExecuteTime": {
     "end_time": "2021-11-13T08:38:36.033911Z",
     "start_time": "2021-11-13T08:38:35.998764Z"
    }
   },
   "outputs": [
    {
     "data": {
      "text/plain": [
       "신용대출                   20294\n",
       "단기카드대출(현금서비스)           8367\n",
       "장기카드대출(카드론)             8008\n",
       "주택담보대출                  7016\n",
       "지급보증(보증서)담보대출           2772\n",
       "신차할부                    2711\n",
       "학자금대출                   1722\n",
       "주택외부동산(토지,상가 등)담보대출     1617\n",
       "예·적금담보대출                1608\n",
       "전세자금 대출                 1170\n",
       "중고차할부                    923\n",
       "기타담보대출                   862\n",
       "보금자리론                    514\n",
       "유가증권(주식 등)담보대출           472\n",
       "기타할부                     279\n",
       "운용리스                     196\n",
       "학자금지급보증대출                171\n",
       "금융리스                      62\n",
       "전세보증금 담보대출                 8\n",
       "전세자금대출                     3\n",
       "Name: loan_prod_2, dtype: int64"
      ]
     },
     "execution_count": 77,
     "metadata": {},
     "output_type": "execute_result"
    }
   ],
   "source": [
    "df_loan[\"loan_prod_2\"].value_counts()"
   ]
  },
  {
   "cell_type": "markdown",
   "metadata": {},
   "source": [
    "### 대출년월"
   ]
  },
  {
   "cell_type": "code",
   "execution_count": 83,
   "metadata": {
    "ExecuteTime": {
     "end_time": "2021-11-13T08:41:00.126687Z",
     "start_time": "2021-11-13T08:41:00.112156Z"
    },
    "scrolled": true
   },
   "outputs": [
    {
     "data": {
      "text/plain": [
       "201812    2233\n",
       "201906    1778\n",
       "201806    1579\n",
       "201912    1526\n",
       "201712    1512\n",
       "          ... \n",
       "200702      12\n",
       "200012       9\n",
       "199901       8\n",
       "199808       8\n",
       "200706       8\n",
       "Name: loan_ym, Length: 190, dtype: int64"
      ]
     },
     "execution_count": 83,
     "metadata": {},
     "output_type": "execute_result"
    }
   ],
   "source": [
    "df_loan[\"loan_ym\"].value_counts()"
   ]
  },
  {
   "cell_type": "markdown",
   "metadata": {},
   "source": [
    "### 대출금액"
   ]
  },
  {
   "cell_type": "code",
   "execution_count": 84,
   "metadata": {
    "ExecuteTime": {
     "end_time": "2021-11-13T08:41:12.973982Z",
     "start_time": "2021-11-13T08:41:12.959321Z"
    },
    "scrolled": true
   },
   "outputs": [
    {
     "data": {
      "text/plain": [
       "10000000     2407\n",
       "20000000     1190\n",
       "15000000     1155\n",
       "12000000     1105\n",
       "11000000     1094\n",
       "             ... \n",
       "83000000        4\n",
       "500000000       4\n",
       "620000000       3\n",
       "320000000       2\n",
       "870000          2\n",
       "Name: loan_amt, Length: 324, dtype: int64"
      ]
     },
     "execution_count": 84,
     "metadata": {},
     "output_type": "execute_result"
    }
   ],
   "source": [
    "df_loan[\"loan_amt\"].value_counts()"
   ]
  },
  {
   "cell_type": "markdown",
   "metadata": {},
   "source": [
    "### groupby"
   ]
  },
  {
   "cell_type": "code",
   "execution_count": 159,
   "metadata": {
    "ExecuteTime": {
     "end_time": "2021-11-13T13:37:05.163899Z",
     "start_time": "2021-11-13T13:37:05.111353Z"
    }
   },
   "outputs": [],
   "source": [
    "df_loan_gb=df_loan.groupby(['chaju_id','com_id','sector','loan_prod_1','loan_prod_2','loan_ym','loan_amt'])['loan_amt'].count()\n",
    "df_loan_gb=pd.DataFrame(df_loan_gb)"
   ]
  },
  {
   "cell_type": "code",
   "execution_count": 160,
   "metadata": {
    "ExecuteTime": {
     "end_time": "2021-11-13T13:37:10.527485Z",
     "start_time": "2021-11-13T13:37:10.489275Z"
    },
    "scrolled": true
   },
   "outputs": [
    {
     "data": {
      "text/html": [
       "<div>\n",
       "<style scoped>\n",
       "    .dataframe tbody tr th:only-of-type {\n",
       "        vertical-align: middle;\n",
       "    }\n",
       "\n",
       "    .dataframe tbody tr th {\n",
       "        vertical-align: top;\n",
       "    }\n",
       "\n",
       "    .dataframe thead th {\n",
       "        text-align: right;\n",
       "    }\n",
       "</style>\n",
       "<table border=\"1\" class=\"dataframe\">\n",
       "  <thead>\n",
       "    <tr style=\"text-align: right;\">\n",
       "      <th></th>\n",
       "      <th></th>\n",
       "      <th></th>\n",
       "      <th></th>\n",
       "      <th></th>\n",
       "      <th></th>\n",
       "      <th></th>\n",
       "      <th>loan_amt</th>\n",
       "    </tr>\n",
       "    <tr>\n",
       "      <th>chaju_id</th>\n",
       "      <th>com_id</th>\n",
       "      <th>sector</th>\n",
       "      <th>loan_prod_1</th>\n",
       "      <th>loan_prod_2</th>\n",
       "      <th>loan_ym</th>\n",
       "      <th>loan_amt</th>\n",
       "      <th></th>\n",
       "    </tr>\n",
       "  </thead>\n",
       "  <tbody>\n",
       "    <tr>\n",
       "      <th rowspan=\"5\" valign=\"top\">C-1001</th>\n",
       "      <th>S01-01010</th>\n",
       "      <th>은행(S01)</th>\n",
       "      <th>개인대출정보(카드대출 제외)</th>\n",
       "      <th>주택담보대출</th>\n",
       "      <th>201810</th>\n",
       "      <th>19000000</th>\n",
       "      <td>6</td>\n",
       "    </tr>\n",
       "    <tr>\n",
       "      <th>S01-01016</th>\n",
       "      <th>은행(S01)</th>\n",
       "      <th>개인대출정보(카드대출 제외)</th>\n",
       "      <th>예·적금담보대출</th>\n",
       "      <th>201812</th>\n",
       "      <th>10000000</th>\n",
       "      <td>14</td>\n",
       "    </tr>\n",
       "    <tr>\n",
       "      <th>S05-01011</th>\n",
       "      <th>신용카드사(S05)</th>\n",
       "      <th>단기카드대출</th>\n",
       "      <th>단기카드대출(현금서비스)</th>\n",
       "      <th>201811</th>\n",
       "      <th>1000000</th>\n",
       "      <td>6</td>\n",
       "    </tr>\n",
       "    <tr>\n",
       "      <th rowspan=\"2\" valign=\"top\">S05-01015</th>\n",
       "      <th rowspan=\"2\" valign=\"top\">신용카드사(S05)</th>\n",
       "      <th rowspan=\"2\" valign=\"top\">단기카드대출</th>\n",
       "      <th rowspan=\"2\" valign=\"top\">단기카드대출(현금서비스)</th>\n",
       "      <th>202004</th>\n",
       "      <th>1000000</th>\n",
       "      <td>2</td>\n",
       "    </tr>\n",
       "    <tr>\n",
       "      <th>202006</th>\n",
       "      <th>1200000</th>\n",
       "      <td>6</td>\n",
       "    </tr>\n",
       "    <tr>\n",
       "      <th>...</th>\n",
       "      <th>...</th>\n",
       "      <th>...</th>\n",
       "      <th>...</th>\n",
       "      <th>...</th>\n",
       "      <th>...</th>\n",
       "      <th>...</th>\n",
       "      <td>...</td>\n",
       "    </tr>\n",
       "    <tr>\n",
       "      <th rowspan=\"5\" valign=\"top\">C-3000</th>\n",
       "      <th rowspan=\"3\" valign=\"top\">S05-01017</th>\n",
       "      <th rowspan=\"3\" valign=\"top\">신용카드사(S05)</th>\n",
       "      <th rowspan=\"2\" valign=\"top\">단기카드대출</th>\n",
       "      <th rowspan=\"2\" valign=\"top\">단기카드대출(현금서비스)</th>\n",
       "      <th>201810</th>\n",
       "      <th>1900000</th>\n",
       "      <td>5</td>\n",
       "    </tr>\n",
       "    <tr>\n",
       "      <th>202004</th>\n",
       "      <th>980000</th>\n",
       "      <td>7</td>\n",
       "    </tr>\n",
       "    <tr>\n",
       "      <th>장기카드대출</th>\n",
       "      <th>장기카드대출(카드론)</th>\n",
       "      <th>201801</th>\n",
       "      <th>7300000</th>\n",
       "      <td>13</td>\n",
       "    </tr>\n",
       "    <tr>\n",
       "      <th rowspan=\"2\" valign=\"top\">S08-01028</th>\n",
       "      <th rowspan=\"2\" valign=\"top\">손해보험사(S08)</th>\n",
       "      <th rowspan=\"2\" valign=\"top\">개인대출정보(카드대출 제외)</th>\n",
       "      <th rowspan=\"2\" valign=\"top\">신용대출</th>\n",
       "      <th>201705</th>\n",
       "      <th>15000000</th>\n",
       "      <td>25</td>\n",
       "    </tr>\n",
       "    <tr>\n",
       "      <th>201812</th>\n",
       "      <th>3600000</th>\n",
       "      <td>25</td>\n",
       "    </tr>\n",
       "  </tbody>\n",
       "</table>\n",
       "<p>5365 rows × 1 columns</p>\n",
       "</div>"
      ],
      "text/plain": [
       "                                                                              loan_amt\n",
       "chaju_id com_id    sector     loan_prod_1     loan_prod_2   loan_ym loan_amt          \n",
       "C-1001   S01-01010 은행(S01)    개인대출정보(카드대출 제외) 주택담보대출        201810  19000000         6\n",
       "         S01-01016 은행(S01)    개인대출정보(카드대출 제외) 예·적금담보대출      201812  10000000        14\n",
       "         S05-01011 신용카드사(S05) 단기카드대출          단기카드대출(현금서비스) 201811  1000000          6\n",
       "         S05-01015 신용카드사(S05) 단기카드대출          단기카드대출(현금서비스) 202004  1000000          2\n",
       "                                                            202006  1200000          6\n",
       "...                                                                                ...\n",
       "C-3000   S05-01017 신용카드사(S05) 단기카드대출          단기카드대출(현금서비스) 201810  1900000          5\n",
       "                                                            202004  980000           7\n",
       "                              장기카드대출          장기카드대출(카드론)   201801  7300000         13\n",
       "         S08-01028 손해보험사(S08) 개인대출정보(카드대출 제외) 신용대출          201705  15000000        25\n",
       "                                                            201812  3600000         25\n",
       "\n",
       "[5365 rows x 1 columns]"
      ]
     },
     "execution_count": 160,
     "metadata": {},
     "output_type": "execute_result"
    }
   ],
   "source": [
    "df_loan_gb"
   ]
  },
  {
   "cell_type": "code",
   "execution_count": 161,
   "metadata": {
    "ExecuteTime": {
     "end_time": "2021-11-13T13:37:36.782160Z",
     "start_time": "2021-11-13T13:37:36.024210Z"
    }
   },
   "outputs": [],
   "source": [
    "df_loan_gb.to_excel(\"대출정보.xlsx\")"
   ]
  },
  {
   "cell_type": "markdown",
   "metadata": {},
   "source": [
    "# CARD"
   ]
  },
  {
   "cell_type": "code",
   "execution_count": 85,
   "metadata": {
    "ExecuteTime": {
     "end_time": "2021-11-13T08:47:00.345286Z",
     "start_time": "2021-11-13T08:46:59.779766Z"
    },
    "scrolled": true
   },
   "outputs": [
    {
     "data": {
      "text/html": [
       "<div>\n",
       "<style scoped>\n",
       "    .dataframe tbody tr th:only-of-type {\n",
       "        vertical-align: middle;\n",
       "    }\n",
       "\n",
       "    .dataframe tbody tr th {\n",
       "        vertical-align: top;\n",
       "    }\n",
       "\n",
       "    .dataframe thead th {\n",
       "        text-align: right;\n",
       "    }\n",
       "</style>\n",
       "<table border=\"1\" class=\"dataframe\">\n",
       "  <thead>\n",
       "    <tr style=\"text-align: right;\">\n",
       "      <th></th>\n",
       "      <th>chaju_id</th>\n",
       "      <th>com_id</th>\n",
       "      <th>sector_cd</th>\n",
       "      <th>sector</th>\n",
       "      <th>check_ym</th>\n",
       "      <th>card_cd</th>\n",
       "      <th>card_type</th>\n",
       "      <th>card_ym</th>\n",
       "      <th>flag_priv_biz_cd</th>\n",
       "    </tr>\n",
       "  </thead>\n",
       "  <tbody>\n",
       "    <tr>\n",
       "      <th>0</th>\n",
       "      <td>C-1001</td>\n",
       "      <td>S03-01003</td>\n",
       "      <td>S03</td>\n",
       "      <td>상호금융-농협/수협/금고 등(S03)</td>\n",
       "      <td>202008</td>\n",
       "      <td>신용카드(0081)</td>\n",
       "      <td>개인카드(1)</td>\n",
       "      <td>200206</td>\n",
       "      <td>N</td>\n",
       "    </tr>\n",
       "    <tr>\n",
       "      <th>1</th>\n",
       "      <td>C-1001</td>\n",
       "      <td>S03-01003</td>\n",
       "      <td>S03</td>\n",
       "      <td>상호금융-농협/수협/금고 등(S03)</td>\n",
       "      <td>202011</td>\n",
       "      <td>신용카드(0081)</td>\n",
       "      <td>개인카드(1)</td>\n",
       "      <td>200206</td>\n",
       "      <td>N</td>\n",
       "    </tr>\n",
       "    <tr>\n",
       "      <th>2</th>\n",
       "      <td>C-1001</td>\n",
       "      <td>S03-01003</td>\n",
       "      <td>S03</td>\n",
       "      <td>상호금융-농협/수협/금고 등(S03)</td>\n",
       "      <td>201903</td>\n",
       "      <td>신용카드(0081)</td>\n",
       "      <td>개인카드(1)</td>\n",
       "      <td>200206</td>\n",
       "      <td>N</td>\n",
       "    </tr>\n",
       "    <tr>\n",
       "      <th>3</th>\n",
       "      <td>C-1001</td>\n",
       "      <td>S03-01003</td>\n",
       "      <td>S03</td>\n",
       "      <td>상호금융-농협/수협/금고 등(S03)</td>\n",
       "      <td>202002</td>\n",
       "      <td>신용카드(0081)</td>\n",
       "      <td>개인카드(1)</td>\n",
       "      <td>200206</td>\n",
       "      <td>N</td>\n",
       "    </tr>\n",
       "    <tr>\n",
       "      <th>4</th>\n",
       "      <td>C-1001</td>\n",
       "      <td>S03-01003</td>\n",
       "      <td>S03</td>\n",
       "      <td>상호금융-농협/수협/금고 등(S03)</td>\n",
       "      <td>201904</td>\n",
       "      <td>신용카드(0081)</td>\n",
       "      <td>개인카드(1)</td>\n",
       "      <td>200206</td>\n",
       "      <td>N</td>\n",
       "    </tr>\n",
       "  </tbody>\n",
       "</table>\n",
       "</div>"
      ],
      "text/plain": [
       "  chaju_id     com_id sector_cd                sector  check_ym     card_cd  \\\n",
       "0   C-1001  S03-01003       S03  상호금융-농협/수협/금고 등(S03)    202008  신용카드(0081)   \n",
       "1   C-1001  S03-01003       S03  상호금융-농협/수협/금고 등(S03)    202011  신용카드(0081)   \n",
       "2   C-1001  S03-01003       S03  상호금융-농협/수협/금고 등(S03)    201903  신용카드(0081)   \n",
       "3   C-1001  S03-01003       S03  상호금융-농협/수협/금고 등(S03)    202002  신용카드(0081)   \n",
       "4   C-1001  S03-01003       S03  상호금융-농협/수협/금고 등(S03)    201904  신용카드(0081)   \n",
       "\n",
       "  card_type  card_ym flag_priv_biz_cd  \n",
       "0   개인카드(1)   200206                N  \n",
       "1   개인카드(1)   200206                N  \n",
       "2   개인카드(1)   200206                N  \n",
       "3   개인카드(1)   200206                N  \n",
       "4   개인카드(1)   200206                N  "
      ]
     },
     "execution_count": 85,
     "metadata": {},
     "output_type": "execute_result"
    }
   ],
   "source": [
    "df_card = pd.read_csv(path + \"/CreDB_card.csv\", engine = \"python\", encoding=\"cp949\")\n",
    "df_card.head()"
   ]
  },
  {
   "cell_type": "code",
   "execution_count": 86,
   "metadata": {
    "ExecuteTime": {
     "end_time": "2021-11-13T08:47:38.562179Z",
     "start_time": "2021-11-13T08:47:38.499360Z"
    }
   },
   "outputs": [
    {
     "name": "stdout",
     "output_type": "stream",
     "text": [
      "<class 'pandas.core.frame.DataFrame'>\n",
      "RangeIndex: 96828 entries, 0 to 96827\n",
      "Data columns (total 9 columns):\n",
      " #   Column            Non-Null Count  Dtype \n",
      "---  ------            --------------  ----- \n",
      " 0   chaju_id          96828 non-null  object\n",
      " 1   com_id            96828 non-null  object\n",
      " 2   sector_cd         96828 non-null  object\n",
      " 3   sector            96828 non-null  object\n",
      " 4   check_ym          96828 non-null  int64 \n",
      " 5   card_cd           96828 non-null  object\n",
      " 6   card_type         96828 non-null  object\n",
      " 7   card_ym           96828 non-null  int64 \n",
      " 8   flag_priv_biz_cd  96828 non-null  object\n",
      "dtypes: int64(2), object(7)\n",
      "memory usage: 6.6+ MB\n"
     ]
    }
   ],
   "source": [
    "df_card.info()"
   ]
  },
  {
   "cell_type": "markdown",
   "metadata": {},
   "source": [
    "## 이상치"
   ]
  },
  {
   "cell_type": "code",
   "execution_count": 87,
   "metadata": {
    "ExecuteTime": {
     "end_time": "2021-11-13T08:48:30.902124Z",
     "start_time": "2021-11-13T08:48:30.692801Z"
    }
   },
   "outputs": [
    {
     "data": {
      "text/plain": [
       "<AxesSubplot:>"
      ]
     },
     "execution_count": 87,
     "metadata": {},
     "output_type": "execute_result"
    },
    {
     "data": {
      "image/png": "[encoded data removed]",
      "text/plain": [
       "<Figure size 720x360 with 1 Axes>"
      ]
     },
     "metadata": {
      "needs_background": "light"
     },
     "output_type": "display_data"
    }
   ],
   "source": [
    "df_card[[\"check_ym\"]].boxplot(figsize = (10,5))"
   ]
  },
  {
   "cell_type": "code",
   "execution_count": 88,
   "metadata": {
    "ExecuteTime": {
     "end_time": "2021-11-13T08:48:43.215362Z",
     "start_time": "2021-11-13T08:48:43.011518Z"
    }
   },
   "outputs": [
    {
     "data": {
      "text/plain": [
       "<AxesSubplot:>"
      ]
     },
     "execution_count": 88,
     "metadata": {},
     "output_type": "execute_result"
    },
    {
     "data": {
      "image/png": "[encoded data removed]",
      "text/plain": [
       "<Figure size 720x360 with 1 Axes>"
      ]
     },
     "metadata": {
      "needs_background": "light"
     },
     "output_type": "display_data"
    }
   ],
   "source": [
    "df_card[[\"card_ym\"]].boxplot(figsize = (10,5))"
   ]
  },
  {
   "cell_type": "markdown",
   "metadata": {},
   "source": [
    "## groupby"
   ]
  },
  {
   "cell_type": "code",
   "execution_count": 146,
   "metadata": {
    "ExecuteTime": {
     "end_time": "2021-11-13T13:02:19.138835Z",
     "start_time": "2021-11-13T13:02:19.069536Z"
    }
   },
   "outputs": [],
   "source": [
    "df_card_gb=df_card.groupby(['chaju_id','com_id','card_cd','card_type','sector','card_ym'])['card_ym'].count()\n",
    "df_card_gb=pd.DataFrame(df_card_gb)"
   ]
  },
  {
   "cell_type": "code",
   "execution_count": 149,
   "metadata": {
    "ExecuteTime": {
     "end_time": "2021-11-13T13:03:51.676525Z",
     "start_time": "2021-11-13T13:03:51.041348Z"
    },
    "scrolled": true
   },
   "outputs": [],
   "source": [
    "df_card_gb.to_excel(\"카드정보.xlsx\")"
   ]
  },
  {
   "cell_type": "code",
   "execution_count": 147,
   "metadata": {
    "ExecuteTime": {
     "end_time": "2021-11-13T13:02:20.622643Z",
     "start_time": "2021-11-13T13:02:20.588223Z"
    }
   },
   "outputs": [
    {
     "data": {
      "text/html": [
       "<div>\n",
       "<style scoped>\n",
       "    .dataframe tbody tr th:only-of-type {\n",
       "        vertical-align: middle;\n",
       "    }\n",
       "\n",
       "    .dataframe tbody tr th {\n",
       "        vertical-align: top;\n",
       "    }\n",
       "\n",
       "    .dataframe thead th {\n",
       "        text-align: right;\n",
       "    }\n",
       "</style>\n",
       "<table border=\"1\" class=\"dataframe\">\n",
       "  <thead>\n",
       "    <tr style=\"text-align: right;\">\n",
       "      <th></th>\n",
       "      <th></th>\n",
       "      <th></th>\n",
       "      <th></th>\n",
       "      <th></th>\n",
       "      <th></th>\n",
       "      <th>card_ym</th>\n",
       "    </tr>\n",
       "    <tr>\n",
       "      <th>chaju_id</th>\n",
       "      <th>com_id</th>\n",
       "      <th>card_cd</th>\n",
       "      <th>card_type</th>\n",
       "      <th>sector</th>\n",
       "      <th>card_ym</th>\n",
       "      <th></th>\n",
       "    </tr>\n",
       "  </thead>\n",
       "  <tbody>\n",
       "    <tr>\n",
       "      <th rowspan=\"4\" valign=\"top\">C-1001</th>\n",
       "      <th>S03-01003</th>\n",
       "      <th>신용카드(0081)</th>\n",
       "      <th>개인카드(1)</th>\n",
       "      <th>상호금융-농협/수협/금고 등(S03)</th>\n",
       "      <th>200206</th>\n",
       "      <td>24</td>\n",
       "    </tr>\n",
       "    <tr>\n",
       "      <th>S03-01070</th>\n",
       "      <th>신용카드(0081)</th>\n",
       "      <th>개인카드(1)</th>\n",
       "      <th>상호금융-농협/수협/금고 등(S03)</th>\n",
       "      <th>201512</th>\n",
       "      <td>25</td>\n",
       "    </tr>\n",
       "    <tr>\n",
       "      <th>S05-01001</th>\n",
       "      <th>신용카드(0081)</th>\n",
       "      <th>개인카드(1)</th>\n",
       "      <th>신용카드사(S05)</th>\n",
       "      <th>201307</th>\n",
       "      <td>25</td>\n",
       "    </tr>\n",
       "    <tr>\n",
       "      <th>S05-01016</th>\n",
       "      <th>신용카드(0081)</th>\n",
       "      <th>개인카드(1)</th>\n",
       "      <th>신용카드사(S05)</th>\n",
       "      <th>201711</th>\n",
       "      <td>25</td>\n",
       "    </tr>\n",
       "    <tr>\n",
       "      <th>C-1002</th>\n",
       "      <th>S01-01006</th>\n",
       "      <th>신용카드(0081)</th>\n",
       "      <th>개인카드(1)</th>\n",
       "      <th>은행(S01)</th>\n",
       "      <th>201409</th>\n",
       "      <td>25</td>\n",
       "    </tr>\n",
       "    <tr>\n",
       "      <th>...</th>\n",
       "      <th>...</th>\n",
       "      <th>...</th>\n",
       "      <th>...</th>\n",
       "      <th>...</th>\n",
       "      <th>...</th>\n",
       "      <td>...</td>\n",
       "    </tr>\n",
       "    <tr>\n",
       "      <th>C-2999</th>\n",
       "      <th>S03-01191</th>\n",
       "      <th>신용카드(0081)</th>\n",
       "      <th>개인카드(1)</th>\n",
       "      <th>상호금융-농협/수협/금고 등(S03)</th>\n",
       "      <th>201801</th>\n",
       "      <td>25</td>\n",
       "    </tr>\n",
       "    <tr>\n",
       "      <th rowspan=\"4\" valign=\"top\">C-3000</th>\n",
       "      <th>S05-01005</th>\n",
       "      <th>신용카드(0081)</th>\n",
       "      <th>개인카드(1)</th>\n",
       "      <th>신용카드사(S05)</th>\n",
       "      <th>201301</th>\n",
       "      <td>25</td>\n",
       "    </tr>\n",
       "    <tr>\n",
       "      <th>S05-01007</th>\n",
       "      <th>신용카드(0081)</th>\n",
       "      <th>개인카드(1)</th>\n",
       "      <th>신용카드사(S05)</th>\n",
       "      <th>200901</th>\n",
       "      <td>25</td>\n",
       "    </tr>\n",
       "    <tr>\n",
       "      <th>S05-01008</th>\n",
       "      <th>신용카드(0081)</th>\n",
       "      <th>개인카드(1)</th>\n",
       "      <th>신용카드사(S05)</th>\n",
       "      <th>201212</th>\n",
       "      <td>25</td>\n",
       "    </tr>\n",
       "    <tr>\n",
       "      <th>S05-01017</th>\n",
       "      <th>신용카드(0081)</th>\n",
       "      <th>개인카드(1)</th>\n",
       "      <th>신용카드사(S05)</th>\n",
       "      <th>201506</th>\n",
       "      <td>25</td>\n",
       "    </tr>\n",
       "  </tbody>\n",
       "</table>\n",
       "<p>4747 rows × 1 columns</p>\n",
       "</div>"
      ],
      "text/plain": [
       "                                                                      card_ym\n",
       "chaju_id com_id    card_cd    card_type sector               card_ym         \n",
       "C-1001   S03-01003 신용카드(0081) 개인카드(1)   상호금융-농협/수협/금고 등(S03) 200206        24\n",
       "         S03-01070 신용카드(0081) 개인카드(1)   상호금융-농협/수협/금고 등(S03) 201512        25\n",
       "         S05-01001 신용카드(0081) 개인카드(1)   신용카드사(S05)           201307        25\n",
       "         S05-01016 신용카드(0081) 개인카드(1)   신용카드사(S05)           201711        25\n",
       "C-1002   S01-01006 신용카드(0081) 개인카드(1)   은행(S01)              201409        25\n",
       "...                                                                       ...\n",
       "C-2999   S03-01191 신용카드(0081) 개인카드(1)   상호금융-농협/수협/금고 등(S03) 201801        25\n",
       "C-3000   S05-01005 신용카드(0081) 개인카드(1)   신용카드사(S05)           201301        25\n",
       "         S05-01007 신용카드(0081) 개인카드(1)   신용카드사(S05)           200901        25\n",
       "         S05-01008 신용카드(0081) 개인카드(1)   신용카드사(S05)           201212        25\n",
       "         S05-01017 신용카드(0081) 개인카드(1)   신용카드사(S05)           201506        25\n",
       "\n",
       "[4747 rows x 1 columns]"
      ]
     },
     "execution_count": 147,
     "metadata": {},
     "output_type": "execute_result"
    }
   ],
   "source": [
    "df_card_gb"
   ]
  },
  {
   "cell_type": "markdown",
   "metadata": {},
   "source": [
    "## 데이터 정리"
   ]
  },
  {
   "cell_type": "code",
   "execution_count": 150,
   "metadata": {
    "ExecuteTime": {
     "end_time": "2021-11-13T13:11:29.660428Z",
     "start_time": "2021-11-13T13:11:29.626648Z"
    }
   },
   "outputs": [
    {
     "data": {
      "text/plain": [
       "C-2649    176\n",
       "C-2850    175\n",
       "C-1155    175\n",
       "C-1766    175\n",
       "C-2185    170\n",
       "         ... \n",
       "C-1862      1\n",
       "C-1307      1\n",
       "C-1216      1\n",
       "C-2997      1\n",
       "C-1673      1\n",
       "Name: chaju_id, Length: 1659, dtype: int64"
      ]
     },
     "execution_count": 150,
     "metadata": {},
     "output_type": "execute_result"
    }
   ],
   "source": [
    "df_card[\"chaju_id\"].value_counts()"
   ]
  },
  {
   "cell_type": "code",
   "execution_count": 114,
   "metadata": {
    "ExecuteTime": {
     "end_time": "2021-11-13T11:21:50.925083Z",
     "start_time": "2021-11-13T11:21:50.892726Z"
    },
    "scrolled": true
   },
   "outputs": [
    {
     "data": {
      "text/plain": [
       "S05-01013    2738\n",
       "S05-01004    2731\n",
       "S05-01012    2695\n",
       "S05-01018    2691\n",
       "S05-01003    2594\n",
       "             ... \n",
       "S03-01166      25\n",
       "S03-01122      25\n",
       "S03-01150      25\n",
       "S03-01178      10\n",
       "S03-01021       2\n",
       "Name: com_id, Length: 235, dtype: int64"
      ]
     },
     "execution_count": 114,
     "metadata": {},
     "output_type": "execute_result"
    }
   ],
   "source": [
    "df_card[\"com_id\"].value_counts()"
   ]
  },
  {
   "cell_type": "code",
   "execution_count": 116,
   "metadata": {
    "ExecuteTime": {
     "end_time": "2021-11-13T11:22:09.197642Z",
     "start_time": "2021-11-13T11:22:09.165906Z"
    }
   },
   "outputs": [
    {
     "data": {
      "text/plain": [
       "S05    43492\n",
       "S01    30560\n",
       "S03    22776\n",
       "Name: sector_cd, dtype: int64"
      ]
     },
     "execution_count": 116,
     "metadata": {},
     "output_type": "execute_result"
    }
   ],
   "source": [
    "df_card[\"sector_cd\"].value_counts()"
   ]
  },
  {
   "cell_type": "code",
   "execution_count": 117,
   "metadata": {
    "ExecuteTime": {
     "end_time": "2021-11-13T11:24:05.387866Z",
     "start_time": "2021-11-13T11:24:05.342487Z"
    }
   },
   "outputs": [
    {
     "data": {
      "text/plain": [
       "신용카드사(S05)              43492\n",
       "은행(S01)                 30560\n",
       "상호금융-농협/수협/금고 등(S03)    22776\n",
       "Name: sector, dtype: int64"
      ]
     },
     "execution_count": 117,
     "metadata": {},
     "output_type": "execute_result"
    }
   ],
   "source": [
    "df_card[\"sector\"].value_counts()"
   ]
  },
  {
   "cell_type": "code",
   "execution_count": null,
   "metadata": {},
   "outputs": [],
   "source": []
  },
  {
   "cell_type": "markdown",
   "metadata": {},
   "source": [
    "# overdue"
   ]
  },
  {
   "cell_type": "code",
   "execution_count": 47,
   "metadata": {
    "ExecuteTime": {
     "end_time": "2021-11-13T07:53:26.347444Z",
     "start_time": "2021-11-13T07:53:26.233998Z"
    }
   },
   "outputs": [
    {
     "data": {
      "text/html": [
       "<div>\n",
       "<style scoped>\n",
       "    .dataframe tbody tr th:only-of-type {\n",
       "        vertical-align: middle;\n",
       "    }\n",
       "\n",
       "    .dataframe tbody tr th {\n",
       "        vertical-align: top;\n",
       "    }\n",
       "\n",
       "    .dataframe thead th {\n",
       "        text-align: right;\n",
       "    }\n",
       "</style>\n",
       "<table border=\"1\" class=\"dataframe\">\n",
       "  <thead>\n",
       "    <tr style=\"text-align: right;\">\n",
       "      <th></th>\n",
       "      <th>chaju_id</th>\n",
       "      <th>com_id</th>\n",
       "      <th>check_ym</th>\n",
       "      <th>sector_cd</th>\n",
       "      <th>sector</th>\n",
       "      <th>over_type</th>\n",
       "      <th>over_reason_cd</th>\n",
       "      <th>over_reason</th>\n",
       "      <th>over_regist</th>\n",
       "      <th>over_ym</th>\n",
       "      <th>over_amt</th>\n",
       "    </tr>\n",
       "  </thead>\n",
       "  <tbody>\n",
       "    <tr>\n",
       "      <th>0</th>\n",
       "      <td>C-1001</td>\n",
       "      <td>S21-01018</td>\n",
       "      <td>202001</td>\n",
       "      <td>S21</td>\n",
       "      <td>상호저축은행(S21)</td>\n",
       "      <td>공공(2)</td>\n",
       "      <td>R-0101</td>\n",
       "      <td>대출원금·이자연체</td>\n",
       "      <td>주채무자(0)</td>\n",
       "      <td>202001</td>\n",
       "      <td>5700000</td>\n",
       "    </tr>\n",
       "    <tr>\n",
       "      <th>1</th>\n",
       "      <td>C-1001</td>\n",
       "      <td>S21-01018</td>\n",
       "      <td>202002</td>\n",
       "      <td>S21</td>\n",
       "      <td>상호저축은행(S21)</td>\n",
       "      <td>공공(2)</td>\n",
       "      <td>R-0101</td>\n",
       "      <td>대출원금·이자연체</td>\n",
       "      <td>주채무자(0)</td>\n",
       "      <td>202001</td>\n",
       "      <td>5700000</td>\n",
       "    </tr>\n",
       "    <tr>\n",
       "      <th>2</th>\n",
       "      <td>C-1019</td>\n",
       "      <td>S01-01001</td>\n",
       "      <td>202008</td>\n",
       "      <td>S01</td>\n",
       "      <td>은행(S01)</td>\n",
       "      <td>공공(2)</td>\n",
       "      <td>R-0101</td>\n",
       "      <td>대출원금·이자연체</td>\n",
       "      <td>주채무자(0)</td>\n",
       "      <td>202002</td>\n",
       "      <td>270000000</td>\n",
       "    </tr>\n",
       "    <tr>\n",
       "      <th>3</th>\n",
       "      <td>C-1019</td>\n",
       "      <td>S01-01001</td>\n",
       "      <td>202003</td>\n",
       "      <td>S01</td>\n",
       "      <td>은행(S01)</td>\n",
       "      <td>공공(2)</td>\n",
       "      <td>R-0101</td>\n",
       "      <td>대출원금·이자연체</td>\n",
       "      <td>주채무자(0)</td>\n",
       "      <td>202002</td>\n",
       "      <td>270000000</td>\n",
       "    </tr>\n",
       "    <tr>\n",
       "      <th>4</th>\n",
       "      <td>C-1019</td>\n",
       "      <td>S01-01001</td>\n",
       "      <td>202006</td>\n",
       "      <td>S01</td>\n",
       "      <td>은행(S01)</td>\n",
       "      <td>공공(2)</td>\n",
       "      <td>R-0101</td>\n",
       "      <td>대출원금·이자연체</td>\n",
       "      <td>주채무자(0)</td>\n",
       "      <td>202002</td>\n",
       "      <td>270000000</td>\n",
       "    </tr>\n",
       "  </tbody>\n",
       "</table>\n",
       "</div>"
      ],
      "text/plain": [
       "  chaju_id     com_id  check_ym sector_cd       sector over_type  \\\n",
       "0   C-1001  S21-01018    202001       S21  상호저축은행(S21)     공공(2)   \n",
       "1   C-1001  S21-01018    202002       S21  상호저축은행(S21)     공공(2)   \n",
       "2   C-1019  S01-01001    202008       S01      은행(S01)     공공(2)   \n",
       "3   C-1019  S01-01001    202003       S01      은행(S01)     공공(2)   \n",
       "4   C-1019  S01-01001    202006       S01      은행(S01)     공공(2)   \n",
       "\n",
       "  over_reason_cd over_reason over_regist  over_ym   over_amt  \n",
       "0         R-0101   대출원금·이자연체     주채무자(0)   202001    5700000  \n",
       "1         R-0101   대출원금·이자연체     주채무자(0)   202001    5700000  \n",
       "2         R-0101   대출원금·이자연체     주채무자(0)   202002  270000000  \n",
       "3         R-0101   대출원금·이자연체     주채무자(0)   202002  270000000  \n",
       "4         R-0101   대출원금·이자연체     주채무자(0)   202002  270000000  "
      ]
     },
     "execution_count": 47,
     "metadata": {},
     "output_type": "execute_result"
    }
   ],
   "source": [
    "df_overdue = pd.read_csv(path + \"/CreDB_overdue.csv\", engine = \"python\", encoding=\"cp949\")\n",
    "df_overdue.head()"
   ]
  },
  {
   "cell_type": "markdown",
   "metadata": {},
   "source": [
    "## 이상치"
   ]
  },
  {
   "cell_type": "code",
   "execution_count": 48,
   "metadata": {
    "ExecuteTime": {
     "end_time": "2021-11-13T07:53:29.142032Z",
     "start_time": "2021-11-13T07:53:29.109293Z"
    }
   },
   "outputs": [
    {
     "name": "stdout",
     "output_type": "stream",
     "text": [
      "<class 'pandas.core.frame.DataFrame'>\n",
      "RangeIndex: 10784 entries, 0 to 10783\n",
      "Data columns (total 11 columns):\n",
      " #   Column          Non-Null Count  Dtype \n",
      "---  ------          --------------  ----- \n",
      " 0   chaju_id        10784 non-null  object\n",
      " 1   com_id          10784 non-null  object\n",
      " 2   check_ym        10784 non-null  int64 \n",
      " 3   sector_cd       10784 non-null  object\n",
      " 4   sector          10784 non-null  object\n",
      " 5   over_type       10784 non-null  object\n",
      " 6   over_reason_cd  10784 non-null  object\n",
      " 7   over_reason     10784 non-null  object\n",
      " 8   over_regist     10784 non-null  object\n",
      " 9   over_ym         10784 non-null  int64 \n",
      " 10  over_amt        10784 non-null  int64 \n",
      "dtypes: int64(3), object(8)\n",
      "memory usage: 926.9+ KB\n"
     ]
    }
   ],
   "source": [
    "df_overdue.info()"
   ]
  },
  {
   "cell_type": "code",
   "execution_count": 13,
   "metadata": {
    "ExecuteTime": {
     "end_time": "2021-11-13T05:52:25.489667Z",
     "start_time": "2021-11-13T05:52:25.453835Z"
    },
    "scrolled": false
   },
   "outputs": [
    {
     "data": {
      "text/html": [
       "<div>\n",
       "<style scoped>\n",
       "    .dataframe tbody tr th:only-of-type {\n",
       "        vertical-align: middle;\n",
       "    }\n",
       "\n",
       "    .dataframe tbody tr th {\n",
       "        vertical-align: top;\n",
       "    }\n",
       "\n",
       "    .dataframe thead th {\n",
       "        text-align: right;\n",
       "    }\n",
       "</style>\n",
       "<table border=\"1\" class=\"dataframe\">\n",
       "  <thead>\n",
       "    <tr style=\"text-align: right;\">\n",
       "      <th></th>\n",
       "      <th>check_ym</th>\n",
       "      <th>over_ym</th>\n",
       "      <th>over_amt</th>\n",
       "    </tr>\n",
       "  </thead>\n",
       "  <tbody>\n",
       "    <tr>\n",
       "      <th>count</th>\n",
       "      <td>10784.000000</td>\n",
       "      <td>10784.000000</td>\n",
       "      <td>1.078400e+04</td>\n",
       "    </tr>\n",
       "    <tr>\n",
       "      <th>mean</th>\n",
       "      <td>201948.755100</td>\n",
       "      <td>201723.296458</td>\n",
       "      <td>2.038326e+07</td>\n",
       "    </tr>\n",
       "    <tr>\n",
       "      <th>std</th>\n",
       "      <td>56.891007</td>\n",
       "      <td>196.736523</td>\n",
       "      <td>9.136425e+07</td>\n",
       "    </tr>\n",
       "    <tr>\n",
       "      <th>min</th>\n",
       "      <td>201812.000000</td>\n",
       "      <td>201011.000000</td>\n",
       "      <td>1.000000e+04</td>\n",
       "    </tr>\n",
       "    <tr>\n",
       "      <th>25%</th>\n",
       "      <td>201905.000000</td>\n",
       "      <td>201605.000000</td>\n",
       "      <td>1.600000e+06</td>\n",
       "    </tr>\n",
       "    <tr>\n",
       "      <th>50%</th>\n",
       "      <td>201912.000000</td>\n",
       "      <td>201801.000000</td>\n",
       "      <td>4.100000e+06</td>\n",
       "    </tr>\n",
       "    <tr>\n",
       "      <th>75%</th>\n",
       "      <td>202006.000000</td>\n",
       "      <td>201903.000000</td>\n",
       "      <td>1.000000e+07</td>\n",
       "    </tr>\n",
       "    <tr>\n",
       "      <th>max</th>\n",
       "      <td>202012.000000</td>\n",
       "      <td>202012.000000</td>\n",
       "      <td>1.500000e+09</td>\n",
       "    </tr>\n",
       "  </tbody>\n",
       "</table>\n",
       "</div>"
      ],
      "text/plain": [
       "            check_ym        over_ym      over_amt\n",
       "count   10784.000000   10784.000000  1.078400e+04\n",
       "mean   201948.755100  201723.296458  2.038326e+07\n",
       "std        56.891007     196.736523  9.136425e+07\n",
       "min    201812.000000  201011.000000  1.000000e+04\n",
       "25%    201905.000000  201605.000000  1.600000e+06\n",
       "50%    201912.000000  201801.000000  4.100000e+06\n",
       "75%    202006.000000  201903.000000  1.000000e+07\n",
       "max    202012.000000  202012.000000  1.500000e+09"
      ]
     },
     "execution_count": 13,
     "metadata": {},
     "output_type": "execute_result"
    }
   ],
   "source": [
    "df_overdue.describe()"
   ]
  },
  {
   "cell_type": "code",
   "execution_count": 14,
   "metadata": {
    "ExecuteTime": {
     "end_time": "2021-11-13T05:52:26.373206Z",
     "start_time": "2021-11-13T05:52:26.173748Z"
    }
   },
   "outputs": [
    {
     "data": {
      "text/plain": [
       "<AxesSubplot:>"
      ]
     },
     "execution_count": 14,
     "metadata": {},
     "output_type": "execute_result"
    },
    {
     "data": {
      "image/png": "[encoded data removed]",
      "text/plain": [
       "<Figure size 720x360 with 1 Axes>"
      ]
     },
     "metadata": {
      "needs_background": "light"
     },
     "output_type": "display_data"
    }
   ],
   "source": [
    "df_overdue[[\"check_ym\"]].boxplot(figsize = (10,5))"
   ]
  },
  {
   "cell_type": "code",
   "execution_count": 15,
   "metadata": {
    "ExecuteTime": {
     "end_time": "2021-11-13T05:52:26.892523Z",
     "start_time": "2021-11-13T05:52:26.750580Z"
    }
   },
   "outputs": [
    {
     "data": {
      "text/plain": [
       "<AxesSubplot:>"
      ]
     },
     "execution_count": 15,
     "metadata": {},
     "output_type": "execute_result"
    },
    {
     "data": {
      "image/png": "[encoded data removed]",
      "text/plain": [
       "<Figure size 720x360 with 1 Axes>"
      ]
     },
     "metadata": {
      "needs_background": "light"
     },
     "output_type": "display_data"
    }
   ],
   "source": [
    "df_overdue[[\"over_ym\"]].boxplot(figsize = (10,5))"
   ]
  },
  {
   "cell_type": "code",
   "execution_count": 16,
   "metadata": {
    "ExecuteTime": {
     "end_time": "2021-11-13T05:52:27.472079Z",
     "start_time": "2021-11-13T05:52:27.310375Z"
    }
   },
   "outputs": [
    {
     "data": {
      "text/plain": [
       "<AxesSubplot:>"
      ]
     },
     "execution_count": 16,
     "metadata": {},
     "output_type": "execute_result"
    },
    {
     "data": {
      "image/png": "[encoded data removed]",
      "text/plain": [
       "<Figure size 720x360 with 1 Axes>"
      ]
     },
     "metadata": {
      "needs_background": "light"
     },
     "output_type": "display_data"
    }
   ],
   "source": [
    "df_overdue[[\"over_amt\"]].boxplot(figsize = (10,5))"
   ]
  },
  {
   "cell_type": "markdown",
   "metadata": {},
   "source": [
    "## object"
   ]
  },
  {
   "cell_type": "markdown",
   "metadata": {
    "ExecuteTime": {
     "end_time": "2021-11-13T05:51:38.625117Z",
     "start_time": "2021-11-13T05:51:37.394Z"
    }
   },
   "source": [
    "## 데이터 정리"
   ]
  },
  {
   "cell_type": "code",
   "execution_count": 30,
   "metadata": {
    "ExecuteTime": {
     "end_time": "2021-11-13T06:02:36.515029Z",
     "start_time": "2021-11-13T06:02:36.498540Z"
    },
    "scrolled": false
   },
   "outputs": [
    {
     "data": {
      "text/plain": [
       "C-1812    150\n",
       "C-1546    143\n",
       "C-2073    136\n",
       "C-1384    132\n",
       "C-2657    114\n",
       "         ... \n",
       "C-1880      1\n",
       "C-2641      1\n",
       "C-2541      1\n",
       "C-2679      1\n",
       "C-1241      1\n",
       "Name: chaju_id, Length: 400, dtype: int64"
      ]
     },
     "execution_count": 30,
     "metadata": {},
     "output_type": "execute_result"
    }
   ],
   "source": [
    "df_overdue[\"chaju_id\"].value_counts()"
   ]
  },
  {
   "cell_type": "markdown",
   "metadata": {},
   "source": [
    "### 연체자 id"
   ]
  },
  {
   "cell_type": "code",
   "execution_count": 50,
   "metadata": {
    "ExecuteTime": {
     "end_time": "2021-11-13T07:54:18.999588Z",
     "start_time": "2021-11-13T07:54:18.981967Z"
    }
   },
   "outputs": [
    {
     "data": {
      "text/plain": [
       "C-1812    150\n",
       "C-1546    143\n",
       "C-2073    136\n",
       "C-1384    132\n",
       "C-2657    114\n",
       "         ... \n",
       "C-1880      1\n",
       "C-2641      1\n",
       "C-2541      1\n",
       "C-2679      1\n",
       "C-1241      1\n",
       "Name: chaju_id, Length: 400, dtype: int64"
      ]
     },
     "execution_count": 50,
     "metadata": {},
     "output_type": "execute_result"
    }
   ],
   "source": [
    "df_overdue[\"chaju_id\"].value_counts()"
   ]
  },
  {
   "cell_type": "markdown",
   "metadata": {},
   "source": [
    "### 대출기관 id"
   ]
  },
  {
   "cell_type": "code",
   "execution_count": 29,
   "metadata": {
    "ExecuteTime": {
     "end_time": "2021-11-13T06:02:34.021404Z",
     "start_time": "2021-11-13T06:02:34.003326Z"
    },
    "scrolled": true
   },
   "outputs": [
    {
     "data": {
      "text/plain": [
       "S05-01013    377\n",
       "S05-01018    303\n",
       "S05-01016    302\n",
       "S05-01017    282\n",
       "S05-01011    267\n",
       "            ... \n",
       "S17-01018      1\n",
       "S17-01085      1\n",
       "S98-01009      1\n",
       "S03-01161      1\n",
       "S17-01001      1\n",
       "Name: com_id, Length: 217, dtype: int64"
      ]
     },
     "execution_count": 29,
     "metadata": {},
     "output_type": "execute_result"
    }
   ],
   "source": [
    "df_overdue[\"com_id\"].value_counts()"
   ]
  },
  {
   "cell_type": "markdown",
   "metadata": {},
   "source": [
    "### 연체기준연월"
   ]
  },
  {
   "cell_type": "code",
   "execution_count": 31,
   "metadata": {
    "ExecuteTime": {
     "end_time": "2021-11-13T06:06:43.190143Z",
     "start_time": "2021-11-13T06:06:43.174776Z"
    }
   },
   "outputs": [
    {
     "data": {
      "text/plain": [
       "201812    461\n",
       "201901    456\n",
       "201908    450\n",
       "201909    448\n",
       "201902    447\n",
       "201903    447\n",
       "201905    447\n",
       "201911    443\n",
       "201904    442\n",
       "201907    441\n",
       "201906    439\n",
       "201910    436\n",
       "202002    435\n",
       "201912    430\n",
       "202001    427\n",
       "202003    426\n",
       "202005    425\n",
       "202011    419\n",
       "202004    419\n",
       "202008    418\n",
       "202012    411\n",
       "202009    410\n",
       "202006    409\n",
       "202010    404\n",
       "202007    394\n",
       "Name: check_ym, dtype: int64"
      ]
     },
     "execution_count": 31,
     "metadata": {},
     "output_type": "execute_result"
    }
   ],
   "source": [
    "df_overdue[\"check_ym\"].value_counts()"
   ]
  },
  {
   "cell_type": "markdown",
   "metadata": {},
   "source": [
    "### 업권코드"
   ]
  },
  {
   "cell_type": "code",
   "execution_count": 27,
   "metadata": {
    "ExecuteTime": {
     "end_time": "2021-11-13T06:02:14.258248Z",
     "start_time": "2021-11-13T06:02:14.241813Z"
    }
   },
   "outputs": [
    {
     "data": {
      "text/plain": [
       "S05    3791\n",
       "S98    3290\n",
       "S01    1576\n",
       "S21     832\n",
       "S17     787\n",
       "S03     473\n",
       "S06      18\n",
       "S08      17\n",
       "Name: sector_cd, dtype: int64"
      ]
     },
     "execution_count": 27,
     "metadata": {},
     "output_type": "execute_result"
    }
   ],
   "source": [
    "df_overdue[\"sector_cd\"].value_counts()"
   ]
  },
  {
   "cell_type": "code",
   "execution_count": 32,
   "metadata": {
    "ExecuteTime": {
     "end_time": "2021-11-13T06:07:15.295163Z",
     "start_time": "2021-11-13T06:07:15.287835Z"
    }
   },
   "outputs": [],
   "source": [
    "labels = ['S05', 'S98', 'S01', '해외연수', '어학 및 자격증준비']\n",
    "ratio = ['24', '50', '10', '14', '7.2']"
   ]
  },
  {
   "cell_type": "markdown",
   "metadata": {},
   "source": [
    "신용카드사>기타>은행>상호저축은행>캐피탈/할부/리스/신기술사>상호금융>생명보험사>손해보험사"
   ]
  },
  {
   "cell_type": "markdown",
   "metadata": {},
   "source": [
    "### 업권"
   ]
  },
  {
   "cell_type": "code",
   "execution_count": 52,
   "metadata": {
    "ExecuteTime": {
     "end_time": "2021-11-13T08:21:18.821635Z",
     "start_time": "2021-11-13T08:21:18.805101Z"
    }
   },
   "outputs": [
    {
     "data": {
      "text/plain": [
       "신용카드사(S05)              3791\n",
       "기타-장학재단/기금 등(S98)       3290\n",
       "은행(S01)                 1576\n",
       "상호저축은행(S21)              832\n",
       "캐피탈/할부/리스 등(S17)         787\n",
       "상호금융-농협/수협/금고 등(S03)     473\n",
       "생명보험사(S06)                18\n",
       "손해보험사(S08)                17\n",
       "Name: sector, dtype: int64"
      ]
     },
     "execution_count": 52,
     "metadata": {},
     "output_type": "execute_result"
    }
   ],
   "source": [
    "df_overdue[\"sector\"].value_counts()"
   ]
  },
  {
   "cell_type": "markdown",
   "metadata": {},
   "source": [
    "### 연체유형/형태"
   ]
  },
  {
   "cell_type": "code",
   "execution_count": 24,
   "metadata": {
    "ExecuteTime": {
     "end_time": "2021-11-13T06:01:59.909718Z",
     "start_time": "2021-11-13T06:01:59.893412Z"
    }
   },
   "outputs": [
    {
     "data": {
      "text/plain": [
       "공공(2)    10784\n",
       "Name: over_type, dtype: int64"
      ]
     },
     "execution_count": 24,
     "metadata": {},
     "output_type": "execute_result"
    }
   ],
   "source": [
    "df_overdue[\"over_type\"].value_counts()"
   ]
  },
  {
   "cell_type": "markdown",
   "metadata": {},
   "source": [
    "### 연체사유코드"
   ]
  },
  {
   "cell_type": "code",
   "execution_count": 23,
   "metadata": {
    "ExecuteTime": {
     "end_time": "2021-11-13T06:01:58.097997Z",
     "start_time": "2021-11-13T06:01:58.082193Z"
    }
   },
   "outputs": [
    {
     "data": {
      "text/plain": [
       "R-0101    3338\n",
       "R-0104    2455\n",
       "R-0103    1681\n",
       "R-0202    1482\n",
       "R-0201    1155\n",
       "R-0199     483\n",
       "R-9997     100\n",
       "R-0299      90\n",
       "Name: over_reason_cd, dtype: int64"
      ]
     },
     "execution_count": 23,
     "metadata": {},
     "output_type": "execute_result"
    }
   ],
   "source": [
    "df_overdue[\"over_reason_cd\"].value_counts()"
   ]
  },
  {
   "cell_type": "markdown",
   "metadata": {},
   "source": [
    "### 연체사유"
   ]
  },
  {
   "cell_type": "code",
   "execution_count": 22,
   "metadata": {
    "ExecuteTime": {
     "end_time": "2021-11-13T06:01:56.801645Z",
     "start_time": "2021-11-13T06:01:56.785661Z"
    }
   },
   "outputs": [
    {
     "data": {
      "text/plain": [
       "대출원금·이자연체                  3338\n",
       "신용카드대금연체                   2455\n",
       "장기카드대출(카드론)연체              1681\n",
       "신용보증대지급금                   1482\n",
       "지급보증대지급금                   1155\n",
       "기타(0101, 0103, 0104 제외)     483\n",
       "부도 정보                       100\n",
       "기타(0201,0202 제외)             90\n",
       "Name: over_reason, dtype: int64"
      ]
     },
     "execution_count": 22,
     "metadata": {},
     "output_type": "execute_result"
    }
   ],
   "source": [
    "df_overdue[\"over_reason\"].value_counts()"
   ]
  },
  {
   "cell_type": "markdown",
   "metadata": {},
   "source": [
    "### 연체등록사유코드"
   ]
  },
  {
   "cell_type": "code",
   "execution_count": 21,
   "metadata": {
    "ExecuteTime": {
     "end_time": "2021-11-13T06:01:55.303868Z",
     "start_time": "2021-11-13T06:01:55.282081Z"
    }
   },
   "outputs": [
    {
     "data": {
      "text/plain": [
       "특수채권(7)    6176\n",
       "주채무자(0)    4608\n",
       "Name: over_regist, dtype: int64"
      ]
     },
     "execution_count": 21,
     "metadata": {},
     "output_type": "execute_result"
    }
   ],
   "source": [
    "df_overdue[\"over_regist\"].value_counts()"
   ]
  },
  {
   "cell_type": "code",
   "execution_count": 20,
   "metadata": {
    "ExecuteTime": {
     "end_time": "2021-11-13T06:01:54.609048Z",
     "start_time": "2021-11-13T06:01:54.498064Z"
    }
   },
   "outputs": [
    {
     "data": {
      "image/png": "[encoded data removed]",
      "text/plain": [
       "<Figure size 432x288 with 1 Axes>"
      ]
     },
     "metadata": {},
     "output_type": "display_data"
    }
   ],
   "source": [
    "labels = ['특수채권','주채무자']\n",
    "ratio = ['6176','4608']\n",
    "plt.pie(ratio, labels=labels, autopct='%1.1f%%')\n",
    "plt.show()"
   ]
  },
  {
   "cell_type": "markdown",
   "metadata": {},
   "source": [
    "### 연체등록년월"
   ]
  },
  {
   "cell_type": "code",
   "execution_count": 34,
   "metadata": {
    "ExecuteTime": {
     "end_time": "2021-11-13T06:19:32.702284Z",
     "start_time": "2021-11-13T06:19:32.687099Z"
    }
   },
   "outputs": [
    {
     "data": {
      "text/plain": [
       "201708    312\n",
       "201811    311\n",
       "201712    285\n",
       "201908    285\n",
       "201905    269\n",
       "         ... \n",
       "201209     10\n",
       "201210      8\n",
       "201304      6\n",
       "201202      3\n",
       "201204      2\n",
       "Name: over_ym, Length: 103, dtype: int64"
      ]
     },
     "execution_count": 34,
     "metadata": {},
     "output_type": "execute_result"
    }
   ],
   "source": [
    "df_overdue[\"over_ym\"].value_counts()"
   ]
  },
  {
   "cell_type": "code",
   "execution_count": 35,
   "metadata": {
    "ExecuteTime": {
     "end_time": "2021-11-13T06:45:48.199559Z",
     "start_time": "2021-11-13T06:45:48.189585Z"
    }
   },
   "outputs": [
    {
     "data": {
      "text/plain": [
       "219813120000"
      ]
     },
     "execution_count": 35,
     "metadata": {},
     "output_type": "execute_result"
    }
   ],
   "source": [
    "df_overdue[\"over_amt\"].sum()"
   ]
  },
  {
   "cell_type": "code",
   "execution_count": 54,
   "metadata": {
    "ExecuteTime": {
     "end_time": "2021-11-13T08:23:35.984455Z",
     "start_time": "2021-11-13T08:23:35.957124Z"
    },
    "scrolled": true
   },
   "outputs": [
    {
     "data": {
      "text/html": [
       "<div>\n",
       "<style scoped>\n",
       "    .dataframe tbody tr th:only-of-type {\n",
       "        vertical-align: middle;\n",
       "    }\n",
       "\n",
       "    .dataframe tbody tr th {\n",
       "        vertical-align: top;\n",
       "    }\n",
       "\n",
       "    .dataframe thead th {\n",
       "        text-align: right;\n",
       "    }\n",
       "</style>\n",
       "<table border=\"1\" class=\"dataframe\">\n",
       "  <thead>\n",
       "    <tr style=\"text-align: right;\">\n",
       "      <th></th>\n",
       "      <th>chaju_id</th>\n",
       "      <th>com_id</th>\n",
       "      <th>check_ym</th>\n",
       "      <th>sector_cd</th>\n",
       "      <th>sector</th>\n",
       "      <th>over_type</th>\n",
       "      <th>over_reason_cd</th>\n",
       "      <th>over_reason</th>\n",
       "      <th>over_regist</th>\n",
       "      <th>over_ym</th>\n",
       "      <th>over_amt</th>\n",
       "    </tr>\n",
       "  </thead>\n",
       "  <tbody>\n",
       "    <tr>\n",
       "      <th>1</th>\n",
       "      <td>C-1001</td>\n",
       "      <td>S21-01018</td>\n",
       "      <td>202002</td>\n",
       "      <td>S21</td>\n",
       "      <td>상호저축은행(S21)</td>\n",
       "      <td>공공(2)</td>\n",
       "      <td>R-0101</td>\n",
       "      <td>대출원금·이자연체</td>\n",
       "      <td>주채무자(0)</td>\n",
       "      <td>202001</td>\n",
       "      <td>5700000</td>\n",
       "    </tr>\n",
       "    <tr>\n",
       "      <th>100</th>\n",
       "      <td>C-1036</td>\n",
       "      <td>S01-01016</td>\n",
       "      <td>201907</td>\n",
       "      <td>S01</td>\n",
       "      <td>은행(S01)</td>\n",
       "      <td>공공(2)</td>\n",
       "      <td>R-9997</td>\n",
       "      <td>부도 정보</td>\n",
       "      <td>주채무자(0)</td>\n",
       "      <td>201011</td>\n",
       "      <td>95000000</td>\n",
       "    </tr>\n",
       "    <tr>\n",
       "      <th>5</th>\n",
       "      <td>C-1019</td>\n",
       "      <td>S01-01001</td>\n",
       "      <td>202010</td>\n",
       "      <td>S01</td>\n",
       "      <td>은행(S01)</td>\n",
       "      <td>공공(2)</td>\n",
       "      <td>R-0101</td>\n",
       "      <td>대출원금·이자연체</td>\n",
       "      <td>주채무자(0)</td>\n",
       "      <td>202002</td>\n",
       "      <td>270000000</td>\n",
       "    </tr>\n",
       "  </tbody>\n",
       "</table>\n",
       "</div>"
      ],
      "text/plain": [
       "    chaju_id     com_id  check_ym sector_cd       sector over_type  \\\n",
       "1     C-1001  S21-01018    202002       S21  상호저축은행(S21)     공공(2)   \n",
       "100   C-1036  S01-01016    201907       S01      은행(S01)     공공(2)   \n",
       "5     C-1019  S01-01001    202010       S01      은행(S01)     공공(2)   \n",
       "\n",
       "    over_reason_cd over_reason over_regist  over_ym   over_amt  \n",
       "1           R-0101   대출원금·이자연체     주채무자(0)   202001    5700000  \n",
       "100         R-9997       부도 정보     주채무자(0)   201011   95000000  \n",
       "5           R-0101   대출원금·이자연체     주채무자(0)   202002  270000000  "
      ]
     },
     "execution_count": 54,
     "metadata": {},
     "output_type": "execute_result"
    }
   ],
   "source": [
    "df_overdue_C = df_overdue.loc[[1,100,5],:]\n",
    "df_overdue_C.head()"
   ]
  },
  {
   "cell_type": "markdown",
   "metadata": {},
   "source": [
    "### groupby"
   ]
  },
  {
   "cell_type": "code",
   "execution_count": 157,
   "metadata": {
    "ExecuteTime": {
     "end_time": "2021-11-13T13:33:53.121375Z",
     "start_time": "2021-11-13T13:33:53.096181Z"
    }
   },
   "outputs": [],
   "source": [
    "df_overdue_gb=df_overdue.groupby(['chaju_id','com_id','sector','over_reason','over_regist','over_ym','over_amt'])['over_amt'].count()\n",
    "df_overdue_gb=pd.DataFrame(df_overdue_gb)"
   ]
  },
  {
   "cell_type": "code",
   "execution_count": 158,
   "metadata": {
    "ExecuteTime": {
     "end_time": "2021-11-13T13:33:53.866046Z",
     "start_time": "2021-11-13T13:33:53.829446Z"
    },
    "scrolled": true
   },
   "outputs": [
    {
     "data": {
      "text/html": [
       "<div>\n",
       "<style scoped>\n",
       "    .dataframe tbody tr th:only-of-type {\n",
       "        vertical-align: middle;\n",
       "    }\n",
       "\n",
       "    .dataframe tbody tr th {\n",
       "        vertical-align: top;\n",
       "    }\n",
       "\n",
       "    .dataframe thead th {\n",
       "        text-align: right;\n",
       "    }\n",
       "</style>\n",
       "<table border=\"1\" class=\"dataframe\">\n",
       "  <thead>\n",
       "    <tr style=\"text-align: right;\">\n",
       "      <th></th>\n",
       "      <th></th>\n",
       "      <th></th>\n",
       "      <th></th>\n",
       "      <th></th>\n",
       "      <th></th>\n",
       "      <th></th>\n",
       "      <th>over_amt</th>\n",
       "    </tr>\n",
       "    <tr>\n",
       "      <th>chaju_id</th>\n",
       "      <th>com_id</th>\n",
       "      <th>sector</th>\n",
       "      <th>over_reason</th>\n",
       "      <th>over_regist</th>\n",
       "      <th>over_ym</th>\n",
       "      <th>over_amt</th>\n",
       "      <th></th>\n",
       "    </tr>\n",
       "  </thead>\n",
       "  <tbody>\n",
       "    <tr>\n",
       "      <th>C-1001</th>\n",
       "      <th>S21-01018</th>\n",
       "      <th>상호저축은행(S21)</th>\n",
       "      <th>대출원금·이자연체</th>\n",
       "      <th>주채무자(0)</th>\n",
       "      <th>202001</th>\n",
       "      <th>5700000</th>\n",
       "      <td>2</td>\n",
       "    </tr>\n",
       "    <tr>\n",
       "      <th rowspan=\"4\" valign=\"top\">C-1019</th>\n",
       "      <th>S01-01001</th>\n",
       "      <th>은행(S01)</th>\n",
       "      <th>대출원금·이자연체</th>\n",
       "      <th>주채무자(0)</th>\n",
       "      <th>202002</th>\n",
       "      <th>270000000</th>\n",
       "      <td>11</td>\n",
       "    </tr>\n",
       "    <tr>\n",
       "      <th>S05-01002</th>\n",
       "      <th>신용카드사(S05)</th>\n",
       "      <th>신용카드대금연체</th>\n",
       "      <th>특수채권(7)</th>\n",
       "      <th>201811</th>\n",
       "      <th>900000</th>\n",
       "      <td>17</td>\n",
       "    </tr>\n",
       "    <tr>\n",
       "      <th>S98-01028</th>\n",
       "      <th>기타-장학재단/기금 등(S98)</th>\n",
       "      <th>신용보증대지급금</th>\n",
       "      <th>주채무자(0)</th>\n",
       "      <th>201906</th>\n",
       "      <th>12000000</th>\n",
       "      <td>19</td>\n",
       "    </tr>\n",
       "    <tr>\n",
       "      <th>S98-01049</th>\n",
       "      <th>기타-장학재단/기금 등(S98)</th>\n",
       "      <th>대출원금·이자연체</th>\n",
       "      <th>주채무자(0)</th>\n",
       "      <th>201604</th>\n",
       "      <th>10000000</th>\n",
       "      <td>25</td>\n",
       "    </tr>\n",
       "    <tr>\n",
       "      <th>...</th>\n",
       "      <th>...</th>\n",
       "      <th>...</th>\n",
       "      <th>...</th>\n",
       "      <th>...</th>\n",
       "      <th>...</th>\n",
       "      <th>...</th>\n",
       "      <td>...</td>\n",
       "    </tr>\n",
       "    <tr>\n",
       "      <th rowspan=\"3\" valign=\"top\">C-2987</th>\n",
       "      <th>S05-01010</th>\n",
       "      <th>신용카드사(S05)</th>\n",
       "      <th>장기카드대출(카드론)연체</th>\n",
       "      <th>특수채권(7)</th>\n",
       "      <th>201801</th>\n",
       "      <th>5200000</th>\n",
       "      <td>25</td>\n",
       "    </tr>\n",
       "    <tr>\n",
       "      <th>S17-01085</th>\n",
       "      <th>캐피탈/할부/리스 등(S17)</th>\n",
       "      <th>대출원금·이자연체</th>\n",
       "      <th>특수채권(7)</th>\n",
       "      <th>201807</th>\n",
       "      <th>630000</th>\n",
       "      <td>1</td>\n",
       "    </tr>\n",
       "    <tr>\n",
       "      <th>S21-01019</th>\n",
       "      <th>상호저축은행(S21)</th>\n",
       "      <th>대출원금·이자연체</th>\n",
       "      <th>주채무자(0)</th>\n",
       "      <th>201810</th>\n",
       "      <th>9600000</th>\n",
       "      <td>4</td>\n",
       "    </tr>\n",
       "    <tr>\n",
       "      <th>C-2992</th>\n",
       "      <th>S98-01041</th>\n",
       "      <th>기타-장학재단/기금 등(S98)</th>\n",
       "      <th>신용보증대지급금</th>\n",
       "      <th>주채무자(0)</th>\n",
       "      <th>201411</th>\n",
       "      <th>9600000</th>\n",
       "      <td>25</td>\n",
       "    </tr>\n",
       "    <tr>\n",
       "      <th>C-2994</th>\n",
       "      <th>S98-01024</th>\n",
       "      <th>기타-장학재단/기금 등(S98)</th>\n",
       "      <th>지급보증대지급금</th>\n",
       "      <th>주채무자(0)</th>\n",
       "      <th>201505</th>\n",
       "      <th>500000</th>\n",
       "      <td>6</td>\n",
       "    </tr>\n",
       "  </tbody>\n",
       "</table>\n",
       "<p>884 rows × 1 columns</p>\n",
       "</div>"
      ],
      "text/plain": [
       "                                                                                  over_amt\n",
       "chaju_id com_id    sector            over_reason   over_regist over_ym over_amt           \n",
       "C-1001   S21-01018 상호저축은행(S21)       대출원금·이자연체     주채무자(0)     202001  5700000           2\n",
       "C-1019   S01-01001 은행(S01)           대출원금·이자연체     주채무자(0)     202002  270000000        11\n",
       "         S05-01002 신용카드사(S05)        신용카드대금연체      특수채권(7)     201811  900000           17\n",
       "         S98-01028 기타-장학재단/기금 등(S98) 신용보증대지급금      주채무자(0)     201906  12000000         19\n",
       "         S98-01049 기타-장학재단/기금 등(S98) 대출원금·이자연체     주채무자(0)     201604  10000000         25\n",
       "...                                                                                    ...\n",
       "C-2987   S05-01010 신용카드사(S05)        장기카드대출(카드론)연체 특수채권(7)     201801  5200000          25\n",
       "         S17-01085 캐피탈/할부/리스 등(S17)  대출원금·이자연체     특수채권(7)     201807  630000            1\n",
       "         S21-01019 상호저축은행(S21)       대출원금·이자연체     주채무자(0)     201810  9600000           4\n",
       "C-2992   S98-01041 기타-장학재단/기금 등(S98) 신용보증대지급금      주채무자(0)     201411  9600000          25\n",
       "C-2994   S98-01024 기타-장학재단/기금 등(S98) 지급보증대지급금      주채무자(0)     201505  500000            6\n",
       "\n",
       "[884 rows x 1 columns]"
      ]
     },
     "execution_count": 158,
     "metadata": {},
     "output_type": "execute_result"
    }
   ],
   "source": [
    "df_overdue_gb"
   ]
  },
  {
   "cell_type": "code",
   "execution_count": 168,
   "metadata": {
    "ExecuteTime": {
     "end_time": "2021-11-13T13:46:29.255036Z",
     "start_time": "2021-11-13T13:46:29.078398Z"
    }
   },
   "outputs": [],
   "source": [
    "df_overdue_gb.to_excel(\"연체정보.xlsx\")"
   ]
  }
 ],
 "metadata": {
  "kernelspec": {
   "display_name": "Python 3",
   "language": "python",
   "name": "python3"
  },
  "language_info": {
   "codemirror_mode": {
    "name": "ipython",
    "version": 3
   },
   "file_extension": ".py",
   "mimetype": "text/x-python",
   "name": "python",
   "nbconvert_exporter": "python",
   "pygments_lexer": "ipython3",
   "version": "3.8.5"
  },
  "toc": {
   "base_numbering": 1,
   "nav_menu": {},
   "number_sections": true,
   "sideBar": true,
   "skip_h1_title": false,
   "title_cell": "Table of Contents",
   "title_sidebar": "Contents",
   "toc_cell": false,
   "toc_position": {
    "height": "calc(100% - 180px)",
    "left": "10px",
    "top": "150px",
    "width": "165px"
   },
   "toc_section_display": true,
   "toc_window_display": true
  }
 },
 "nbformat": 4,
 "nbformat_minor": 5
}
