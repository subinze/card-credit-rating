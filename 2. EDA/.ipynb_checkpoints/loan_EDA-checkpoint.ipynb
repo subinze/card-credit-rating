{
 "cells": [
  {
   "cell_type": "code",
   "execution_count": 1,
   "metadata": {},
   "outputs": [],
   "source": [
    "import pandas as pd\n",
    "import numpy as np \n",
    "\n",
    "import matplotlib.pyplot as plt\n",
    "import seaborn as sns\n",
    "\n",
    "import missingno as msno"
   ]
  },
  {
   "cell_type": "markdown",
   "metadata": {},
   "source": [
    "## 데이터 불러오기 "
   ]
  },
  {
   "cell_type": "code",
   "execution_count": 38,
   "metadata": {
    "scrolled": false
   },
   "outputs": [
    {
     "data": {
      "text/html": [
       "<div>\n",
       "<style scoped>\n",
       "    .dataframe tbody tr th:only-of-type {\n",
       "        vertical-align: middle;\n",
       "    }\n",
       "\n",
       "    .dataframe tbody tr th {\n",
       "        vertical-align: top;\n",
       "    }\n",
       "\n",
       "    .dataframe thead th {\n",
       "        text-align: right;\n",
       "    }\n",
       "</style>\n",
       "<table border=\"1\" class=\"dataframe\">\n",
       "  <thead>\n",
       "    <tr style=\"text-align: right;\">\n",
       "      <th></th>\n",
       "      <th>chaju_id</th>\n",
       "      <th>com_id</th>\n",
       "      <th>check_ym</th>\n",
       "      <th>sector_cd</th>\n",
       "      <th>sector</th>\n",
       "      <th>loan_cd_1</th>\n",
       "      <th>loan_prod_1</th>\n",
       "      <th>loan_cd_2</th>\n",
       "      <th>loan_prod_2</th>\n",
       "      <th>loan_ym</th>\n",
       "      <th>loan_amt</th>\n",
       "    </tr>\n",
       "  </thead>\n",
       "  <tbody>\n",
       "    <tr>\n",
       "      <th>0</th>\n",
       "      <td>C-1001</td>\n",
       "      <td>S01-01010</td>\n",
       "      <td>201905</td>\n",
       "      <td>S01</td>\n",
       "      <td>은행(S01)</td>\n",
       "      <td>L0031</td>\n",
       "      <td>개인대출정보(카드대출 제외)</td>\n",
       "      <td>L220</td>\n",
       "      <td>주택담보대출</td>\n",
       "      <td>201810</td>\n",
       "      <td>19000000</td>\n",
       "    </tr>\n",
       "    <tr>\n",
       "      <th>1</th>\n",
       "      <td>C-1001</td>\n",
       "      <td>S01-01010</td>\n",
       "      <td>201901</td>\n",
       "      <td>S01</td>\n",
       "      <td>은행(S01)</td>\n",
       "      <td>L0031</td>\n",
       "      <td>개인대출정보(카드대출 제외)</td>\n",
       "      <td>L220</td>\n",
       "      <td>주택담보대출</td>\n",
       "      <td>201810</td>\n",
       "      <td>19000000</td>\n",
       "    </tr>\n",
       "    <tr>\n",
       "      <th>2</th>\n",
       "      <td>C-1001</td>\n",
       "      <td>S01-01010</td>\n",
       "      <td>201902</td>\n",
       "      <td>S01</td>\n",
       "      <td>은행(S01)</td>\n",
       "      <td>L0031</td>\n",
       "      <td>개인대출정보(카드대출 제외)</td>\n",
       "      <td>L220</td>\n",
       "      <td>주택담보대출</td>\n",
       "      <td>201810</td>\n",
       "      <td>19000000</td>\n",
       "    </tr>\n",
       "    <tr>\n",
       "      <th>3</th>\n",
       "      <td>C-1001</td>\n",
       "      <td>S01-01010</td>\n",
       "      <td>201812</td>\n",
       "      <td>S01</td>\n",
       "      <td>은행(S01)</td>\n",
       "      <td>L0031</td>\n",
       "      <td>개인대출정보(카드대출 제외)</td>\n",
       "      <td>L220</td>\n",
       "      <td>주택담보대출</td>\n",
       "      <td>201810</td>\n",
       "      <td>19000000</td>\n",
       "    </tr>\n",
       "    <tr>\n",
       "      <th>4</th>\n",
       "      <td>C-1001</td>\n",
       "      <td>S01-01010</td>\n",
       "      <td>201904</td>\n",
       "      <td>S01</td>\n",
       "      <td>은행(S01)</td>\n",
       "      <td>L0031</td>\n",
       "      <td>개인대출정보(카드대출 제외)</td>\n",
       "      <td>L220</td>\n",
       "      <td>주택담보대출</td>\n",
       "      <td>201810</td>\n",
       "      <td>19000000</td>\n",
       "    </tr>\n",
       "  </tbody>\n",
       "</table>\n",
       "</div>"
      ],
      "text/plain": [
       "  chaju_id     com_id  check_ym sector_cd   sector loan_cd_1      loan_prod_1  \\\n",
       "0   C-1001  S01-01010    201905       S01  은행(S01)     L0031  개인대출정보(카드대출 제외)   \n",
       "1   C-1001  S01-01010    201901       S01  은행(S01)     L0031  개인대출정보(카드대출 제외)   \n",
       "2   C-1001  S01-01010    201902       S01  은행(S01)     L0031  개인대출정보(카드대출 제외)   \n",
       "3   C-1001  S01-01010    201812       S01  은행(S01)     L0031  개인대출정보(카드대출 제외)   \n",
       "4   C-1001  S01-01010    201904       S01  은행(S01)     L0031  개인대출정보(카드대출 제외)   \n",
       "\n",
       "  loan_cd_2 loan_prod_2  loan_ym  loan_amt  \n",
       "0      L220      주택담보대출   201810  19000000  \n",
       "1      L220      주택담보대출   201810  19000000  \n",
       "2      L220      주택담보대출   201810  19000000  \n",
       "3      L220      주택담보대출   201810  19000000  \n",
       "4      L220      주택담보대출   201810  19000000  "
      ]
     },
     "execution_count": 38,
     "metadata": {},
     "output_type": "execute_result"
    }
   ],
   "source": [
    "df_loan = pd.read_csv('CreDB_loan.csv', engine= 'python', encoding='cp949')\n",
    "df_loan.head()"
   ]
  },
  {
   "cell_type": "code",
   "execution_count": 11,
   "metadata": {},
   "outputs": [
    {
     "data": {
      "text/plain": [
       "(58775, 11)"
      ]
     },
     "execution_count": 11,
     "metadata": {},
     "output_type": "execute_result"
    }
   ],
   "source": [
    "df_loan.shape"
   ]
  },
  {
   "cell_type": "markdown",
   "metadata": {},
   "source": [
    "## 데이터 결측치 : 없음"
   ]
  },
  {
   "cell_type": "code",
   "execution_count": 24,
   "metadata": {
    "scrolled": false
   },
   "outputs": [
    {
     "data": {
      "text/plain": [
       "<AxesSubplot:>"
      ]
     },
     "execution_count": 24,
     "metadata": {},
     "output_type": "execute_result"
    },
    {
     "data": {
      "image/png": "[encoded data removed]",
      "text/plain": [
       "<Figure size 576x576 with 2 Axes>"
      ]
     },
     "metadata": {
      "needs_background": "light"
     },
     "output_type": "display_data"
    }
   ],
   "source": [
    "#결측치 확인 \n",
    "msno.matrix(df=df_loan.iloc[:, :], figsize=(8, 8), color=(0.5, 0.4, 0.4))"
   ]
  },
  {
   "cell_type": "markdown",
   "metadata": {},
   "source": [
    "## 데이터 이상치 "
   ]
  },
  {
   "cell_type": "code",
   "execution_count": 27,
   "metadata": {},
   "outputs": [],
   "source": [
    "#이상치 범위 \n",
    "def outlier_upper(series):\n",
    "    Q1 = series.quantile(.25)\n",
    "    Q3 = series.quantile(.75)\n",
    "    IQR_ = Q3 - Q1\n",
    "    upper = Q3 + 1.5*IQR_\n",
    "    return upper\n",
    "def outlier_lower(series):\n",
    "    Q1 = series.quantile(.25)\n",
    "    Q3 = series.quantile(.75)\n",
    "    IQR_ = Q3 - Q1\n",
    "    lower = Q1 - 1.5*IQR_\n",
    "    return lower"
   ]
  },
  {
   "cell_type": "markdown",
   "metadata": {},
   "source": [
    "### check_ym , 기준년월(대출) : 이상치 없음"
   ]
  },
  {
   "cell_type": "code",
   "execution_count": 13,
   "metadata": {
    "scrolled": false
   },
   "outputs": [
    {
     "data": {
      "text/plain": [
       "{'whiskers': [<matplotlib.lines.Line2D at 0x7f20e2c6e640>,\n",
       "  <matplotlib.lines.Line2D at 0x7f20e2c6e9a0>],\n",
       " 'caps': [<matplotlib.lines.Line2D at 0x7f20e2c6ed30>,\n",
       "  <matplotlib.lines.Line2D at 0x7f20e2c630d0>],\n",
       " 'boxes': [<matplotlib.lines.Line2D at 0x7f20e2c6e2e0>],\n",
       " 'medians': [<matplotlib.lines.Line2D at 0x7f20e2c63430>],\n",
       " 'fliers': [<matplotlib.lines.Line2D at 0x7f20e2c63790>],\n",
       " 'means': []}"
      ]
     },
     "execution_count": 13,
     "metadata": {},
     "output_type": "execute_result"
    },
    {
     "data": {
      "image/png": "[encoded data removed]",
      "text/plain": [
       "<Figure size 432x288 with 1 Axes>"
      ]
     },
     "metadata": {
      "needs_background": "light"
     },
     "output_type": "display_data"
    }
   ],
   "source": [
    "plt.boxplot(df_loan['check_ym'])"
   ]
  },
  {
   "cell_type": "markdown",
   "metadata": {},
   "source": [
    "### loan_ym , 대출년월 : 이상치 있음"
   ]
  },
  {
   "cell_type": "code",
   "execution_count": 14,
   "metadata": {
    "scrolled": false
   },
   "outputs": [
    {
     "data": {
      "text/plain": [
       "{'whiskers': [<matplotlib.lines.Line2D at 0x7f20e21f95e0>,\n",
       "  <matplotlib.lines.Line2D at 0x7f20e21f9940>],\n",
       " 'caps': [<matplotlib.lines.Line2D at 0x7f20e21f9ca0>,\n",
       "  <matplotlib.lines.Line2D at 0x7f20e220f040>],\n",
       " 'boxes': [<matplotlib.lines.Line2D at 0x7f20e21f9280>],\n",
       " 'medians': [<matplotlib.lines.Line2D at 0x7f20e220f3a0>],\n",
       " 'fliers': [<matplotlib.lines.Line2D at 0x7f20e220f700>],\n",
       " 'means': []}"
      ]
     },
     "execution_count": 14,
     "metadata": {},
     "output_type": "execute_result"
    },
    {
     "data": {
      "image/png": "[encoded data removed]",
      "text/plain": [
       "<Figure size 432x288 with 1 Axes>"
      ]
     },
     "metadata": {
      "needs_background": "light"
     },
     "output_type": "display_data"
    }
   ],
   "source": [
    "plt.boxplot(df_loan['loan_ym'])"
   ]
  },
  {
   "cell_type": "code",
   "execution_count": 37,
   "metadata": {
    "scrolled": false
   },
   "outputs": [
    {
     "data": {
      "text/html": [
       "<div>\n",
       "<style scoped>\n",
       "    .dataframe tbody tr th:only-of-type {\n",
       "        vertical-align: middle;\n",
       "    }\n",
       "\n",
       "    .dataframe tbody tr th {\n",
       "        vertical-align: top;\n",
       "    }\n",
       "\n",
       "    .dataframe thead th {\n",
       "        text-align: right;\n",
       "    }\n",
       "</style>\n",
       "<table border=\"1\" class=\"dataframe\">\n",
       "  <thead>\n",
       "    <tr style=\"text-align: right;\">\n",
       "      <th></th>\n",
       "      <th>chaju_id</th>\n",
       "    </tr>\n",
       "  </thead>\n",
       "  <tbody>\n",
       "    <tr>\n",
       "      <th>86</th>\n",
       "      <td>C-1003</td>\n",
       "    </tr>\n",
       "    <tr>\n",
       "      <th>88</th>\n",
       "      <td>C-1003</td>\n",
       "    </tr>\n",
       "    <tr>\n",
       "      <th>89</th>\n",
       "      <td>C-1003</td>\n",
       "    </tr>\n",
       "    <tr>\n",
       "      <th>90</th>\n",
       "      <td>C-1003</td>\n",
       "    </tr>\n",
       "    <tr>\n",
       "      <th>91</th>\n",
       "      <td>C-1003</td>\n",
       "    </tr>\n",
       "    <tr>\n",
       "      <th>...</th>\n",
       "      <td>...</td>\n",
       "    </tr>\n",
       "    <tr>\n",
       "      <th>58676</th>\n",
       "      <td>C-3000</td>\n",
       "    </tr>\n",
       "    <tr>\n",
       "      <th>58678</th>\n",
       "      <td>C-3000</td>\n",
       "    </tr>\n",
       "    <tr>\n",
       "      <th>58679</th>\n",
       "      <td>C-3000</td>\n",
       "    </tr>\n",
       "    <tr>\n",
       "      <th>58680</th>\n",
       "      <td>C-3000</td>\n",
       "    </tr>\n",
       "    <tr>\n",
       "      <th>58681</th>\n",
       "      <td>C-3000</td>\n",
       "    </tr>\n",
       "  </tbody>\n",
       "</table>\n",
       "<p>3579 rows × 1 columns</p>\n",
       "</div>"
      ],
      "text/plain": [
       "      chaju_id\n",
       "86      C-1003\n",
       "88      C-1003\n",
       "89      C-1003\n",
       "90      C-1003\n",
       "91      C-1003\n",
       "...        ...\n",
       "58676   C-3000\n",
       "58678   C-3000\n",
       "58679   C-3000\n",
       "58680   C-3000\n",
       "58681   C-3000\n",
       "\n",
       "[3579 rows x 1 columns]"
      ]
     },
     "execution_count": 37,
     "metadata": {},
     "output_type": "execute_result"
    }
   ],
   "source": [
    "df_loan.loc[df_loan.loan_ym < outlier_lower(df_loan.loan_ym) , ['chaju_id']]"
   ]
  },
  {
   "cell_type": "markdown",
   "metadata": {},
   "source": [
    "### loan_amt , 대출금액 : 이상치 있음"
   ]
  },
  {
   "cell_type": "code",
   "execution_count": 15,
   "metadata": {},
   "outputs": [
    {
     "data": {
      "text/plain": [
       "{'whiskers': [<matplotlib.lines.Line2D at 0x7f20e40cb5e0>,\n",
       "  <matplotlib.lines.Line2D at 0x7f20e40cb940>],\n",
       " 'caps': [<matplotlib.lines.Line2D at 0x7f20e40cbca0>,\n",
       "  <matplotlib.lines.Line2D at 0x7f20e40bd040>],\n",
       " 'boxes': [<matplotlib.lines.Line2D at 0x7f20e40cb280>],\n",
       " 'medians': [<matplotlib.lines.Line2D at 0x7f20e40bd3a0>],\n",
       " 'fliers': [<matplotlib.lines.Line2D at 0x7f20e40bd700>],\n",
       " 'means': []}"
      ]
     },
     "execution_count": 15,
     "metadata": {},
     "output_type": "execute_result"
    },
    {
     "data": {
      "image/png": "[encoded data removed]",
      "text/plain": [
       "<Figure size 432x288 with 1 Axes>"
      ]
     },
     "metadata": {
      "needs_background": "light"
     },
     "output_type": "display_data"
    }
   ],
   "source": [
    "plt.boxplot(df_loan['loan_amt'])"
   ]
  },
  {
   "cell_type": "code",
   "execution_count": 32,
   "metadata": {},
   "outputs": [
    {
     "data": {
      "text/html": [
       "<div>\n",
       "<style scoped>\n",
       "    .dataframe tbody tr th:only-of-type {\n",
       "        vertical-align: middle;\n",
       "    }\n",
       "\n",
       "    .dataframe tbody tr th {\n",
       "        vertical-align: top;\n",
       "    }\n",
       "\n",
       "    .dataframe thead th {\n",
       "        text-align: right;\n",
       "    }\n",
       "</style>\n",
       "<table border=\"1\" class=\"dataframe\">\n",
       "  <thead>\n",
       "    <tr style=\"text-align: right;\">\n",
       "      <th></th>\n",
       "      <th>chaju_id</th>\n",
       "    </tr>\n",
       "  </thead>\n",
       "  <tbody>\n",
       "    <tr>\n",
       "      <th>85</th>\n",
       "      <td>C-1003</td>\n",
       "    </tr>\n",
       "    <tr>\n",
       "      <th>87</th>\n",
       "      <td>C-1003</td>\n",
       "    </tr>\n",
       "    <tr>\n",
       "      <th>95</th>\n",
       "      <td>C-1003</td>\n",
       "    </tr>\n",
       "    <tr>\n",
       "      <th>104</th>\n",
       "      <td>C-1003</td>\n",
       "    </tr>\n",
       "    <tr>\n",
       "      <th>107</th>\n",
       "      <td>C-1003</td>\n",
       "    </tr>\n",
       "    <tr>\n",
       "      <th>...</th>\n",
       "      <td>...</td>\n",
       "    </tr>\n",
       "    <tr>\n",
       "      <th>58182</th>\n",
       "      <td>C-2986</td>\n",
       "    </tr>\n",
       "    <tr>\n",
       "      <th>58626</th>\n",
       "      <td>C-2996</td>\n",
       "    </tr>\n",
       "    <tr>\n",
       "      <th>58627</th>\n",
       "      <td>C-2996</td>\n",
       "    </tr>\n",
       "    <tr>\n",
       "      <th>58628</th>\n",
       "      <td>C-2996</td>\n",
       "    </tr>\n",
       "    <tr>\n",
       "      <th>58629</th>\n",
       "      <td>C-2996</td>\n",
       "    </tr>\n",
       "  </tbody>\n",
       "</table>\n",
       "<p>8238 rows × 1 columns</p>\n",
       "</div>"
      ],
      "text/plain": [
       "      chaju_id\n",
       "85      C-1003\n",
       "87      C-1003\n",
       "95      C-1003\n",
       "104     C-1003\n",
       "107     C-1003\n",
       "...        ...\n",
       "58182   C-2986\n",
       "58626   C-2996\n",
       "58627   C-2996\n",
       "58628   C-2996\n",
       "58629   C-2996\n",
       "\n",
       "[8238 rows x 1 columns]"
      ]
     },
     "execution_count": 32,
     "metadata": {},
     "output_type": "execute_result"
    }
   ],
   "source": [
    "df_loan.loc[df_loan.loan_amt > outlier_upper(df_loan.loan_amt) , ['chaju_id']]"
   ]
  },
  {
   "cell_type": "code",
   "execution_count": null,
   "metadata": {},
   "outputs": [],
   "source": []
  },
  {
   "cell_type": "code",
   "execution_count": null,
   "metadata": {},
   "outputs": [],
   "source": []
  },
  {
   "cell_type": "code",
   "execution_count": null,
   "metadata": {},
   "outputs": [],
   "source": []
  },
  {
   "cell_type": "code",
   "execution_count": null,
   "metadata": {},
   "outputs": [],
   "source": []
  },
  {
   "cell_type": "code",
   "execution_count": null,
   "metadata": {},
   "outputs": [],
   "source": []
  }
 ],
 "metadata": {
  "kernelspec": {
   "display_name": "Python 3",
   "language": "python",
   "name": "python3"
  },
  "language_info": {
   "codemirror_mode": {
    "name": "ipython",
    "version": 3
   },
   "file_extension": ".py",
   "mimetype": "text/x-python",
   "name": "python",
   "nbconvert_exporter": "python",
   "pygments_lexer": "ipython3",
   "version": "3.8.5"
  },
  "toc": {
   "base_numbering": 1,
   "nav_menu": {},
   "number_sections": true,
   "sideBar": true,
   "skip_h1_title": false,
   "title_cell": "Table of Contents",
   "title_sidebar": "Contents",
   "toc_cell": false,
   "toc_position": {},
   "toc_section_display": true,
   "toc_window_display": false
  }
 },
 "nbformat": 4,
 "nbformat_minor": 5
}
