{
 "cells": [
  {
   "cell_type": "code",
   "execution_count": 89,
   "metadata": {},
   "outputs": [],
   "source": [
    "import pandas as pd\n",
    "import numpy as np\n",
    "\n",
    "import seaborn as sns"
   ]
  },
  {
   "cell_type": "code",
   "execution_count": 63,
   "metadata": {
    "scrolled": false
   },
   "outputs": [
    {
     "data": {
      "text/html": [
       "<div>\n",
       "<style scoped>\n",
       "    .dataframe tbody tr th:only-of-type {\n",
       "        vertical-align: middle;\n",
       "    }\n",
       "\n",
       "    .dataframe tbody tr th {\n",
       "        vertical-align: top;\n",
       "    }\n",
       "\n",
       "    .dataframe thead th {\n",
       "        text-align: right;\n",
       "    }\n",
       "</style>\n",
       "<table border=\"1\" class=\"dataframe\">\n",
       "  <thead>\n",
       "    <tr style=\"text-align: right;\">\n",
       "      <th></th>\n",
       "      <th>income_ind_grp</th>\n",
       "    </tr>\n",
       "  </thead>\n",
       "  <tbody>\n",
       "    <tr>\n",
       "      <th>0</th>\n",
       "      <td>300-399만원</td>\n",
       "    </tr>\n",
       "    <tr>\n",
       "      <th>1</th>\n",
       "      <td>100-199만원</td>\n",
       "    </tr>\n",
       "    <tr>\n",
       "      <th>2</th>\n",
       "      <td>500-599만원</td>\n",
       "    </tr>\n",
       "    <tr>\n",
       "      <th>3</th>\n",
       "      <td>200-299만원</td>\n",
       "    </tr>\n",
       "    <tr>\n",
       "      <th>4</th>\n",
       "      <td>500-599만원</td>\n",
       "    </tr>\n",
       "    <tr>\n",
       "      <th>...</th>\n",
       "      <td>...</td>\n",
       "    </tr>\n",
       "    <tr>\n",
       "      <th>1979</th>\n",
       "      <td>300-399만원</td>\n",
       "    </tr>\n",
       "    <tr>\n",
       "      <th>1980</th>\n",
       "      <td>300-399만원</td>\n",
       "    </tr>\n",
       "    <tr>\n",
       "      <th>1981</th>\n",
       "      <td>100-199만원</td>\n",
       "    </tr>\n",
       "    <tr>\n",
       "      <th>1982</th>\n",
       "      <td>300-399만원</td>\n",
       "    </tr>\n",
       "    <tr>\n",
       "      <th>1983</th>\n",
       "      <td>99만원 이하</td>\n",
       "    </tr>\n",
       "  </tbody>\n",
       "</table>\n",
       "<p>1984 rows × 1 columns</p>\n",
       "</div>"
      ],
      "text/plain": [
       "     income_ind_grp\n",
       "0         300-399만원\n",
       "1         100-199만원\n",
       "2         500-599만원\n",
       "3         200-299만원\n",
       "4         500-599만원\n",
       "...             ...\n",
       "1979      300-399만원\n",
       "1980      300-399만원\n",
       "1981      100-199만원\n",
       "1982      300-399만원\n",
       "1983        99만원 이하\n",
       "\n",
       "[1984 rows x 1 columns]"
      ]
     },
     "execution_count": 63,
     "metadata": {},
     "output_type": "execute_result"
    }
   ],
   "source": [
    "df_all = pd.read_csv(\"final_df_all_ver0.6(전체).csv\",engine='python')\n",
    "df_all[['income_ind_grp']]"
   ]
  },
  {
   "cell_type": "code",
   "execution_count": 70,
   "metadata": {},
   "outputs": [],
   "source": [
    "df_all.loc[(df_all.income_ind_grp == '99만원 이하'),'income_ind_grp'] = 50\n",
    "df_all.loc[(df_all.income_ind_grp == '100-199만원'),'income_ind_grp'] = 150\n",
    "df_all.loc[(df_all.income_ind_grp == '200-299만원'),'income_ind_grp'] = 250\n",
    "df_all.loc[(df_all.income_ind_grp == '300-399만원'),'income_ind_grp'] = 350\n",
    "df_all.loc[(df_all.income_ind_grp == '400-499만원'),'income_ind_grp'] = 450\n",
    "df_all.loc[(df_all.income_ind_grp == '500-599만원'),'income_ind_grp'] = 550\n",
    "df_all.loc[(df_all.income_ind_grp == '600-699만원'),'income_ind_grp'] = 650\n",
    "df_all.loc[(df_all.income_ind_grp == '700-799만원'),'income_ind_grp'] = 750\n",
    "df_all.loc[(df_all.income_ind_grp == '800-899만원'),'income_ind_grp'] = 850\n",
    "df_all.loc[(df_all.income_ind_grp == '900-999만원'),'income_ind_grp'] = 950\n",
    "df_all.loc[(df_all.income_ind_grp == '1000만원 이상'),'income_ind_grp'] = 2000"
   ]
  },
  {
   "cell_type": "code",
   "execution_count": 71,
   "metadata": {
    "scrolled": true
   },
   "outputs": [
    {
     "data": {
      "text/plain": [
       "0       350\n",
       "1       150\n",
       "2       550\n",
       "3       250\n",
       "4       550\n",
       "       ... \n",
       "1979    350\n",
       "1980    350\n",
       "1981    150\n",
       "1982    350\n",
       "1983     50\n",
       "Name: income_ind_grp, Length: 1984, dtype: object"
      ]
     },
     "execution_count": 71,
     "metadata": {},
     "output_type": "execute_result"
    }
   ],
   "source": [
    "df_all['income_ind_grp']"
   ]
  },
  {
   "cell_type": "code",
   "execution_count": 81,
   "metadata": {},
   "outputs": [
    {
     "data": {
      "text/plain": [
       "0        70300000.0\n",
       "1         3150000.0\n",
       "2       391000000.0\n",
       "3          590000.0\n",
       "4       367200000.0\n",
       "           ...     \n",
       "1979     68000000.0\n",
       "1980            0.0\n",
       "1981            0.0\n",
       "1982            0.0\n",
       "1983     39550000.0\n",
       "Name: loan_amt_final2, Length: 1984, dtype: float64"
      ]
     },
     "execution_count": 81,
     "metadata": {},
     "output_type": "execute_result"
    }
   ],
   "source": [
    "df_all['loan_amt_final2']"
   ]
  },
  {
   "cell_type": "code",
   "execution_count": 97,
   "metadata": {},
   "outputs": [],
   "source": [
    "def simple_DTI(income_ind_grp, loan_amt):\n",
    "    dti_rate = loan_amt/(income_ind_grp*12) \n",
    "    return dti_rate"
   ]
  },
  {
   "cell_type": "code",
   "execution_count": 98,
   "metadata": {},
   "outputs": [
    {
     "data": {
      "text/plain": [
       "3150000.0"
      ]
     },
     "execution_count": 98,
     "metadata": {},
     "output_type": "execute_result"
    }
   ],
   "source": [
    "df_all.loc[1,'loan_amt_final2']"
   ]
  },
  {
   "cell_type": "code",
   "execution_count": 99,
   "metadata": {},
   "outputs": [],
   "source": [
    "for i in range(1984):\n",
    "    df_all.loc[i,'dti'] = simple_DTI(df_all['income_ind_grp'][i]*10000,df_all['loan_amt_final2'][i])"
   ]
  },
  {
   "cell_type": "code",
   "execution_count": 100,
   "metadata": {
    "scrolled": false
   },
   "outputs": [
    {
     "data": {
      "text/plain": [
       "<AxesSubplot:xlabel='dti', ylabel='del_rate'>"
      ]
     },
     "execution_count": 100,
     "metadata": {},
     "output_type": "execute_result"
    },
    {
     "data": {
      "image/png": "[encoded data removed]",
      "text/plain": [
       "<Figure size 432x288 with 1 Axes>"
      ]
     },
     "metadata": {
      "needs_background": "light"
     },
     "output_type": "display_data"
    }
   ],
   "source": [
    "sns.scatterplot(y='del_rate',x='dti',data=df_all)"
   ]
  },
  {
   "cell_type": "code",
   "execution_count": 133,
   "metadata": {},
   "outputs": [
    {
     "data": {
      "text/html": [
       "<div>\n",
       "<style scoped>\n",
       "    .dataframe tbody tr th:only-of-type {\n",
       "        vertical-align: middle;\n",
       "    }\n",
       "\n",
       "    .dataframe tbody tr th {\n",
       "        vertical-align: top;\n",
       "    }\n",
       "\n",
       "    .dataframe thead th {\n",
       "        text-align: right;\n",
       "    }\n",
       "</style>\n",
       "<table border=\"1\" class=\"dataframe\">\n",
       "  <thead>\n",
       "    <tr style=\"text-align: right;\">\n",
       "      <th></th>\n",
       "      <th>chaju_id</th>\n",
       "      <th>credit_class</th>\n",
       "      <th>score_risk</th>\n",
       "      <th>gender</th>\n",
       "      <th>age</th>\n",
       "      <th>agegroup</th>\n",
       "      <th>job</th>\n",
       "      <th>edu</th>\n",
       "      <th>dwell_type</th>\n",
       "      <th>house_type</th>\n",
       "      <th>...</th>\n",
       "      <th>Pcard_loan_amt</th>\n",
       "      <th>over_period</th>\n",
       "      <th>Pcard_over_amt</th>\n",
       "      <th>over_amt</th>\n",
       "      <th>loan_amt_final2</th>\n",
       "      <th>del_rate</th>\n",
       "      <th>loan_count</th>\n",
       "      <th>overdue_count</th>\n",
       "      <th>dti</th>\n",
       "      <th>exp_ratio</th>\n",
       "    </tr>\n",
       "  </thead>\n",
       "  <tbody>\n",
       "    <tr>\n",
       "      <th>903</th>\n",
       "      <td>C-1909</td>\n",
       "      <td>C07</td>\n",
       "      <td>674</td>\n",
       "      <td>여성</td>\n",
       "      <td>67</td>\n",
       "      <td>60대</td>\n",
       "      <td>무직/기타</td>\n",
       "      <td>중학교 졸업</td>\n",
       "      <td>영구임대</td>\n",
       "      <td>아파트</td>\n",
       "      <td>...</td>\n",
       "      <td>0.0</td>\n",
       "      <td>41.0</td>\n",
       "      <td>0.0</td>\n",
       "      <td>13900000.0</td>\n",
       "      <td>6.489000e+08</td>\n",
       "      <td>2.142087</td>\n",
       "      <td>2.0</td>\n",
       "      <td>2.0</td>\n",
       "      <td>108.15</td>\n",
       "      <td>0.083333</td>\n",
       "    </tr>\n",
       "    <tr>\n",
       "      <th>1572</th>\n",
       "      <td>C-2585</td>\n",
       "      <td>C05</td>\n",
       "      <td>417</td>\n",
       "      <td>여성</td>\n",
       "      <td>71</td>\n",
       "      <td>70대</td>\n",
       "      <td>전업주부</td>\n",
       "      <td>고등학교 졸업</td>\n",
       "      <td>전세</td>\n",
       "      <td>단독주택</td>\n",
       "      <td>...</td>\n",
       "      <td>0.0</td>\n",
       "      <td>0.0</td>\n",
       "      <td>0.0</td>\n",
       "      <td>0.0</td>\n",
       "      <td>3.441000e+08</td>\n",
       "      <td>0.000000</td>\n",
       "      <td>4.0</td>\n",
       "      <td>0.0</td>\n",
       "      <td>57.35</td>\n",
       "      <td>0.083333</td>\n",
       "    </tr>\n",
       "    <tr>\n",
       "      <th>1907</th>\n",
       "      <td>C-2923</td>\n",
       "      <td>C06</td>\n",
       "      <td>554</td>\n",
       "      <td>남성</td>\n",
       "      <td>66</td>\n",
       "      <td>60대</td>\n",
       "      <td>판매/서비스직</td>\n",
       "      <td>중학교 졸업</td>\n",
       "      <td>자가</td>\n",
       "      <td>단독주택</td>\n",
       "      <td>...</td>\n",
       "      <td>0.0</td>\n",
       "      <td>0.0</td>\n",
       "      <td>0.0</td>\n",
       "      <td>0.0</td>\n",
       "      <td>1.800000e+09</td>\n",
       "      <td>0.000000</td>\n",
       "      <td>1.0</td>\n",
       "      <td>0.0</td>\n",
       "      <td>60.00</td>\n",
       "      <td>0.016667</td>\n",
       "    </tr>\n",
       "  </tbody>\n",
       "</table>\n",
       "<p>3 rows × 30 columns</p>\n",
       "</div>"
      ],
      "text/plain": [
       "     chaju_id credit_class  score_risk gender  age agegroup      job      edu  \\\n",
       "903    C-1909          C07         674     여성   67      60대    무직/기타   중학교 졸업   \n",
       "1572   C-2585          C05         417     여성   71      70대     전업주부  고등학교 졸업   \n",
       "1907   C-2923          C06         554     남성   66      60대  판매/서비스직   중학교 졸업   \n",
       "\n",
       "     dwell_type house_type  ... Pcard_loan_amt over_period Pcard_over_amt  \\\n",
       "903        영구임대        아파트  ...            0.0        41.0            0.0   \n",
       "1572         전세       단독주택  ...            0.0         0.0            0.0   \n",
       "1907         자가       단독주택  ...            0.0         0.0            0.0   \n",
       "\n",
       "        over_amt loan_amt_final2  del_rate loan_count  overdue_count     dti  \\\n",
       "903   13900000.0    6.489000e+08  2.142087        2.0            2.0  108.15   \n",
       "1572         0.0    3.441000e+08  0.000000        4.0            0.0   57.35   \n",
       "1907         0.0    1.800000e+09  0.000000        1.0            0.0   60.00   \n",
       "\n",
       "      exp_ratio  \n",
       "903    0.083333  \n",
       "1572   0.083333  \n",
       "1907   0.016667  \n",
       "\n",
       "[3 rows x 30 columns]"
      ]
     },
     "execution_count": 133,
     "metadata": {},
     "output_type": "execute_result"
    }
   ],
   "source": [
    "df_all[df_all['dti']>50]"
   ]
  },
  {
   "cell_type": "code",
   "execution_count": 101,
   "metadata": {},
   "outputs": [
    {
     "data": {
      "text/plain": [
       "0       100-199만원\n",
       "1         99만원 이하\n",
       "2       100-199만원\n",
       "3         99만원 이하\n",
       "4       200-299만원\n",
       "          ...    \n",
       "1979    100-199만원\n",
       "1980    100-199만원\n",
       "1981    100-199만원\n",
       "1982    100-199만원\n",
       "1983      99만원 이하\n",
       "Name: expenditure_grp, Length: 1984, dtype: object"
      ]
     },
     "execution_count": 101,
     "metadata": {},
     "output_type": "execute_result"
    }
   ],
   "source": [
    "df_all.expenditure_grp"
   ]
  },
  {
   "cell_type": "code",
   "execution_count": 102,
   "metadata": {},
   "outputs": [],
   "source": [
    "df_all.loc[(df_all.expenditure_grp == '99만원 이하'),'expenditure_grp'] = 50\n",
    "df_all.loc[(df_all.expenditure_grp == '100-199만원'),'expenditure_grp'] = 150\n",
    "df_all.loc[(df_all.expenditure_grp == '200-299만원'),'expenditure_grp'] = 250\n",
    "df_all.loc[(df_all.expenditure_grp == '300-399만원'),'expenditure_grp'] = 350\n",
    "df_all.loc[(df_all.expenditure_grp == '400-499만원'),'expenditure_grp'] = 450\n",
    "df_all.loc[(df_all.expenditure_grp == '500-599만원'),'expenditure_grp'] = 550"
   ]
  },
  {
   "cell_type": "code",
   "execution_count": 116,
   "metadata": {},
   "outputs": [],
   "source": [
    "def exp_ratio(income_ind_grp,expenditure_grp ):\n",
    "    res = expenditure_grp/income_ind_grp \n",
    "    return res"
   ]
  },
  {
   "cell_type": "code",
   "execution_count": 119,
   "metadata": {},
   "outputs": [],
   "source": [
    "for i in range(1984):\n",
    "    df_all.loc[i,'exp_ratio'] = simple_DTI(df_all['income_ind_grp'][i],df_all['expenditure_grp'][i])"
   ]
  },
  {
   "cell_type": "code",
   "execution_count": 120,
   "metadata": {},
   "outputs": [
    {
     "data": {
      "text/plain": [
       "0       0.035714\n",
       "1       0.027778\n",
       "2       0.022727\n",
       "3       0.016667\n",
       "4       0.037879\n",
       "          ...   \n",
       "1979    0.035714\n",
       "1980    0.035714\n",
       "1981    0.083333\n",
       "1982    0.035714\n",
       "1983    0.083333\n",
       "Name: exp_ratio, Length: 1984, dtype: float64"
      ]
     },
     "execution_count": 120,
     "metadata": {},
     "output_type": "execute_result"
    }
   ],
   "source": [
    "df_all['exp_ratio']"
   ]
  },
  {
   "cell_type": "code",
   "execution_count": 121,
   "metadata": {},
   "outputs": [
    {
     "data": {
      "text/plain": [
       "<AxesSubplot:xlabel='exp_ratio', ylabel='del_rate'>"
      ]
     },
     "execution_count": 121,
     "metadata": {},
     "output_type": "execute_result"
    },
    {
     "data": {
      "image/png": "[encoded data removed]",
      "text/plain": [
       "<Figure size 432x288 with 1 Axes>"
      ]
     },
     "metadata": {
      "needs_background": "light"
     },
     "output_type": "display_data"
    }
   ],
   "source": [
    "sns.scatterplot(y='del_rate',x='exp_ratio',data=df_all)"
   ]
  },
  {
   "cell_type": "code",
   "execution_count": null,
   "metadata": {},
   "outputs": [],
   "source": []
  },
  {
   "cell_type": "code",
   "execution_count": null,
   "metadata": {},
   "outputs": [],
   "source": []
  },
  {
   "cell_type": "code",
   "execution_count": null,
   "metadata": {},
   "outputs": [],
   "source": []
  },
  {
   "cell_type": "code",
   "execution_count": null,
   "metadata": {},
   "outputs": [],
   "source": []
  },
  {
   "cell_type": "code",
   "execution_count": 6,
   "metadata": {},
   "outputs": [
    {
     "data": {
      "text/html": [
       "<div>\n",
       "<style scoped>\n",
       "    .dataframe tbody tr th:only-of-type {\n",
       "        vertical-align: middle;\n",
       "    }\n",
       "\n",
       "    .dataframe tbody tr th {\n",
       "        vertical-align: top;\n",
       "    }\n",
       "\n",
       "    .dataframe thead th {\n",
       "        text-align: right;\n",
       "    }\n",
       "</style>\n",
       "<table border=\"1\" class=\"dataframe\">\n",
       "  <thead>\n",
       "    <tr style=\"text-align: right;\">\n",
       "      <th></th>\n",
       "      <th>income_ind_grp</th>\n",
       "    </tr>\n",
       "  </thead>\n",
       "  <tbody>\n",
       "    <tr>\n",
       "      <th>1424</th>\n",
       "      <td>200-299만원</td>\n",
       "    </tr>\n",
       "    <tr>\n",
       "      <th>1425</th>\n",
       "      <td>200-299만원</td>\n",
       "    </tr>\n",
       "    <tr>\n",
       "      <th>1426</th>\n",
       "      <td>200-299만원</td>\n",
       "    </tr>\n",
       "    <tr>\n",
       "      <th>1427</th>\n",
       "      <td>200-299만원</td>\n",
       "    </tr>\n",
       "    <tr>\n",
       "      <th>1428</th>\n",
       "      <td>300-399만원</td>\n",
       "    </tr>\n",
       "  </tbody>\n",
       "</table>\n",
       "</div>"
      ],
      "text/plain": [
       "     income_ind_grp\n",
       "1424      200-299만원\n",
       "1425      200-299만원\n",
       "1426      200-299만원\n",
       "1427      200-299만원\n",
       "1428      300-399만원"
      ]
     },
     "execution_count": 6,
     "metadata": {},
     "output_type": "execute_result"
    }
   ],
   "source": [
    "df[['income_ind_grp']].tail()"
   ]
  },
  {
   "cell_type": "markdown",
   "metadata": {},
   "source": [
    "연소득 : income = income_ind_grp * 12\n",
    "대출금액 : loan_amt\n",
    "대출권금리, 기타부채금리 : r = 0.03 (2021년 가중평균 금리를 반올림한 금리 적용)"
   ]
  },
  {
   "cell_type": "code",
   "execution_count": 76,
   "metadata": {},
   "outputs": [],
   "source": []
  },
  {
   "cell_type": "code",
   "execution_count": 79,
   "metadata": {},
   "outputs": [
    {
     "data": {
      "text/plain": [
       "1.6666666666666667"
      ]
     },
     "execution_count": 79,
     "metadata": {},
     "output_type": "execute_result"
    }
   ],
   "source": [
    "simple_DTI(500,10000)\n"
   ]
  },
  {
   "cell_type": "code",
   "execution_count": null,
   "metadata": {},
   "outputs": [],
   "source": []
  },
  {
   "cell_type": "code",
   "execution_count": null,
   "metadata": {},
   "outputs": [],
   "source": []
  },
  {
   "cell_type": "code",
   "execution_count": null,
   "metadata": {},
   "outputs": [],
   "source": []
  },
  {
   "cell_type": "code",
   "execution_count": null,
   "metadata": {},
   "outputs": [],
   "source": []
  }
 ],
 "metadata": {
  "kernelspec": {
   "display_name": "Python 3",
   "language": "python",
   "name": "python3"
  },
  "language_info": {
   "codemirror_mode": {
    "name": "ipython",
    "version": 3
   },
   "file_extension": ".py",
   "mimetype": "text/x-python",
   "name": "python",
   "nbconvert_exporter": "python",
   "pygments_lexer": "ipython3",
   "version": "3.8.5"
  },
  "toc": {
   "base_numbering": 1,
   "nav_menu": {},
   "number_sections": true,
   "sideBar": true,
   "skip_h1_title": false,
   "title_cell": "Table of Contents",
   "title_sidebar": "Contents",
   "toc_cell": false,
   "toc_position": {},
   "toc_section_display": true,
   "toc_window_display": false
  },
  "varInspector": {
   "cols": {
    "lenName": 16,
    "lenType": 16,
    "lenVar": 40
   },
   "kernels_config": {
    "python": {
     "delete_cmd_postfix": "",
     "delete_cmd_prefix": "del ",
     "library": "var_list.py",
     "varRefreshCmd": "print(var_dic_list())"
    },
    "r": {
     "delete_cmd_postfix": ") ",
     "delete_cmd_prefix": "rm(",
     "library": "var_list.r",
     "varRefreshCmd": "cat(var_dic_list()) "
    }
   },
   "types_to_exclude": [
    "module",
    "function",
    "builtin_function_or_method",
    "instance",
    "_Feature"
   ],
   "window_display": false
  }
 },
 "nbformat": 4,
 "nbformat_minor": 5
}
