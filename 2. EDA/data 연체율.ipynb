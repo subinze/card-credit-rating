{
 "cells": [
  {
   "cell_type": "code",
   "execution_count": 1,
   "metadata": {
    "ExecuteTime": {
     "end_time": "2021-11-14T12:56:40.461093Z",
     "start_time": "2021-11-14T12:56:39.252360Z"
    }
   },
   "outputs": [],
   "source": [
    "import pandas as pd\n",
    "import numpy as np\n",
    "from sklearn. preprocessing import scale, minmax_scale, robust_scale\n",
    "import matplotlib\n",
    "import matplotlib.pyplot as plt\n",
    "import seaborn as sns\n",
    "from statsmodels.formula.api import ols\n",
    "from statsmodels.api import qqplot, add_constant\n",
    "import statsmodels.formula.api as smf\n",
    "from statsmodels.stats.outliers_influence import variance_inflation_factor\n",
    "from sklearn.linear_model import LinearRegression\n",
    "from sklearn.feature_selection import RFE\n",
    "from sklearn.preprocessing import StandardScaler\n",
    "from statsmodels.tools.eval_measures import rmse\n",
    "from sklearn. linear_model import Ridge,  Lasso, ElasticNet\n",
    "from sklearn.tree import export_graphviz\n",
    "import graphviz\n",
    "from sklearn.model_selection import train_test_split\n",
    "from sklearn.ensemble import RandomForestRegressor\n",
    "from sklearn.model_selection import GridSearchCV\n",
    "matplotlib.rc('font',family = 'Noto Sans CJK JP')\n",
    "import os\n",
    "os.getcwd()\n",
    "path = '/home/piai/다운로드'"
   ]
  },
  {
   "cell_type": "code",
   "execution_count": 2,
   "metadata": {
    "ExecuteTime": {
     "end_time": "2021-11-14T12:56:41.603649Z",
     "start_time": "2021-11-14T12:56:40.462736Z"
    }
   },
   "outputs": [],
   "source": [
    "df_chaju = pd.read_csv(path + \"/CreDB_chaju.CSV\", engine = \"python\", encoding=\"cp949\")\n",
    "df_card = pd.read_csv(path + \"/CreDB_card.csv\", engine = \"python\", encoding=\"cp949\")\n",
    "df_loan = pd.read_csv(path + \"/CreDB_loan.csv\", engine = \"python\", encoding=\"cp949\")\n",
    "df_overdue = pd.read_csv(path + \"/CreDB_overdue.csv\", engine = \"python\", encoding=\"cp949\")"
   ]
  },
  {
   "cell_type": "code",
   "execution_count": 3,
   "metadata": {
    "ExecuteTime": {
     "end_time": "2021-11-14T12:56:41.630674Z",
     "start_time": "2021-11-14T12:56:41.605883Z"
    }
   },
   "outputs": [
    {
     "data": {
      "text/html": [
       "<div>\n",
       "<style scoped>\n",
       "    .dataframe tbody tr th:only-of-type {\n",
       "        vertical-align: middle;\n",
       "    }\n",
       "\n",
       "    .dataframe tbody tr th {\n",
       "        vertical-align: top;\n",
       "    }\n",
       "\n",
       "    .dataframe thead th {\n",
       "        text-align: right;\n",
       "    }\n",
       "</style>\n",
       "<table border=\"1\" class=\"dataframe\">\n",
       "  <thead>\n",
       "    <tr style=\"text-align: right;\">\n",
       "      <th></th>\n",
       "      <th>chaju_id</th>\n",
       "      <th>agegroup</th>\n",
       "    </tr>\n",
       "  </thead>\n",
       "  <tbody>\n",
       "    <tr>\n",
       "      <th>0</th>\n",
       "      <td>C-1001</td>\n",
       "      <td>30대</td>\n",
       "    </tr>\n",
       "    <tr>\n",
       "      <th>1</th>\n",
       "      <td>C-1002</td>\n",
       "      <td>60대</td>\n",
       "    </tr>\n",
       "    <tr>\n",
       "      <th>2</th>\n",
       "      <td>C-1003</td>\n",
       "      <td>40대</td>\n",
       "    </tr>\n",
       "    <tr>\n",
       "      <th>3</th>\n",
       "      <td>C-1004</td>\n",
       "      <td>20대</td>\n",
       "    </tr>\n",
       "    <tr>\n",
       "      <th>4</th>\n",
       "      <td>C-1005</td>\n",
       "      <td>50대</td>\n",
       "    </tr>\n",
       "    <tr>\n",
       "      <th>...</th>\n",
       "      <td>...</td>\n",
       "      <td>...</td>\n",
       "    </tr>\n",
       "    <tr>\n",
       "      <th>1979</th>\n",
       "      <td>C-2996</td>\n",
       "      <td>40대</td>\n",
       "    </tr>\n",
       "    <tr>\n",
       "      <th>1980</th>\n",
       "      <td>C-2997</td>\n",
       "      <td>30대</td>\n",
       "    </tr>\n",
       "    <tr>\n",
       "      <th>1981</th>\n",
       "      <td>C-2998</td>\n",
       "      <td>50대</td>\n",
       "    </tr>\n",
       "    <tr>\n",
       "      <th>1982</th>\n",
       "      <td>C-2999</td>\n",
       "      <td>40대</td>\n",
       "    </tr>\n",
       "    <tr>\n",
       "      <th>1983</th>\n",
       "      <td>C-3000</td>\n",
       "      <td>50대</td>\n",
       "    </tr>\n",
       "  </tbody>\n",
       "</table>\n",
       "<p>1984 rows × 2 columns</p>\n",
       "</div>"
      ],
      "text/plain": [
       "     chaju_id agegroup\n",
       "0      C-1001      30대\n",
       "1      C-1002      60대\n",
       "2      C-1003      40대\n",
       "3      C-1004      20대\n",
       "4      C-1005      50대\n",
       "...       ...      ...\n",
       "1979   C-2996      40대\n",
       "1980   C-2997      30대\n",
       "1981   C-2998      50대\n",
       "1982   C-2999      40대\n",
       "1983   C-3000      50대\n",
       "\n",
       "[1984 rows x 2 columns]"
      ]
     },
     "execution_count": 3,
     "metadata": {},
     "output_type": "execute_result"
    }
   ],
   "source": [
    "df_age=df_chaju[['chaju_id','agegroup']]\n",
    "df_age"
   ]
  },
  {
   "cell_type": "code",
   "execution_count": 4,
   "metadata": {
    "ExecuteTime": {
     "end_time": "2021-11-14T12:56:41.664619Z",
     "start_time": "2021-11-14T12:56:41.633348Z"
    },
    "scrolled": true
   },
   "outputs": [
    {
     "data": {
      "text/html": [
       "<div>\n",
       "<style scoped>\n",
       "    .dataframe tbody tr th:only-of-type {\n",
       "        vertical-align: middle;\n",
       "    }\n",
       "\n",
       "    .dataframe tbody tr th {\n",
       "        vertical-align: top;\n",
       "    }\n",
       "\n",
       "    .dataframe thead th {\n",
       "        text-align: right;\n",
       "    }\n",
       "</style>\n",
       "<table border=\"1\" class=\"dataframe\">\n",
       "  <thead>\n",
       "    <tr style=\"text-align: right;\">\n",
       "      <th></th>\n",
       "      <th>chaju_id</th>\n",
       "      <th>com_id</th>\n",
       "      <th>check_ym</th>\n",
       "      <th>sector_cd</th>\n",
       "      <th>sector</th>\n",
       "      <th>over_type</th>\n",
       "      <th>over_reason_cd</th>\n",
       "      <th>over_reason</th>\n",
       "      <th>over_regist</th>\n",
       "      <th>over_ym</th>\n",
       "      <th>over_amt</th>\n",
       "    </tr>\n",
       "  </thead>\n",
       "  <tbody>\n",
       "    <tr>\n",
       "      <th>0</th>\n",
       "      <td>C-1001</td>\n",
       "      <td>S21-01018</td>\n",
       "      <td>202001</td>\n",
       "      <td>S21</td>\n",
       "      <td>상호저축은행(S21)</td>\n",
       "      <td>공공(2)</td>\n",
       "      <td>R-0101</td>\n",
       "      <td>대출원금·이자연체</td>\n",
       "      <td>주채무자(0)</td>\n",
       "      <td>202001</td>\n",
       "      <td>5700000</td>\n",
       "    </tr>\n",
       "    <tr>\n",
       "      <th>2</th>\n",
       "      <td>C-1019</td>\n",
       "      <td>S01-01001</td>\n",
       "      <td>202008</td>\n",
       "      <td>S01</td>\n",
       "      <td>은행(S01)</td>\n",
       "      <td>공공(2)</td>\n",
       "      <td>R-0101</td>\n",
       "      <td>대출원금·이자연체</td>\n",
       "      <td>주채무자(0)</td>\n",
       "      <td>202002</td>\n",
       "      <td>270000000</td>\n",
       "    </tr>\n",
       "    <tr>\n",
       "      <th>13</th>\n",
       "      <td>C-1019</td>\n",
       "      <td>S05-01002</td>\n",
       "      <td>202004</td>\n",
       "      <td>S05</td>\n",
       "      <td>신용카드사(S05)</td>\n",
       "      <td>공공(2)</td>\n",
       "      <td>R-0104</td>\n",
       "      <td>신용카드대금연체</td>\n",
       "      <td>특수채권(7)</td>\n",
       "      <td>201811</td>\n",
       "      <td>900000</td>\n",
       "    </tr>\n",
       "    <tr>\n",
       "      <th>30</th>\n",
       "      <td>C-1019</td>\n",
       "      <td>S98-01028</td>\n",
       "      <td>202004</td>\n",
       "      <td>S98</td>\n",
       "      <td>기타-장학재단/기금 등(S98)</td>\n",
       "      <td>공공(2)</td>\n",
       "      <td>R-0202</td>\n",
       "      <td>신용보증대지급금</td>\n",
       "      <td>주채무자(0)</td>\n",
       "      <td>201906</td>\n",
       "      <td>12000000</td>\n",
       "    </tr>\n",
       "    <tr>\n",
       "      <th>49</th>\n",
       "      <td>C-1019</td>\n",
       "      <td>S98-01049</td>\n",
       "      <td>202009</td>\n",
       "      <td>S98</td>\n",
       "      <td>기타-장학재단/기금 등(S98)</td>\n",
       "      <td>공공(2)</td>\n",
       "      <td>R-0101</td>\n",
       "      <td>대출원금·이자연체</td>\n",
       "      <td>주채무자(0)</td>\n",
       "      <td>201604</td>\n",
       "      <td>10000000</td>\n",
       "    </tr>\n",
       "    <tr>\n",
       "      <th>...</th>\n",
       "      <td>...</td>\n",
       "      <td>...</td>\n",
       "      <td>...</td>\n",
       "      <td>...</td>\n",
       "      <td>...</td>\n",
       "      <td>...</td>\n",
       "      <td>...</td>\n",
       "      <td>...</td>\n",
       "      <td>...</td>\n",
       "      <td>...</td>\n",
       "      <td>...</td>\n",
       "    </tr>\n",
       "    <tr>\n",
       "      <th>10723</th>\n",
       "      <td>C-2987</td>\n",
       "      <td>S05-01010</td>\n",
       "      <td>202012</td>\n",
       "      <td>S05</td>\n",
       "      <td>신용카드사(S05)</td>\n",
       "      <td>공공(2)</td>\n",
       "      <td>R-0103</td>\n",
       "      <td>장기카드대출(카드론)연체</td>\n",
       "      <td>특수채권(7)</td>\n",
       "      <td>201801</td>\n",
       "      <td>5200000</td>\n",
       "    </tr>\n",
       "    <tr>\n",
       "      <th>10748</th>\n",
       "      <td>C-2987</td>\n",
       "      <td>S17-01085</td>\n",
       "      <td>201812</td>\n",
       "      <td>S17</td>\n",
       "      <td>캐피탈/할부/리스 등(S17)</td>\n",
       "      <td>공공(2)</td>\n",
       "      <td>R-0101</td>\n",
       "      <td>대출원금·이자연체</td>\n",
       "      <td>특수채권(7)</td>\n",
       "      <td>201807</td>\n",
       "      <td>630000</td>\n",
       "    </tr>\n",
       "    <tr>\n",
       "      <th>10749</th>\n",
       "      <td>C-2987</td>\n",
       "      <td>S21-01019</td>\n",
       "      <td>201903</td>\n",
       "      <td>S21</td>\n",
       "      <td>상호저축은행(S21)</td>\n",
       "      <td>공공(2)</td>\n",
       "      <td>R-0101</td>\n",
       "      <td>대출원금·이자연체</td>\n",
       "      <td>주채무자(0)</td>\n",
       "      <td>201810</td>\n",
       "      <td>9600000</td>\n",
       "    </tr>\n",
       "    <tr>\n",
       "      <th>10753</th>\n",
       "      <td>C-2992</td>\n",
       "      <td>S98-01041</td>\n",
       "      <td>202011</td>\n",
       "      <td>S98</td>\n",
       "      <td>기타-장학재단/기금 등(S98)</td>\n",
       "      <td>공공(2)</td>\n",
       "      <td>R-0202</td>\n",
       "      <td>신용보증대지급금</td>\n",
       "      <td>주채무자(0)</td>\n",
       "      <td>201411</td>\n",
       "      <td>9600000</td>\n",
       "    </tr>\n",
       "    <tr>\n",
       "      <th>10778</th>\n",
       "      <td>C-2994</td>\n",
       "      <td>S98-01024</td>\n",
       "      <td>201905</td>\n",
       "      <td>S98</td>\n",
       "      <td>기타-장학재단/기금 등(S98)</td>\n",
       "      <td>공공(2)</td>\n",
       "      <td>R-0201</td>\n",
       "      <td>지급보증대지급금</td>\n",
       "      <td>주채무자(0)</td>\n",
       "      <td>201505</td>\n",
       "      <td>500000</td>\n",
       "    </tr>\n",
       "  </tbody>\n",
       "</table>\n",
       "<p>884 rows × 11 columns</p>\n",
       "</div>"
      ],
      "text/plain": [
       "      chaju_id     com_id  check_ym sector_cd             sector over_type  \\\n",
       "0       C-1001  S21-01018    202001       S21        상호저축은행(S21)     공공(2)   \n",
       "2       C-1019  S01-01001    202008       S01            은행(S01)     공공(2)   \n",
       "13      C-1019  S05-01002    202004       S05         신용카드사(S05)     공공(2)   \n",
       "30      C-1019  S98-01028    202004       S98  기타-장학재단/기금 등(S98)     공공(2)   \n",
       "49      C-1019  S98-01049    202009       S98  기타-장학재단/기금 등(S98)     공공(2)   \n",
       "...        ...        ...       ...       ...                ...       ...   \n",
       "10723   C-2987  S05-01010    202012       S05         신용카드사(S05)     공공(2)   \n",
       "10748   C-2987  S17-01085    201812       S17   캐피탈/할부/리스 등(S17)     공공(2)   \n",
       "10749   C-2987  S21-01019    201903       S21        상호저축은행(S21)     공공(2)   \n",
       "10753   C-2992  S98-01041    202011       S98  기타-장학재단/기금 등(S98)     공공(2)   \n",
       "10778   C-2994  S98-01024    201905       S98  기타-장학재단/기금 등(S98)     공공(2)   \n",
       "\n",
       "      over_reason_cd    over_reason over_regist  over_ym   over_amt  \n",
       "0             R-0101      대출원금·이자연체     주채무자(0)   202001    5700000  \n",
       "2             R-0101      대출원금·이자연체     주채무자(0)   202002  270000000  \n",
       "13            R-0104       신용카드대금연체     특수채권(7)   201811     900000  \n",
       "30            R-0202       신용보증대지급금     주채무자(0)   201906   12000000  \n",
       "49            R-0101      대출원금·이자연체     주채무자(0)   201604   10000000  \n",
       "...              ...            ...         ...      ...        ...  \n",
       "10723         R-0103  장기카드대출(카드론)연체     특수채권(7)   201801    5200000  \n",
       "10748         R-0101      대출원금·이자연체     특수채권(7)   201807     630000  \n",
       "10749         R-0101      대출원금·이자연체     주채무자(0)   201810    9600000  \n",
       "10753         R-0202       신용보증대지급금     주채무자(0)   201411    9600000  \n",
       "10778         R-0201       지급보증대지급금     주채무자(0)   201505     500000  \n",
       "\n",
       "[884 rows x 11 columns]"
      ]
     },
     "execution_count": 4,
     "metadata": {},
     "output_type": "execute_result"
    }
   ],
   "source": [
    "df_overdue_drop_month=df_overdue.drop_duplicates(['chaju_id','over_amt','over_ym','com_id'],keep = 'first')\n",
    "df_overdue_drop_month"
   ]
  },
  {
   "cell_type": "code",
   "execution_count": 5,
   "metadata": {
    "ExecuteTime": {
     "end_time": "2021-11-14T12:56:41.697670Z",
     "start_time": "2021-11-14T12:56:41.668697Z"
    }
   },
   "outputs": [
    {
     "data": {
      "text/html": [
       "<div>\n",
       "<style scoped>\n",
       "    .dataframe tbody tr th:only-of-type {\n",
       "        vertical-align: middle;\n",
       "    }\n",
       "\n",
       "    .dataframe tbody tr th {\n",
       "        vertical-align: top;\n",
       "    }\n",
       "\n",
       "    .dataframe thead th {\n",
       "        text-align: right;\n",
       "    }\n",
       "</style>\n",
       "<table border=\"1\" class=\"dataframe\">\n",
       "  <thead>\n",
       "    <tr style=\"text-align: right;\">\n",
       "      <th></th>\n",
       "      <th>over_amt</th>\n",
       "    </tr>\n",
       "    <tr>\n",
       "      <th>chaju_id</th>\n",
       "      <th></th>\n",
       "    </tr>\n",
       "  </thead>\n",
       "  <tbody>\n",
       "    <tr>\n",
       "      <th>C-1001</th>\n",
       "      <td>5700000</td>\n",
       "    </tr>\n",
       "    <tr>\n",
       "      <th>C-1019</th>\n",
       "      <td>292900000</td>\n",
       "    </tr>\n",
       "    <tr>\n",
       "      <th>C-1029</th>\n",
       "      <td>880000</td>\n",
       "    </tr>\n",
       "    <tr>\n",
       "      <th>C-1030</th>\n",
       "      <td>8000000</td>\n",
       "    </tr>\n",
       "    <tr>\n",
       "      <th>C-1036</th>\n",
       "      <td>95000000</td>\n",
       "    </tr>\n",
       "    <tr>\n",
       "      <th>...</th>\n",
       "      <td>...</td>\n",
       "    </tr>\n",
       "    <tr>\n",
       "      <th>C-2972</th>\n",
       "      <td>54170000</td>\n",
       "    </tr>\n",
       "    <tr>\n",
       "      <th>C-2984</th>\n",
       "      <td>2110000</td>\n",
       "    </tr>\n",
       "    <tr>\n",
       "      <th>C-2987</th>\n",
       "      <td>19230000</td>\n",
       "    </tr>\n",
       "    <tr>\n",
       "      <th>C-2992</th>\n",
       "      <td>9600000</td>\n",
       "    </tr>\n",
       "    <tr>\n",
       "      <th>C-2994</th>\n",
       "      <td>500000</td>\n",
       "    </tr>\n",
       "  </tbody>\n",
       "</table>\n",
       "<p>400 rows × 1 columns</p>\n",
       "</div>"
      ],
      "text/plain": [
       "           over_amt\n",
       "chaju_id           \n",
       "C-1001      5700000\n",
       "C-1019    292900000\n",
       "C-1029       880000\n",
       "C-1030      8000000\n",
       "C-1036     95000000\n",
       "...             ...\n",
       "C-2972     54170000\n",
       "C-2984      2110000\n",
       "C-2987     19230000\n",
       "C-2992      9600000\n",
       "C-2994       500000\n",
       "\n",
       "[400 rows x 1 columns]"
      ]
     },
     "execution_count": 5,
     "metadata": {},
     "output_type": "execute_result"
    }
   ],
   "source": [
    "grouped=df_overdue_drop_month['over_amt'].groupby(df_overdue_drop_month['chaju_id'])\n",
    "df_total_over_amt=pd.DataFrame(grouped.sum())\n",
    "df_total_over_amt"
   ]
  },
  {
   "cell_type": "markdown",
   "metadata": {},
   "source": [
    "# 나이별 연체율"
   ]
  },
  {
   "cell_type": "code",
   "execution_count": 6,
   "metadata": {
    "ExecuteTime": {
     "end_time": "2021-11-14T12:56:41.713517Z",
     "start_time": "2021-11-14T12:56:41.699639Z"
    },
    "scrolled": true
   },
   "outputs": [
    {
     "data": {
      "text/html": [
       "<div>\n",
       "<style scoped>\n",
       "    .dataframe tbody tr th:only-of-type {\n",
       "        vertical-align: middle;\n",
       "    }\n",
       "\n",
       "    .dataframe tbody tr th {\n",
       "        vertical-align: top;\n",
       "    }\n",
       "\n",
       "    .dataframe thead th {\n",
       "        text-align: right;\n",
       "    }\n",
       "</style>\n",
       "<table border=\"1\" class=\"dataframe\">\n",
       "  <thead>\n",
       "    <tr style=\"text-align: right;\">\n",
       "      <th></th>\n",
       "      <th>chaju_id</th>\n",
       "      <th>agegroup</th>\n",
       "      <th>over_amt</th>\n",
       "    </tr>\n",
       "  </thead>\n",
       "  <tbody>\n",
       "    <tr>\n",
       "      <th>0</th>\n",
       "      <td>C-1001</td>\n",
       "      <td>30대</td>\n",
       "      <td>5700000</td>\n",
       "    </tr>\n",
       "    <tr>\n",
       "      <th>1</th>\n",
       "      <td>C-1019</td>\n",
       "      <td>40대</td>\n",
       "      <td>292900000</td>\n",
       "    </tr>\n",
       "    <tr>\n",
       "      <th>2</th>\n",
       "      <td>C-1029</td>\n",
       "      <td>50대</td>\n",
       "      <td>880000</td>\n",
       "    </tr>\n",
       "    <tr>\n",
       "      <th>3</th>\n",
       "      <td>C-1030</td>\n",
       "      <td>40대</td>\n",
       "      <td>8000000</td>\n",
       "    </tr>\n",
       "    <tr>\n",
       "      <th>4</th>\n",
       "      <td>C-1036</td>\n",
       "      <td>60대</td>\n",
       "      <td>95000000</td>\n",
       "    </tr>\n",
       "    <tr>\n",
       "      <th>...</th>\n",
       "      <td>...</td>\n",
       "      <td>...</td>\n",
       "      <td>...</td>\n",
       "    </tr>\n",
       "    <tr>\n",
       "      <th>395</th>\n",
       "      <td>C-2972</td>\n",
       "      <td>40대</td>\n",
       "      <td>54170000</td>\n",
       "    </tr>\n",
       "    <tr>\n",
       "      <th>396</th>\n",
       "      <td>C-2984</td>\n",
       "      <td>50대</td>\n",
       "      <td>2110000</td>\n",
       "    </tr>\n",
       "    <tr>\n",
       "      <th>397</th>\n",
       "      <td>C-2987</td>\n",
       "      <td>30대</td>\n",
       "      <td>19230000</td>\n",
       "    </tr>\n",
       "    <tr>\n",
       "      <th>398</th>\n",
       "      <td>C-2992</td>\n",
       "      <td>40대</td>\n",
       "      <td>9600000</td>\n",
       "    </tr>\n",
       "    <tr>\n",
       "      <th>399</th>\n",
       "      <td>C-2994</td>\n",
       "      <td>40대</td>\n",
       "      <td>500000</td>\n",
       "    </tr>\n",
       "  </tbody>\n",
       "</table>\n",
       "<p>400 rows × 3 columns</p>\n",
       "</div>"
      ],
      "text/plain": [
       "    chaju_id agegroup   over_amt\n",
       "0     C-1001      30대    5700000\n",
       "1     C-1019      40대  292900000\n",
       "2     C-1029      50대     880000\n",
       "3     C-1030      40대    8000000\n",
       "4     C-1036      60대   95000000\n",
       "..       ...      ...        ...\n",
       "395   C-2972      40대   54170000\n",
       "396   C-2984      50대    2110000\n",
       "397   C-2987      30대   19230000\n",
       "398   C-2992      40대    9600000\n",
       "399   C-2994      40대     500000\n",
       "\n",
       "[400 rows x 3 columns]"
      ]
     },
     "execution_count": 6,
     "metadata": {},
     "output_type": "execute_result"
    }
   ],
   "source": [
    "df_age_over_amt = pd.merge(df_age, df_total_over_amt, on='chaju_id', how='inner')\n",
    "df_age_over_amt"
   ]
  },
  {
   "cell_type": "code",
   "execution_count": 62,
   "metadata": {
    "ExecuteTime": {
     "end_time": "2021-11-14T14:13:39.791780Z",
     "start_time": "2021-11-14T14:13:39.783743Z"
    },
    "scrolled": true
   },
   "outputs": [],
   "source": [
    "import matplotlib.pyplot as plt\n",
    "import seaborn as sns\n",
    "pd.options.display.float_format = '{:.1f}'.format"
   ]
  },
  {
   "cell_type": "code",
   "execution_count": 63,
   "metadata": {
    "ExecuteTime": {
     "end_time": "2021-11-14T14:13:41.361009Z",
     "start_time": "2021-11-14T14:13:41.331060Z"
    }
   },
   "outputs": [
    {
     "data": {
      "text/html": [
       "<div>\n",
       "<style scoped>\n",
       "    .dataframe tbody tr th:only-of-type {\n",
       "        vertical-align: middle;\n",
       "    }\n",
       "\n",
       "    .dataframe tbody tr th {\n",
       "        vertical-align: top;\n",
       "    }\n",
       "\n",
       "    .dataframe thead th {\n",
       "        text-align: right;\n",
       "    }\n",
       "</style>\n",
       "<table border=\"1\" class=\"dataframe\">\n",
       "  <thead>\n",
       "    <tr style=\"text-align: right;\">\n",
       "      <th></th>\n",
       "      <th>agegroup</th>\n",
       "      <th>over_amt</th>\n",
       "    </tr>\n",
       "  </thead>\n",
       "  <tbody>\n",
       "    <tr>\n",
       "      <th>0</th>\n",
       "      <td>20대</td>\n",
       "      <td>25386451.6</td>\n",
       "    </tr>\n",
       "    <tr>\n",
       "      <th>1</th>\n",
       "      <td>30대</td>\n",
       "      <td>16704800.0</td>\n",
       "    </tr>\n",
       "    <tr>\n",
       "      <th>2</th>\n",
       "      <td>40대</td>\n",
       "      <td>31173539.8</td>\n",
       "    </tr>\n",
       "    <tr>\n",
       "      <th>3</th>\n",
       "      <td>50대</td>\n",
       "      <td>49550404.0</td>\n",
       "    </tr>\n",
       "    <tr>\n",
       "      <th>4</th>\n",
       "      <td>60대</td>\n",
       "      <td>59110508.5</td>\n",
       "    </tr>\n",
       "    <tr>\n",
       "      <th>5</th>\n",
       "      <td>70대</td>\n",
       "      <td>41810000.0</td>\n",
       "    </tr>\n",
       "    <tr>\n",
       "      <th>6</th>\n",
       "      <td>80대이상</td>\n",
       "      <td>12818571.4</td>\n",
       "    </tr>\n",
       "  </tbody>\n",
       "</table>\n",
       "</div>"
      ],
      "text/plain": [
       "  agegroup   over_amt\n",
       "0      20대 25386451.6\n",
       "1      30대 16704800.0\n",
       "2      40대 31173539.8\n",
       "3      50대 49550404.0\n",
       "4      60대 59110508.5\n",
       "5      70대 41810000.0\n",
       "6    80대이상 12818571.4"
      ]
     },
     "execution_count": 63,
     "metadata": {},
     "output_type": "execute_result"
    }
   ],
   "source": [
    "df_age_over_amt_mean = df_age_over_amt.groupby(['agegroup'],as_index=False)[['over_amt']].mean()\n",
    "df_age_over_amt_mean"
   ]
  },
  {
   "cell_type": "code",
   "execution_count": 9,
   "metadata": {
    "ExecuteTime": {
     "end_time": "2021-11-14T12:56:41.919881Z",
     "start_time": "2021-11-14T12:56:41.914138Z"
    }
   },
   "outputs": [
    {
     "data": {
      "text/plain": [
       "0      20대\n",
       "1      30대\n",
       "2      40대\n",
       "3      50대\n",
       "4      60대\n",
       "5      70대\n",
       "6    80대이상\n",
       "Name: agegroup, dtype: object"
      ]
     },
     "execution_count": 9,
     "metadata": {},
     "output_type": "execute_result"
    }
   ],
   "source": [
    "df_age_over_amt_mean['agegroup']"
   ]
  },
  {
   "cell_type": "code",
   "execution_count": 61,
   "metadata": {
    "ExecuteTime": {
     "end_time": "2021-11-14T14:13:20.782922Z",
     "start_time": "2021-11-14T14:13:20.664589Z"
    }
   },
   "outputs": [
    {
     "data": {
      "image/png": "[encoded data removed]",
      "text/plain": [
       "<Figure size 432x288 with 1 Axes>"
      ]
     },
     "metadata": {},
     "output_type": "display_data"
    }
   ],
   "source": [
    "labels = ['20대','30대','40대','50대','60대','70대','80대이상']\n",
    "ratio = ['25386451.6','16704800.0','31173539.8','49550404.0','59110508.5','41810000.0','12818571.4']\n",
    "plt.pie(ratio, labels=labels, autopct='%1.1f%%')\n",
    "plt.show()"
   ]
  },
  {
   "cell_type": "markdown",
   "metadata": {},
   "source": [
    "# 성별 연체율"
   ]
  },
  {
   "cell_type": "code",
   "execution_count": 11,
   "metadata": {
    "ExecuteTime": {
     "end_time": "2021-11-14T12:56:41.944484Z",
     "start_time": "2021-11-14T12:56:41.927145Z"
    }
   },
   "outputs": [
    {
     "data": {
      "text/html": [
       "<div>\n",
       "<style scoped>\n",
       "    .dataframe tbody tr th:only-of-type {\n",
       "        vertical-align: middle;\n",
       "    }\n",
       "\n",
       "    .dataframe tbody tr th {\n",
       "        vertical-align: top;\n",
       "    }\n",
       "\n",
       "    .dataframe thead th {\n",
       "        text-align: right;\n",
       "    }\n",
       "</style>\n",
       "<table border=\"1\" class=\"dataframe\">\n",
       "  <thead>\n",
       "    <tr style=\"text-align: right;\">\n",
       "      <th></th>\n",
       "      <th>chaju_id</th>\n",
       "      <th>gender</th>\n",
       "    </tr>\n",
       "  </thead>\n",
       "  <tbody>\n",
       "    <tr>\n",
       "      <th>0</th>\n",
       "      <td>C-1001</td>\n",
       "      <td>남성</td>\n",
       "    </tr>\n",
       "    <tr>\n",
       "      <th>1</th>\n",
       "      <td>C-1002</td>\n",
       "      <td>여성</td>\n",
       "    </tr>\n",
       "    <tr>\n",
       "      <th>2</th>\n",
       "      <td>C-1003</td>\n",
       "      <td>남성</td>\n",
       "    </tr>\n",
       "    <tr>\n",
       "      <th>3</th>\n",
       "      <td>C-1004</td>\n",
       "      <td>남성</td>\n",
       "    </tr>\n",
       "    <tr>\n",
       "      <th>4</th>\n",
       "      <td>C-1005</td>\n",
       "      <td>남성</td>\n",
       "    </tr>\n",
       "    <tr>\n",
       "      <th>...</th>\n",
       "      <td>...</td>\n",
       "      <td>...</td>\n",
       "    </tr>\n",
       "    <tr>\n",
       "      <th>1979</th>\n",
       "      <td>C-2996</td>\n",
       "      <td>남성</td>\n",
       "    </tr>\n",
       "    <tr>\n",
       "      <th>1980</th>\n",
       "      <td>C-2997</td>\n",
       "      <td>남성</td>\n",
       "    </tr>\n",
       "    <tr>\n",
       "      <th>1981</th>\n",
       "      <td>C-2998</td>\n",
       "      <td>여성</td>\n",
       "    </tr>\n",
       "    <tr>\n",
       "      <th>1982</th>\n",
       "      <td>C-2999</td>\n",
       "      <td>남성</td>\n",
       "    </tr>\n",
       "    <tr>\n",
       "      <th>1983</th>\n",
       "      <td>C-3000</td>\n",
       "      <td>여성</td>\n",
       "    </tr>\n",
       "  </tbody>\n",
       "</table>\n",
       "<p>1984 rows × 2 columns</p>\n",
       "</div>"
      ],
      "text/plain": [
       "     chaju_id gender\n",
       "0      C-1001     남성\n",
       "1      C-1002     여성\n",
       "2      C-1003     남성\n",
       "3      C-1004     남성\n",
       "4      C-1005     남성\n",
       "...       ...    ...\n",
       "1979   C-2996     남성\n",
       "1980   C-2997     남성\n",
       "1981   C-2998     여성\n",
       "1982   C-2999     남성\n",
       "1983   C-3000     여성\n",
       "\n",
       "[1984 rows x 2 columns]"
      ]
     },
     "execution_count": 11,
     "metadata": {},
     "output_type": "execute_result"
    }
   ],
   "source": [
    "df_gender=df_chaju[['chaju_id','gender']]\n",
    "df_gender"
   ]
  },
  {
   "cell_type": "code",
   "execution_count": 12,
   "metadata": {
    "ExecuteTime": {
     "end_time": "2021-11-14T12:56:41.959319Z",
     "start_time": "2021-11-14T12:56:41.946039Z"
    }
   },
   "outputs": [
    {
     "data": {
      "text/html": [
       "<div>\n",
       "<style scoped>\n",
       "    .dataframe tbody tr th:only-of-type {\n",
       "        vertical-align: middle;\n",
       "    }\n",
       "\n",
       "    .dataframe tbody tr th {\n",
       "        vertical-align: top;\n",
       "    }\n",
       "\n",
       "    .dataframe thead th {\n",
       "        text-align: right;\n",
       "    }\n",
       "</style>\n",
       "<table border=\"1\" class=\"dataframe\">\n",
       "  <thead>\n",
       "    <tr style=\"text-align: right;\">\n",
       "      <th></th>\n",
       "      <th>chaju_id</th>\n",
       "      <th>gender</th>\n",
       "      <th>over_amt</th>\n",
       "    </tr>\n",
       "  </thead>\n",
       "  <tbody>\n",
       "    <tr>\n",
       "      <th>0</th>\n",
       "      <td>C-1001</td>\n",
       "      <td>남성</td>\n",
       "      <td>5700000</td>\n",
       "    </tr>\n",
       "    <tr>\n",
       "      <th>1</th>\n",
       "      <td>C-1019</td>\n",
       "      <td>남성</td>\n",
       "      <td>292900000</td>\n",
       "    </tr>\n",
       "    <tr>\n",
       "      <th>2</th>\n",
       "      <td>C-1029</td>\n",
       "      <td>여성</td>\n",
       "      <td>880000</td>\n",
       "    </tr>\n",
       "    <tr>\n",
       "      <th>3</th>\n",
       "      <td>C-1030</td>\n",
       "      <td>남성</td>\n",
       "      <td>8000000</td>\n",
       "    </tr>\n",
       "    <tr>\n",
       "      <th>4</th>\n",
       "      <td>C-1036</td>\n",
       "      <td>남성</td>\n",
       "      <td>95000000</td>\n",
       "    </tr>\n",
       "    <tr>\n",
       "      <th>...</th>\n",
       "      <td>...</td>\n",
       "      <td>...</td>\n",
       "      <td>...</td>\n",
       "    </tr>\n",
       "    <tr>\n",
       "      <th>395</th>\n",
       "      <td>C-2972</td>\n",
       "      <td>남성</td>\n",
       "      <td>54170000</td>\n",
       "    </tr>\n",
       "    <tr>\n",
       "      <th>396</th>\n",
       "      <td>C-2984</td>\n",
       "      <td>여성</td>\n",
       "      <td>2110000</td>\n",
       "    </tr>\n",
       "    <tr>\n",
       "      <th>397</th>\n",
       "      <td>C-2987</td>\n",
       "      <td>남성</td>\n",
       "      <td>19230000</td>\n",
       "    </tr>\n",
       "    <tr>\n",
       "      <th>398</th>\n",
       "      <td>C-2992</td>\n",
       "      <td>남성</td>\n",
       "      <td>9600000</td>\n",
       "    </tr>\n",
       "    <tr>\n",
       "      <th>399</th>\n",
       "      <td>C-2994</td>\n",
       "      <td>남성</td>\n",
       "      <td>500000</td>\n",
       "    </tr>\n",
       "  </tbody>\n",
       "</table>\n",
       "<p>400 rows × 3 columns</p>\n",
       "</div>"
      ],
      "text/plain": [
       "    chaju_id gender   over_amt\n",
       "0     C-1001     남성    5700000\n",
       "1     C-1019     남성  292900000\n",
       "2     C-1029     여성     880000\n",
       "3     C-1030     남성    8000000\n",
       "4     C-1036     남성   95000000\n",
       "..       ...    ...        ...\n",
       "395   C-2972     남성   54170000\n",
       "396   C-2984     여성    2110000\n",
       "397   C-2987     남성   19230000\n",
       "398   C-2992     남성    9600000\n",
       "399   C-2994     남성     500000\n",
       "\n",
       "[400 rows x 3 columns]"
      ]
     },
     "execution_count": 12,
     "metadata": {},
     "output_type": "execute_result"
    }
   ],
   "source": [
    "df_gender_over_amt = pd.merge(df_gender, df_total_over_amt, on='chaju_id', how='inner')\n",
    "df_gender_over_amt"
   ]
  },
  {
   "cell_type": "code",
   "execution_count": 13,
   "metadata": {
    "ExecuteTime": {
     "end_time": "2021-11-14T12:56:42.064589Z",
     "start_time": "2021-11-14T12:56:41.964478Z"
    }
   },
   "outputs": [
    {
     "data": {
      "text/html": [
       "<div>\n",
       "<style scoped>\n",
       "    .dataframe tbody tr th:only-of-type {\n",
       "        vertical-align: middle;\n",
       "    }\n",
       "\n",
       "    .dataframe tbody tr th {\n",
       "        vertical-align: top;\n",
       "    }\n",
       "\n",
       "    .dataframe thead th {\n",
       "        text-align: right;\n",
       "    }\n",
       "</style>\n",
       "<table border=\"1\" class=\"dataframe\">\n",
       "  <thead>\n",
       "    <tr style=\"text-align: right;\">\n",
       "      <th></th>\n",
       "      <th>gender</th>\n",
       "      <th>over_amt</th>\n",
       "    </tr>\n",
       "  </thead>\n",
       "  <tbody>\n",
       "    <tr>\n",
       "      <th>0</th>\n",
       "      <td>남성</td>\n",
       "      <td>42724022.6</td>\n",
       "    </tr>\n",
       "    <tr>\n",
       "      <th>1</th>\n",
       "      <td>여성</td>\n",
       "      <td>24996716.4</td>\n",
       "    </tr>\n",
       "  </tbody>\n",
       "</table>\n",
       "</div>"
      ],
      "text/plain": [
       "  gender   over_amt\n",
       "0     남성 42724022.6\n",
       "1     여성 24996716.4"
      ]
     },
     "execution_count": 13,
     "metadata": {},
     "output_type": "execute_result"
    }
   ],
   "source": [
    "df_gender_over_amt_mean = df_gender_over_amt.groupby(['gender'],as_index=False)[['over_amt']].mean()\n",
    "df_gender_over_amt_mean"
   ]
  },
  {
   "cell_type": "code",
   "execution_count": 56,
   "metadata": {
    "ExecuteTime": {
     "end_time": "2021-11-14T14:07:54.403309Z",
     "start_time": "2021-11-14T14:07:54.309883Z"
    }
   },
   "outputs": [
    {
     "data": {
      "image/png": "[encoded data removed]",
      "text/plain": [
       "<Figure size 432x288 with 1 Axes>"
      ]
     },
     "metadata": {},
     "output_type": "display_data"
    }
   ],
   "source": [
    "labels = ['남자','여자']\n",
    "ratio = ['42724022.6','24996716.4']\n",
    "plt.pie(ratio, labels=labels, autopct='%1.1f%%')\n",
    "plt.show()"
   ]
  },
  {
   "cell_type": "markdown",
   "metadata": {},
   "source": [
    "# 직업별 연체율"
   ]
  },
  {
   "cell_type": "code",
   "execution_count": 14,
   "metadata": {
    "ExecuteTime": {
     "end_time": "2021-11-14T12:56:42.090432Z",
     "start_time": "2021-11-14T12:56:42.068656Z"
    }
   },
   "outputs": [
    {
     "data": {
      "text/html": [
       "<div>\n",
       "<style scoped>\n",
       "    .dataframe tbody tr th:only-of-type {\n",
       "        vertical-align: middle;\n",
       "    }\n",
       "\n",
       "    .dataframe tbody tr th {\n",
       "        vertical-align: top;\n",
       "    }\n",
       "\n",
       "    .dataframe thead th {\n",
       "        text-align: right;\n",
       "    }\n",
       "</style>\n",
       "<table border=\"1\" class=\"dataframe\">\n",
       "  <thead>\n",
       "    <tr style=\"text-align: right;\">\n",
       "      <th></th>\n",
       "      <th>chaju_id</th>\n",
       "      <th>job</th>\n",
       "    </tr>\n",
       "  </thead>\n",
       "  <tbody>\n",
       "    <tr>\n",
       "      <th>0</th>\n",
       "      <td>C-1001</td>\n",
       "      <td>기능/노무직</td>\n",
       "    </tr>\n",
       "    <tr>\n",
       "      <th>1</th>\n",
       "      <td>C-1002</td>\n",
       "      <td>전업주부</td>\n",
       "    </tr>\n",
       "    <tr>\n",
       "      <th>2</th>\n",
       "      <td>C-1003</td>\n",
       "      <td>판매/서비스직</td>\n",
       "    </tr>\n",
       "    <tr>\n",
       "      <th>3</th>\n",
       "      <td>C-1004</td>\n",
       "      <td>무직/기타</td>\n",
       "    </tr>\n",
       "    <tr>\n",
       "      <th>4</th>\n",
       "      <td>C-1005</td>\n",
       "      <td>행정관리/전문직</td>\n",
       "    </tr>\n",
       "    <tr>\n",
       "      <th>...</th>\n",
       "      <td>...</td>\n",
       "      <td>...</td>\n",
       "    </tr>\n",
       "    <tr>\n",
       "      <th>1979</th>\n",
       "      <td>C-2996</td>\n",
       "      <td>사무직</td>\n",
       "    </tr>\n",
       "    <tr>\n",
       "      <th>1980</th>\n",
       "      <td>C-2997</td>\n",
       "      <td>사무직</td>\n",
       "    </tr>\n",
       "    <tr>\n",
       "      <th>1981</th>\n",
       "      <td>C-2998</td>\n",
       "      <td>기능/노무직</td>\n",
       "    </tr>\n",
       "    <tr>\n",
       "      <th>1982</th>\n",
       "      <td>C-2999</td>\n",
       "      <td>기능/노무직</td>\n",
       "    </tr>\n",
       "    <tr>\n",
       "      <th>1983</th>\n",
       "      <td>C-3000</td>\n",
       "      <td>전업주부</td>\n",
       "    </tr>\n",
       "  </tbody>\n",
       "</table>\n",
       "<p>1984 rows × 2 columns</p>\n",
       "</div>"
      ],
      "text/plain": [
       "     chaju_id       job\n",
       "0      C-1001    기능/노무직\n",
       "1      C-1002      전업주부\n",
       "2      C-1003   판매/서비스직\n",
       "3      C-1004     무직/기타\n",
       "4      C-1005  행정관리/전문직\n",
       "...       ...       ...\n",
       "1979   C-2996       사무직\n",
       "1980   C-2997       사무직\n",
       "1981   C-2998    기능/노무직\n",
       "1982   C-2999    기능/노무직\n",
       "1983   C-3000      전업주부\n",
       "\n",
       "[1984 rows x 2 columns]"
      ]
     },
     "execution_count": 14,
     "metadata": {},
     "output_type": "execute_result"
    }
   ],
   "source": [
    "df_job=df_chaju[['chaju_id','job']]\n",
    "df_job"
   ]
  },
  {
   "cell_type": "code",
   "execution_count": 15,
   "metadata": {
    "ExecuteTime": {
     "end_time": "2021-11-14T12:56:42.112943Z",
     "start_time": "2021-11-14T12:56:42.092617Z"
    }
   },
   "outputs": [
    {
     "data": {
      "text/html": [
       "<div>\n",
       "<style scoped>\n",
       "    .dataframe tbody tr th:only-of-type {\n",
       "        vertical-align: middle;\n",
       "    }\n",
       "\n",
       "    .dataframe tbody tr th {\n",
       "        vertical-align: top;\n",
       "    }\n",
       "\n",
       "    .dataframe thead th {\n",
       "        text-align: right;\n",
       "    }\n",
       "</style>\n",
       "<table border=\"1\" class=\"dataframe\">\n",
       "  <thead>\n",
       "    <tr style=\"text-align: right;\">\n",
       "      <th></th>\n",
       "      <th>chaju_id</th>\n",
       "      <th>job</th>\n",
       "      <th>over_amt</th>\n",
       "    </tr>\n",
       "  </thead>\n",
       "  <tbody>\n",
       "    <tr>\n",
       "      <th>0</th>\n",
       "      <td>C-1001</td>\n",
       "      <td>기능/노무직</td>\n",
       "      <td>5700000</td>\n",
       "    </tr>\n",
       "    <tr>\n",
       "      <th>1</th>\n",
       "      <td>C-1019</td>\n",
       "      <td>무직/기타</td>\n",
       "      <td>292900000</td>\n",
       "    </tr>\n",
       "    <tr>\n",
       "      <th>2</th>\n",
       "      <td>C-1029</td>\n",
       "      <td>판매/서비스직</td>\n",
       "      <td>880000</td>\n",
       "    </tr>\n",
       "    <tr>\n",
       "      <th>3</th>\n",
       "      <td>C-1030</td>\n",
       "      <td>사무직</td>\n",
       "      <td>8000000</td>\n",
       "    </tr>\n",
       "    <tr>\n",
       "      <th>4</th>\n",
       "      <td>C-1036</td>\n",
       "      <td>기능/노무직</td>\n",
       "      <td>95000000</td>\n",
       "    </tr>\n",
       "    <tr>\n",
       "      <th>...</th>\n",
       "      <td>...</td>\n",
       "      <td>...</td>\n",
       "      <td>...</td>\n",
       "    </tr>\n",
       "    <tr>\n",
       "      <th>395</th>\n",
       "      <td>C-2972</td>\n",
       "      <td>행정관리/전문직</td>\n",
       "      <td>54170000</td>\n",
       "    </tr>\n",
       "    <tr>\n",
       "      <th>396</th>\n",
       "      <td>C-2984</td>\n",
       "      <td>기능/노무직</td>\n",
       "      <td>2110000</td>\n",
       "    </tr>\n",
       "    <tr>\n",
       "      <th>397</th>\n",
       "      <td>C-2987</td>\n",
       "      <td>사무직</td>\n",
       "      <td>19230000</td>\n",
       "    </tr>\n",
       "    <tr>\n",
       "      <th>398</th>\n",
       "      <td>C-2992</td>\n",
       "      <td>사무직</td>\n",
       "      <td>9600000</td>\n",
       "    </tr>\n",
       "    <tr>\n",
       "      <th>399</th>\n",
       "      <td>C-2994</td>\n",
       "      <td>기능/노무직</td>\n",
       "      <td>500000</td>\n",
       "    </tr>\n",
       "  </tbody>\n",
       "</table>\n",
       "<p>400 rows × 3 columns</p>\n",
       "</div>"
      ],
      "text/plain": [
       "    chaju_id       job   over_amt\n",
       "0     C-1001    기능/노무직    5700000\n",
       "1     C-1019     무직/기타  292900000\n",
       "2     C-1029   판매/서비스직     880000\n",
       "3     C-1030       사무직    8000000\n",
       "4     C-1036    기능/노무직   95000000\n",
       "..       ...       ...        ...\n",
       "395   C-2972  행정관리/전문직   54170000\n",
       "396   C-2984    기능/노무직    2110000\n",
       "397   C-2987       사무직   19230000\n",
       "398   C-2992       사무직    9600000\n",
       "399   C-2994    기능/노무직     500000\n",
       "\n",
       "[400 rows x 3 columns]"
      ]
     },
     "execution_count": 15,
     "metadata": {},
     "output_type": "execute_result"
    }
   ],
   "source": [
    "df_job_over_amt = pd.merge(df_job, df_total_over_amt, on='chaju_id', how='inner')\n",
    "df_job_over_amt"
   ]
  },
  {
   "cell_type": "code",
   "execution_count": 16,
   "metadata": {
    "ExecuteTime": {
     "end_time": "2021-11-14T12:56:42.130767Z",
     "start_time": "2021-11-14T12:56:42.115050Z"
    }
   },
   "outputs": [
    {
     "data": {
      "text/html": [
       "<div>\n",
       "<style scoped>\n",
       "    .dataframe tbody tr th:only-of-type {\n",
       "        vertical-align: middle;\n",
       "    }\n",
       "\n",
       "    .dataframe tbody tr th {\n",
       "        vertical-align: top;\n",
       "    }\n",
       "\n",
       "    .dataframe thead th {\n",
       "        text-align: right;\n",
       "    }\n",
       "</style>\n",
       "<table border=\"1\" class=\"dataframe\">\n",
       "  <thead>\n",
       "    <tr style=\"text-align: right;\">\n",
       "      <th></th>\n",
       "      <th>job</th>\n",
       "      <th>over_amt</th>\n",
       "    </tr>\n",
       "  </thead>\n",
       "  <tbody>\n",
       "    <tr>\n",
       "      <th>0</th>\n",
       "      <td>기능/노무직</td>\n",
       "      <td>44694842.1</td>\n",
       "    </tr>\n",
       "    <tr>\n",
       "      <th>1</th>\n",
       "      <td>무직/기타</td>\n",
       "      <td>45955384.6</td>\n",
       "    </tr>\n",
       "    <tr>\n",
       "      <th>2</th>\n",
       "      <td>사무직</td>\n",
       "      <td>41293827.2</td>\n",
       "    </tr>\n",
       "    <tr>\n",
       "      <th>3</th>\n",
       "      <td>전업주부</td>\n",
       "      <td>22310000.0</td>\n",
       "    </tr>\n",
       "    <tr>\n",
       "      <th>4</th>\n",
       "      <td>판매/서비스직</td>\n",
       "      <td>26901428.6</td>\n",
       "    </tr>\n",
       "    <tr>\n",
       "      <th>5</th>\n",
       "      <td>학생(재수생포함)</td>\n",
       "      <td>31431250.0</td>\n",
       "    </tr>\n",
       "    <tr>\n",
       "      <th>6</th>\n",
       "      <td>행정관리/전문직</td>\n",
       "      <td>40270731.7</td>\n",
       "    </tr>\n",
       "  </tbody>\n",
       "</table>\n",
       "</div>"
      ],
      "text/plain": [
       "         job   over_amt\n",
       "0     기능/노무직 44694842.1\n",
       "1      무직/기타 45955384.6\n",
       "2        사무직 41293827.2\n",
       "3       전업주부 22310000.0\n",
       "4    판매/서비스직 26901428.6\n",
       "5  학생(재수생포함) 31431250.0\n",
       "6   행정관리/전문직 40270731.7"
      ]
     },
     "execution_count": 16,
     "metadata": {},
     "output_type": "execute_result"
    }
   ],
   "source": [
    "df_job_over_amt_mean = df_job_over_amt.groupby(['job'],as_index=False)[['over_amt']].mean()\n",
    "df_job_over_amt_mean"
   ]
  },
  {
   "cell_type": "code",
   "execution_count": 64,
   "metadata": {
    "ExecuteTime": {
     "end_time": "2021-11-14T14:15:53.482479Z",
     "start_time": "2021-11-14T14:15:53.352672Z"
    }
   },
   "outputs": [
    {
     "data": {
      "image/png": "[encoded data removed]",
      "text/plain": [
       "<Figure size 432x288 with 1 Axes>"
      ]
     },
     "metadata": {},
     "output_type": "display_data"
    }
   ],
   "source": [
    "labels = ['기능/노무직','무직/기타','사무직','전업주부','판매/서비스직','학생(+재수생','행정관리/전문직']\n",
    "ratio = ['44694842.1','45955384.6','41293827.2','22310000.0','26901428.6','31431250.0','40270731.7']\n",
    "plt.pie(ratio, labels=labels, autopct='%1.1f%%')\n",
    "plt.show()"
   ]
  },
  {
   "cell_type": "markdown",
   "metadata": {},
   "source": [
    "# 교육수준별 연체율"
   ]
  },
  {
   "cell_type": "code",
   "execution_count": 17,
   "metadata": {
    "ExecuteTime": {
     "end_time": "2021-11-14T12:56:42.147898Z",
     "start_time": "2021-11-14T12:56:42.132696Z"
    }
   },
   "outputs": [
    {
     "data": {
      "text/html": [
       "<div>\n",
       "<style scoped>\n",
       "    .dataframe tbody tr th:only-of-type {\n",
       "        vertical-align: middle;\n",
       "    }\n",
       "\n",
       "    .dataframe tbody tr th {\n",
       "        vertical-align: top;\n",
       "    }\n",
       "\n",
       "    .dataframe thead th {\n",
       "        text-align: right;\n",
       "    }\n",
       "</style>\n",
       "<table border=\"1\" class=\"dataframe\">\n",
       "  <thead>\n",
       "    <tr style=\"text-align: right;\">\n",
       "      <th></th>\n",
       "      <th>chaju_id</th>\n",
       "      <th>edu</th>\n",
       "    </tr>\n",
       "  </thead>\n",
       "  <tbody>\n",
       "    <tr>\n",
       "      <th>0</th>\n",
       "      <td>C-1001</td>\n",
       "      <td>대학교 졸업</td>\n",
       "    </tr>\n",
       "    <tr>\n",
       "      <th>1</th>\n",
       "      <td>C-1002</td>\n",
       "      <td>초등학교 졸업</td>\n",
       "    </tr>\n",
       "    <tr>\n",
       "      <th>2</th>\n",
       "      <td>C-1003</td>\n",
       "      <td>대학교 졸업</td>\n",
       "    </tr>\n",
       "    <tr>\n",
       "      <th>3</th>\n",
       "      <td>C-1004</td>\n",
       "      <td>대학교 졸업</td>\n",
       "    </tr>\n",
       "    <tr>\n",
       "      <th>4</th>\n",
       "      <td>C-1005</td>\n",
       "      <td>대학교 졸업</td>\n",
       "    </tr>\n",
       "    <tr>\n",
       "      <th>...</th>\n",
       "      <td>...</td>\n",
       "      <td>...</td>\n",
       "    </tr>\n",
       "    <tr>\n",
       "      <th>1979</th>\n",
       "      <td>C-2996</td>\n",
       "      <td>대학교 졸업</td>\n",
       "    </tr>\n",
       "    <tr>\n",
       "      <th>1980</th>\n",
       "      <td>C-2997</td>\n",
       "      <td>대학교 졸업</td>\n",
       "    </tr>\n",
       "    <tr>\n",
       "      <th>1981</th>\n",
       "      <td>C-2998</td>\n",
       "      <td>고등학교 졸업</td>\n",
       "    </tr>\n",
       "    <tr>\n",
       "      <th>1982</th>\n",
       "      <td>C-2999</td>\n",
       "      <td>전문대학 졸업</td>\n",
       "    </tr>\n",
       "    <tr>\n",
       "      <th>1983</th>\n",
       "      <td>C-3000</td>\n",
       "      <td>고등학교 졸업</td>\n",
       "    </tr>\n",
       "  </tbody>\n",
       "</table>\n",
       "<p>1984 rows × 2 columns</p>\n",
       "</div>"
      ],
      "text/plain": [
       "     chaju_id      edu\n",
       "0      C-1001   대학교 졸업\n",
       "1      C-1002  초등학교 졸업\n",
       "2      C-1003   대학교 졸업\n",
       "3      C-1004   대학교 졸업\n",
       "4      C-1005   대학교 졸업\n",
       "...       ...      ...\n",
       "1979   C-2996   대학교 졸업\n",
       "1980   C-2997   대학교 졸업\n",
       "1981   C-2998  고등학교 졸업\n",
       "1982   C-2999  전문대학 졸업\n",
       "1983   C-3000  고등학교 졸업\n",
       "\n",
       "[1984 rows x 2 columns]"
      ]
     },
     "execution_count": 17,
     "metadata": {},
     "output_type": "execute_result"
    }
   ],
   "source": [
    "df_edu=df_chaju[['chaju_id','edu']]\n",
    "df_edu"
   ]
  },
  {
   "cell_type": "code",
   "execution_count": 18,
   "metadata": {
    "ExecuteTime": {
     "end_time": "2021-11-14T12:56:42.173560Z",
     "start_time": "2021-11-14T12:56:42.152436Z"
    }
   },
   "outputs": [
    {
     "data": {
      "text/html": [
       "<div>\n",
       "<style scoped>\n",
       "    .dataframe tbody tr th:only-of-type {\n",
       "        vertical-align: middle;\n",
       "    }\n",
       "\n",
       "    .dataframe tbody tr th {\n",
       "        vertical-align: top;\n",
       "    }\n",
       "\n",
       "    .dataframe thead th {\n",
       "        text-align: right;\n",
       "    }\n",
       "</style>\n",
       "<table border=\"1\" class=\"dataframe\">\n",
       "  <thead>\n",
       "    <tr style=\"text-align: right;\">\n",
       "      <th></th>\n",
       "      <th>chaju_id</th>\n",
       "      <th>edu</th>\n",
       "      <th>over_amt</th>\n",
       "    </tr>\n",
       "  </thead>\n",
       "  <tbody>\n",
       "    <tr>\n",
       "      <th>0</th>\n",
       "      <td>C-1001</td>\n",
       "      <td>대학교 졸업</td>\n",
       "      <td>5700000</td>\n",
       "    </tr>\n",
       "    <tr>\n",
       "      <th>1</th>\n",
       "      <td>C-1019</td>\n",
       "      <td>대학교 졸업</td>\n",
       "      <td>292900000</td>\n",
       "    </tr>\n",
       "    <tr>\n",
       "      <th>2</th>\n",
       "      <td>C-1029</td>\n",
       "      <td>고등학교 졸업</td>\n",
       "      <td>880000</td>\n",
       "    </tr>\n",
       "    <tr>\n",
       "      <th>3</th>\n",
       "      <td>C-1030</td>\n",
       "      <td>대학교 졸업</td>\n",
       "      <td>8000000</td>\n",
       "    </tr>\n",
       "    <tr>\n",
       "      <th>4</th>\n",
       "      <td>C-1036</td>\n",
       "      <td>고등학교 졸업</td>\n",
       "      <td>95000000</td>\n",
       "    </tr>\n",
       "    <tr>\n",
       "      <th>...</th>\n",
       "      <td>...</td>\n",
       "      <td>...</td>\n",
       "      <td>...</td>\n",
       "    </tr>\n",
       "    <tr>\n",
       "      <th>395</th>\n",
       "      <td>C-2972</td>\n",
       "      <td>대학원 졸업</td>\n",
       "      <td>54170000</td>\n",
       "    </tr>\n",
       "    <tr>\n",
       "      <th>396</th>\n",
       "      <td>C-2984</td>\n",
       "      <td>고등학교 졸업</td>\n",
       "      <td>2110000</td>\n",
       "    </tr>\n",
       "    <tr>\n",
       "      <th>397</th>\n",
       "      <td>C-2987</td>\n",
       "      <td>대학교 졸업</td>\n",
       "      <td>19230000</td>\n",
       "    </tr>\n",
       "    <tr>\n",
       "      <th>398</th>\n",
       "      <td>C-2992</td>\n",
       "      <td>대학교 졸업</td>\n",
       "      <td>9600000</td>\n",
       "    </tr>\n",
       "    <tr>\n",
       "      <th>399</th>\n",
       "      <td>C-2994</td>\n",
       "      <td>전문대학 졸업</td>\n",
       "      <td>500000</td>\n",
       "    </tr>\n",
       "  </tbody>\n",
       "</table>\n",
       "<p>400 rows × 3 columns</p>\n",
       "</div>"
      ],
      "text/plain": [
       "    chaju_id      edu   over_amt\n",
       "0     C-1001   대학교 졸업    5700000\n",
       "1     C-1019   대학교 졸업  292900000\n",
       "2     C-1029  고등학교 졸업     880000\n",
       "3     C-1030   대학교 졸업    8000000\n",
       "4     C-1036  고등학교 졸업   95000000\n",
       "..       ...      ...        ...\n",
       "395   C-2972   대학원 졸업   54170000\n",
       "396   C-2984  고등학교 졸업    2110000\n",
       "397   C-2987   대학교 졸업   19230000\n",
       "398   C-2992   대학교 졸업    9600000\n",
       "399   C-2994  전문대학 졸업     500000\n",
       "\n",
       "[400 rows x 3 columns]"
      ]
     },
     "execution_count": 18,
     "metadata": {},
     "output_type": "execute_result"
    }
   ],
   "source": [
    "df_edu_over_amt = pd.merge(df_edu, df_total_over_amt, on='chaju_id', how='inner')\n",
    "df_edu_over_amt"
   ]
  },
  {
   "cell_type": "code",
   "execution_count": 19,
   "metadata": {
    "ExecuteTime": {
     "end_time": "2021-11-14T12:56:42.194038Z",
     "start_time": "2021-11-14T12:56:42.176000Z"
    }
   },
   "outputs": [
    {
     "data": {
      "text/html": [
       "<div>\n",
       "<style scoped>\n",
       "    .dataframe tbody tr th:only-of-type {\n",
       "        vertical-align: middle;\n",
       "    }\n",
       "\n",
       "    .dataframe tbody tr th {\n",
       "        vertical-align: top;\n",
       "    }\n",
       "\n",
       "    .dataframe thead th {\n",
       "        text-align: right;\n",
       "    }\n",
       "</style>\n",
       "<table border=\"1\" class=\"dataframe\">\n",
       "  <thead>\n",
       "    <tr style=\"text-align: right;\">\n",
       "      <th></th>\n",
       "      <th>edu</th>\n",
       "      <th>over_amt</th>\n",
       "    </tr>\n",
       "  </thead>\n",
       "  <tbody>\n",
       "    <tr>\n",
       "      <th>0</th>\n",
       "      <td>고등학교 졸업</td>\n",
       "      <td>51521678.3</td>\n",
       "    </tr>\n",
       "    <tr>\n",
       "      <th>1</th>\n",
       "      <td>대학교 재학</td>\n",
       "      <td>45569000.0</td>\n",
       "    </tr>\n",
       "    <tr>\n",
       "      <th>2</th>\n",
       "      <td>대학교 졸업</td>\n",
       "      <td>17636319.4</td>\n",
       "    </tr>\n",
       "    <tr>\n",
       "      <th>3</th>\n",
       "      <td>대학원 재학</td>\n",
       "      <td>7697500.0</td>\n",
       "    </tr>\n",
       "    <tr>\n",
       "      <th>4</th>\n",
       "      <td>대학원 졸업</td>\n",
       "      <td>64880588.2</td>\n",
       "    </tr>\n",
       "    <tr>\n",
       "      <th>5</th>\n",
       "      <td>전문대학 졸업</td>\n",
       "      <td>44157647.1</td>\n",
       "    </tr>\n",
       "    <tr>\n",
       "      <th>6</th>\n",
       "      <td>중학교 졸업</td>\n",
       "      <td>32579285.7</td>\n",
       "    </tr>\n",
       "    <tr>\n",
       "      <th>7</th>\n",
       "      <td>초등학교 졸업</td>\n",
       "      <td>17736666.7</td>\n",
       "    </tr>\n",
       "  </tbody>\n",
       "</table>\n",
       "</div>"
      ],
      "text/plain": [
       "       edu   over_amt\n",
       "0  고등학교 졸업 51521678.3\n",
       "1   대학교 재학 45569000.0\n",
       "2   대학교 졸업 17636319.4\n",
       "3   대학원 재학  7697500.0\n",
       "4   대학원 졸업 64880588.2\n",
       "5  전문대학 졸업 44157647.1\n",
       "6   중학교 졸업 32579285.7\n",
       "7  초등학교 졸업 17736666.7"
      ]
     },
     "execution_count": 19,
     "metadata": {},
     "output_type": "execute_result"
    }
   ],
   "source": [
    "df_edu_over_amt_mean = df_edu_over_amt.groupby(['edu'],as_index=False)[['over_amt']].mean()\n",
    "df_edu_over_amt_mean"
   ]
  },
  {
   "cell_type": "code",
   "execution_count": 66,
   "metadata": {
    "ExecuteTime": {
     "end_time": "2021-11-14T14:18:10.345677Z",
     "start_time": "2021-11-14T14:18:10.216786Z"
    }
   },
   "outputs": [
    {
     "data": {
      "image/png": "[encoded data removed]",
      "text/plain": [
       "<Figure size 432x288 with 1 Axes>"
      ]
     },
     "metadata": {},
     "output_type": "display_data"
    }
   ],
   "source": [
    "labels = ['고등학교졸업','대학교재학','대학교졸업','대학원재학','대학원졸업','전문대학졸업','중학교졸업','초등학교졸업']\n",
    "ratio = ['51521678.3','45569000.0','17636319.4','7697500.0','64880588.2','44157647.1','32579285.7','17736666.7']\n",
    "plt.pie(ratio, labels=labels, autopct='%1.1f%%')\n",
    "plt.show()"
   ]
  },
  {
   "cell_type": "markdown",
   "metadata": {},
   "source": [
    "# 주거형태별 연체율"
   ]
  },
  {
   "cell_type": "code",
   "execution_count": 20,
   "metadata": {
    "ExecuteTime": {
     "end_time": "2021-11-14T12:56:42.210879Z",
     "start_time": "2021-11-14T12:56:42.196057Z"
    }
   },
   "outputs": [
    {
     "data": {
      "text/html": [
       "<div>\n",
       "<style scoped>\n",
       "    .dataframe tbody tr th:only-of-type {\n",
       "        vertical-align: middle;\n",
       "    }\n",
       "\n",
       "    .dataframe tbody tr th {\n",
       "        vertical-align: top;\n",
       "    }\n",
       "\n",
       "    .dataframe thead th {\n",
       "        text-align: right;\n",
       "    }\n",
       "</style>\n",
       "<table border=\"1\" class=\"dataframe\">\n",
       "  <thead>\n",
       "    <tr style=\"text-align: right;\">\n",
       "      <th></th>\n",
       "      <th>chaju_id</th>\n",
       "      <th>dwell_type</th>\n",
       "    </tr>\n",
       "  </thead>\n",
       "  <tbody>\n",
       "    <tr>\n",
       "      <th>0</th>\n",
       "      <td>C-1001</td>\n",
       "      <td>자가</td>\n",
       "    </tr>\n",
       "    <tr>\n",
       "      <th>1</th>\n",
       "      <td>C-1002</td>\n",
       "      <td>자가</td>\n",
       "    </tr>\n",
       "    <tr>\n",
       "      <th>2</th>\n",
       "      <td>C-1003</td>\n",
       "      <td>자가</td>\n",
       "    </tr>\n",
       "    <tr>\n",
       "      <th>3</th>\n",
       "      <td>C-1004</td>\n",
       "      <td>자가</td>\n",
       "    </tr>\n",
       "    <tr>\n",
       "      <th>4</th>\n",
       "      <td>C-1005</td>\n",
       "      <td>자가</td>\n",
       "    </tr>\n",
       "    <tr>\n",
       "      <th>...</th>\n",
       "      <td>...</td>\n",
       "      <td>...</td>\n",
       "    </tr>\n",
       "    <tr>\n",
       "      <th>1979</th>\n",
       "      <td>C-2996</td>\n",
       "      <td>자가</td>\n",
       "    </tr>\n",
       "    <tr>\n",
       "      <th>1980</th>\n",
       "      <td>C-2997</td>\n",
       "      <td>자가</td>\n",
       "    </tr>\n",
       "    <tr>\n",
       "      <th>1981</th>\n",
       "      <td>C-2998</td>\n",
       "      <td>자가</td>\n",
       "    </tr>\n",
       "    <tr>\n",
       "      <th>1982</th>\n",
       "      <td>C-2999</td>\n",
       "      <td>전세</td>\n",
       "    </tr>\n",
       "    <tr>\n",
       "      <th>1983</th>\n",
       "      <td>C-3000</td>\n",
       "      <td>자가</td>\n",
       "    </tr>\n",
       "  </tbody>\n",
       "</table>\n",
       "<p>1984 rows × 2 columns</p>\n",
       "</div>"
      ],
      "text/plain": [
       "     chaju_id dwell_type\n",
       "0      C-1001         자가\n",
       "1      C-1002         자가\n",
       "2      C-1003         자가\n",
       "3      C-1004         자가\n",
       "4      C-1005         자가\n",
       "...       ...        ...\n",
       "1979   C-2996         자가\n",
       "1980   C-2997         자가\n",
       "1981   C-2998         자가\n",
       "1982   C-2999         전세\n",
       "1983   C-3000         자가\n",
       "\n",
       "[1984 rows x 2 columns]"
      ]
     },
     "execution_count": 20,
     "metadata": {},
     "output_type": "execute_result"
    }
   ],
   "source": [
    "df_dwell_type=df_chaju[['chaju_id','dwell_type']]\n",
    "df_dwell_type"
   ]
  },
  {
   "cell_type": "code",
   "execution_count": 21,
   "metadata": {
    "ExecuteTime": {
     "end_time": "2021-11-14T12:56:42.227799Z",
     "start_time": "2021-11-14T12:56:42.213704Z"
    }
   },
   "outputs": [
    {
     "data": {
      "text/html": [
       "<div>\n",
       "<style scoped>\n",
       "    .dataframe tbody tr th:only-of-type {\n",
       "        vertical-align: middle;\n",
       "    }\n",
       "\n",
       "    .dataframe tbody tr th {\n",
       "        vertical-align: top;\n",
       "    }\n",
       "\n",
       "    .dataframe thead th {\n",
       "        text-align: right;\n",
       "    }\n",
       "</style>\n",
       "<table border=\"1\" class=\"dataframe\">\n",
       "  <thead>\n",
       "    <tr style=\"text-align: right;\">\n",
       "      <th></th>\n",
       "      <th>chaju_id</th>\n",
       "      <th>dwell_type</th>\n",
       "      <th>over_amt</th>\n",
       "    </tr>\n",
       "  </thead>\n",
       "  <tbody>\n",
       "    <tr>\n",
       "      <th>0</th>\n",
       "      <td>C-1001</td>\n",
       "      <td>자가</td>\n",
       "      <td>5700000</td>\n",
       "    </tr>\n",
       "    <tr>\n",
       "      <th>1</th>\n",
       "      <td>C-1019</td>\n",
       "      <td>자가</td>\n",
       "      <td>292900000</td>\n",
       "    </tr>\n",
       "    <tr>\n",
       "      <th>2</th>\n",
       "      <td>C-1029</td>\n",
       "      <td>자가</td>\n",
       "      <td>880000</td>\n",
       "    </tr>\n",
       "    <tr>\n",
       "      <th>3</th>\n",
       "      <td>C-1030</td>\n",
       "      <td>자가</td>\n",
       "      <td>8000000</td>\n",
       "    </tr>\n",
       "    <tr>\n",
       "      <th>4</th>\n",
       "      <td>C-1036</td>\n",
       "      <td>자가</td>\n",
       "      <td>95000000</td>\n",
       "    </tr>\n",
       "    <tr>\n",
       "      <th>...</th>\n",
       "      <td>...</td>\n",
       "      <td>...</td>\n",
       "      <td>...</td>\n",
       "    </tr>\n",
       "    <tr>\n",
       "      <th>395</th>\n",
       "      <td>C-2972</td>\n",
       "      <td>자가</td>\n",
       "      <td>54170000</td>\n",
       "    </tr>\n",
       "    <tr>\n",
       "      <th>396</th>\n",
       "      <td>C-2984</td>\n",
       "      <td>자가</td>\n",
       "      <td>2110000</td>\n",
       "    </tr>\n",
       "    <tr>\n",
       "      <th>397</th>\n",
       "      <td>C-2987</td>\n",
       "      <td>자가</td>\n",
       "      <td>19230000</td>\n",
       "    </tr>\n",
       "    <tr>\n",
       "      <th>398</th>\n",
       "      <td>C-2992</td>\n",
       "      <td>자가</td>\n",
       "      <td>9600000</td>\n",
       "    </tr>\n",
       "    <tr>\n",
       "      <th>399</th>\n",
       "      <td>C-2994</td>\n",
       "      <td>전세</td>\n",
       "      <td>500000</td>\n",
       "    </tr>\n",
       "  </tbody>\n",
       "</table>\n",
       "<p>400 rows × 3 columns</p>\n",
       "</div>"
      ],
      "text/plain": [
       "    chaju_id dwell_type   over_amt\n",
       "0     C-1001         자가    5700000\n",
       "1     C-1019         자가  292900000\n",
       "2     C-1029         자가     880000\n",
       "3     C-1030         자가    8000000\n",
       "4     C-1036         자가   95000000\n",
       "..       ...        ...        ...\n",
       "395   C-2972         자가   54170000\n",
       "396   C-2984         자가    2110000\n",
       "397   C-2987         자가   19230000\n",
       "398   C-2992         자가    9600000\n",
       "399   C-2994         전세     500000\n",
       "\n",
       "[400 rows x 3 columns]"
      ]
     },
     "execution_count": 21,
     "metadata": {},
     "output_type": "execute_result"
    }
   ],
   "source": [
    "df_dwell_type_over_amt = pd.merge(df_dwell_type, df_total_over_amt, on='chaju_id', how='inner')\n",
    "df_dwell_type_over_amt"
   ]
  },
  {
   "cell_type": "code",
   "execution_count": 22,
   "metadata": {
    "ExecuteTime": {
     "end_time": "2021-11-14T12:56:42.258568Z",
     "start_time": "2021-11-14T12:56:42.240137Z"
    }
   },
   "outputs": [
    {
     "data": {
      "text/html": [
       "<div>\n",
       "<style scoped>\n",
       "    .dataframe tbody tr th:only-of-type {\n",
       "        vertical-align: middle;\n",
       "    }\n",
       "\n",
       "    .dataframe tbody tr th {\n",
       "        vertical-align: top;\n",
       "    }\n",
       "\n",
       "    .dataframe thead th {\n",
       "        text-align: right;\n",
       "    }\n",
       "</style>\n",
       "<table border=\"1\" class=\"dataframe\">\n",
       "  <thead>\n",
       "    <tr style=\"text-align: right;\">\n",
       "      <th></th>\n",
       "      <th>dwell_type</th>\n",
       "      <th>over_amt</th>\n",
       "    </tr>\n",
       "  </thead>\n",
       "  <tbody>\n",
       "    <tr>\n",
       "      <th>0</th>\n",
       "      <td>사택/기타</td>\n",
       "      <td>13552500.0</td>\n",
       "    </tr>\n",
       "    <tr>\n",
       "      <th>1</th>\n",
       "      <td>영구임대</td>\n",
       "      <td>13900000.0</td>\n",
       "    </tr>\n",
       "    <tr>\n",
       "      <th>2</th>\n",
       "      <td>월세</td>\n",
       "      <td>10571666.7</td>\n",
       "    </tr>\n",
       "    <tr>\n",
       "      <th>3</th>\n",
       "      <td>자가</td>\n",
       "      <td>40038402.6</td>\n",
       "    </tr>\n",
       "    <tr>\n",
       "      <th>4</th>\n",
       "      <td>전세</td>\n",
       "      <td>28388000.0</td>\n",
       "    </tr>\n",
       "  </tbody>\n",
       "</table>\n",
       "</div>"
      ],
      "text/plain": [
       "  dwell_type   over_amt\n",
       "0      사택/기타 13552500.0\n",
       "1       영구임대 13900000.0\n",
       "2         월세 10571666.7\n",
       "3         자가 40038402.6\n",
       "4         전세 28388000.0"
      ]
     },
     "execution_count": 22,
     "metadata": {},
     "output_type": "execute_result"
    }
   ],
   "source": [
    "df_dwell_type_over_amt_mean = df_dwell_type_over_amt.groupby(['dwell_type'],as_index=False)[['over_amt']].mean()\n",
    "df_dwell_type_over_amt_mean"
   ]
  },
  {
   "cell_type": "code",
   "execution_count": 286,
   "metadata": {
    "ExecuteTime": {
     "end_time": "2021-11-15T05:46:30.277035Z",
     "start_time": "2021-11-15T05:46:30.166601Z"
    }
   },
   "outputs": [
    {
     "data": {
      "image/png": "[encoded data removed]",
      "text/plain": [
       "<Figure size 432x288 with 1 Axes>"
      ]
     },
     "metadata": {},
     "output_type": "display_data"
    }
   ],
   "source": [
    "labels = ['기타/사택','영구임대','월세','자가','전세']\n",
    "ratio = ['13552500.0','13900000.0','10571666.7','40038402.6','28388000.0']\n",
    "plt.pie(ratio, labels=labels, autopct='%1.1f%%')\n",
    "plt.show()"
   ]
  },
  {
   "cell_type": "markdown",
   "metadata": {},
   "source": [
    "# 주택형태별 연체율"
   ]
  },
  {
   "cell_type": "code",
   "execution_count": 23,
   "metadata": {
    "ExecuteTime": {
     "end_time": "2021-11-14T12:56:42.284852Z",
     "start_time": "2021-11-14T12:56:42.263356Z"
    }
   },
   "outputs": [
    {
     "data": {
      "text/html": [
       "<div>\n",
       "<style scoped>\n",
       "    .dataframe tbody tr th:only-of-type {\n",
       "        vertical-align: middle;\n",
       "    }\n",
       "\n",
       "    .dataframe tbody tr th {\n",
       "        vertical-align: top;\n",
       "    }\n",
       "\n",
       "    .dataframe thead th {\n",
       "        text-align: right;\n",
       "    }\n",
       "</style>\n",
       "<table border=\"1\" class=\"dataframe\">\n",
       "  <thead>\n",
       "    <tr style=\"text-align: right;\">\n",
       "      <th></th>\n",
       "      <th>chaju_id</th>\n",
       "      <th>house_type</th>\n",
       "    </tr>\n",
       "  </thead>\n",
       "  <tbody>\n",
       "    <tr>\n",
       "      <th>0</th>\n",
       "      <td>C-1001</td>\n",
       "      <td>아파트</td>\n",
       "    </tr>\n",
       "    <tr>\n",
       "      <th>1</th>\n",
       "      <td>C-1002</td>\n",
       "      <td>아파트</td>\n",
       "    </tr>\n",
       "    <tr>\n",
       "      <th>2</th>\n",
       "      <td>C-1003</td>\n",
       "      <td>아파트</td>\n",
       "    </tr>\n",
       "    <tr>\n",
       "      <th>3</th>\n",
       "      <td>C-1004</td>\n",
       "      <td>아파트</td>\n",
       "    </tr>\n",
       "    <tr>\n",
       "      <th>4</th>\n",
       "      <td>C-1005</td>\n",
       "      <td>아파트</td>\n",
       "    </tr>\n",
       "    <tr>\n",
       "      <th>...</th>\n",
       "      <td>...</td>\n",
       "      <td>...</td>\n",
       "    </tr>\n",
       "    <tr>\n",
       "      <th>1979</th>\n",
       "      <td>C-2996</td>\n",
       "      <td>단독주택</td>\n",
       "    </tr>\n",
       "    <tr>\n",
       "      <th>1980</th>\n",
       "      <td>C-2997</td>\n",
       "      <td>아파트</td>\n",
       "    </tr>\n",
       "    <tr>\n",
       "      <th>1981</th>\n",
       "      <td>C-2998</td>\n",
       "      <td>아파트</td>\n",
       "    </tr>\n",
       "    <tr>\n",
       "      <th>1982</th>\n",
       "      <td>C-2999</td>\n",
       "      <td>아파트</td>\n",
       "    </tr>\n",
       "    <tr>\n",
       "      <th>1983</th>\n",
       "      <td>C-3000</td>\n",
       "      <td>아파트</td>\n",
       "    </tr>\n",
       "  </tbody>\n",
       "</table>\n",
       "<p>1984 rows × 2 columns</p>\n",
       "</div>"
      ],
      "text/plain": [
       "     chaju_id house_type\n",
       "0      C-1001        아파트\n",
       "1      C-1002        아파트\n",
       "2      C-1003        아파트\n",
       "3      C-1004        아파트\n",
       "4      C-1005        아파트\n",
       "...       ...        ...\n",
       "1979   C-2996       단독주택\n",
       "1980   C-2997        아파트\n",
       "1981   C-2998        아파트\n",
       "1982   C-2999        아파트\n",
       "1983   C-3000        아파트\n",
       "\n",
       "[1984 rows x 2 columns]"
      ]
     },
     "execution_count": 23,
     "metadata": {},
     "output_type": "execute_result"
    }
   ],
   "source": [
    "df_house_type=df_chaju[['chaju_id','house_type']]\n",
    "df_house_type"
   ]
  },
  {
   "cell_type": "code",
   "execution_count": 24,
   "metadata": {
    "ExecuteTime": {
     "end_time": "2021-11-14T12:56:42.307518Z",
     "start_time": "2021-11-14T12:56:42.287993Z"
    }
   },
   "outputs": [
    {
     "data": {
      "text/html": [
       "<div>\n",
       "<style scoped>\n",
       "    .dataframe tbody tr th:only-of-type {\n",
       "        vertical-align: middle;\n",
       "    }\n",
       "\n",
       "    .dataframe tbody tr th {\n",
       "        vertical-align: top;\n",
       "    }\n",
       "\n",
       "    .dataframe thead th {\n",
       "        text-align: right;\n",
       "    }\n",
       "</style>\n",
       "<table border=\"1\" class=\"dataframe\">\n",
       "  <thead>\n",
       "    <tr style=\"text-align: right;\">\n",
       "      <th></th>\n",
       "      <th>chaju_id</th>\n",
       "      <th>house_type</th>\n",
       "      <th>over_amt</th>\n",
       "    </tr>\n",
       "  </thead>\n",
       "  <tbody>\n",
       "    <tr>\n",
       "      <th>0</th>\n",
       "      <td>C-1001</td>\n",
       "      <td>아파트</td>\n",
       "      <td>5700000</td>\n",
       "    </tr>\n",
       "    <tr>\n",
       "      <th>1</th>\n",
       "      <td>C-1019</td>\n",
       "      <td>아파트</td>\n",
       "      <td>292900000</td>\n",
       "    </tr>\n",
       "    <tr>\n",
       "      <th>2</th>\n",
       "      <td>C-1029</td>\n",
       "      <td>아파트</td>\n",
       "      <td>880000</td>\n",
       "    </tr>\n",
       "    <tr>\n",
       "      <th>3</th>\n",
       "      <td>C-1030</td>\n",
       "      <td>아파트</td>\n",
       "      <td>8000000</td>\n",
       "    </tr>\n",
       "    <tr>\n",
       "      <th>4</th>\n",
       "      <td>C-1036</td>\n",
       "      <td>아파트</td>\n",
       "      <td>95000000</td>\n",
       "    </tr>\n",
       "    <tr>\n",
       "      <th>...</th>\n",
       "      <td>...</td>\n",
       "      <td>...</td>\n",
       "      <td>...</td>\n",
       "    </tr>\n",
       "    <tr>\n",
       "      <th>395</th>\n",
       "      <td>C-2972</td>\n",
       "      <td>단독주택</td>\n",
       "      <td>54170000</td>\n",
       "    </tr>\n",
       "    <tr>\n",
       "      <th>396</th>\n",
       "      <td>C-2984</td>\n",
       "      <td>아파트</td>\n",
       "      <td>2110000</td>\n",
       "    </tr>\n",
       "    <tr>\n",
       "      <th>397</th>\n",
       "      <td>C-2987</td>\n",
       "      <td>아파트</td>\n",
       "      <td>19230000</td>\n",
       "    </tr>\n",
       "    <tr>\n",
       "      <th>398</th>\n",
       "      <td>C-2992</td>\n",
       "      <td>단독주택</td>\n",
       "      <td>9600000</td>\n",
       "    </tr>\n",
       "    <tr>\n",
       "      <th>399</th>\n",
       "      <td>C-2994</td>\n",
       "      <td>아파트</td>\n",
       "      <td>500000</td>\n",
       "    </tr>\n",
       "  </tbody>\n",
       "</table>\n",
       "<p>400 rows × 3 columns</p>\n",
       "</div>"
      ],
      "text/plain": [
       "    chaju_id house_type   over_amt\n",
       "0     C-1001        아파트    5700000\n",
       "1     C-1019        아파트  292900000\n",
       "2     C-1029        아파트     880000\n",
       "3     C-1030        아파트    8000000\n",
       "4     C-1036        아파트   95000000\n",
       "..       ...        ...        ...\n",
       "395   C-2972       단독주택   54170000\n",
       "396   C-2984        아파트    2110000\n",
       "397   C-2987        아파트   19230000\n",
       "398   C-2992       단독주택    9600000\n",
       "399   C-2994        아파트     500000\n",
       "\n",
       "[400 rows x 3 columns]"
      ]
     },
     "execution_count": 24,
     "metadata": {},
     "output_type": "execute_result"
    }
   ],
   "source": [
    "df_house_type_over_amt = pd.merge(df_house_type, df_total_over_amt, on='chaju_id', how='inner')\n",
    "df_house_type_over_amt"
   ]
  },
  {
   "cell_type": "code",
   "execution_count": 25,
   "metadata": {
    "ExecuteTime": {
     "end_time": "2021-11-14T12:56:42.325409Z",
     "start_time": "2021-11-14T12:56:42.309990Z"
    }
   },
   "outputs": [
    {
     "data": {
      "text/html": [
       "<div>\n",
       "<style scoped>\n",
       "    .dataframe tbody tr th:only-of-type {\n",
       "        vertical-align: middle;\n",
       "    }\n",
       "\n",
       "    .dataframe tbody tr th {\n",
       "        vertical-align: top;\n",
       "    }\n",
       "\n",
       "    .dataframe thead th {\n",
       "        text-align: right;\n",
       "    }\n",
       "</style>\n",
       "<table border=\"1\" class=\"dataframe\">\n",
       "  <thead>\n",
       "    <tr style=\"text-align: right;\">\n",
       "      <th></th>\n",
       "      <th>house_type</th>\n",
       "      <th>over_amt</th>\n",
       "    </tr>\n",
       "  </thead>\n",
       "  <tbody>\n",
       "    <tr>\n",
       "      <th>0</th>\n",
       "      <td>기타</td>\n",
       "      <td>26100000.0</td>\n",
       "    </tr>\n",
       "    <tr>\n",
       "      <th>1</th>\n",
       "      <td>단독주택</td>\n",
       "      <td>34515517.2</td>\n",
       "    </tr>\n",
       "    <tr>\n",
       "      <th>2</th>\n",
       "      <td>상가주택</td>\n",
       "      <td>12252500.0</td>\n",
       "    </tr>\n",
       "    <tr>\n",
       "      <th>3</th>\n",
       "      <td>아파트</td>\n",
       "      <td>39299237.3</td>\n",
       "    </tr>\n",
       "    <tr>\n",
       "      <th>4</th>\n",
       "      <td>연립/다세대/빌라</td>\n",
       "      <td>33497285.7</td>\n",
       "    </tr>\n",
       "    <tr>\n",
       "      <th>5</th>\n",
       "      <td>오피스텔</td>\n",
       "      <td>8380000.0</td>\n",
       "    </tr>\n",
       "  </tbody>\n",
       "</table>\n",
       "</div>"
      ],
      "text/plain": [
       "  house_type   over_amt\n",
       "0         기타 26100000.0\n",
       "1       단독주택 34515517.2\n",
       "2       상가주택 12252500.0\n",
       "3        아파트 39299237.3\n",
       "4  연립/다세대/빌라 33497285.7\n",
       "5       오피스텔  8380000.0"
      ]
     },
     "execution_count": 25,
     "metadata": {},
     "output_type": "execute_result"
    }
   ],
   "source": [
    "df_house_type_over_amt_mean = df_house_type_over_amt.groupby(['house_type'],as_index=False)[['over_amt']].mean()\n",
    "df_house_type_over_amt_mean"
   ]
  },
  {
   "cell_type": "code",
   "execution_count": 67,
   "metadata": {
    "ExecuteTime": {
     "end_time": "2021-11-14T14:19:41.024920Z",
     "start_time": "2021-11-14T14:19:40.909149Z"
    }
   },
   "outputs": [
    {
     "data": {
      "image/png": "[encoded data removed]",
      "text/plain": [
       "<Figure size 432x288 with 1 Axes>"
      ]
     },
     "metadata": {},
     "output_type": "display_data"
    }
   ],
   "source": [
    "labels = ['기타','단독주택','상가주택','아파트','연립/다세대/빌라','오피스텔']\n",
    "ratio = ['26100000.0','34515517.2','12252500.0','39299237.3','33497285.7','8380000.0']\n",
    "plt.pie(ratio, labels=labels, autopct='%1.1f%%')\n",
    "plt.show()"
   ]
  },
  {
   "cell_type": "markdown",
   "metadata": {},
   "source": [
    "# 결혼상태별 연체율"
   ]
  },
  {
   "cell_type": "code",
   "execution_count": 26,
   "metadata": {
    "ExecuteTime": {
     "end_time": "2021-11-14T12:56:42.345454Z",
     "start_time": "2021-11-14T12:56:42.327993Z"
    }
   },
   "outputs": [
    {
     "data": {
      "text/html": [
       "<div>\n",
       "<style scoped>\n",
       "    .dataframe tbody tr th:only-of-type {\n",
       "        vertical-align: middle;\n",
       "    }\n",
       "\n",
       "    .dataframe tbody tr th {\n",
       "        vertical-align: top;\n",
       "    }\n",
       "\n",
       "    .dataframe thead th {\n",
       "        text-align: right;\n",
       "    }\n",
       "</style>\n",
       "<table border=\"1\" class=\"dataframe\">\n",
       "  <thead>\n",
       "    <tr style=\"text-align: right;\">\n",
       "      <th></th>\n",
       "      <th>chaju_id</th>\n",
       "      <th>marriage</th>\n",
       "    </tr>\n",
       "  </thead>\n",
       "  <tbody>\n",
       "    <tr>\n",
       "      <th>0</th>\n",
       "      <td>C-1001</td>\n",
       "      <td>미혼</td>\n",
       "    </tr>\n",
       "    <tr>\n",
       "      <th>1</th>\n",
       "      <td>C-1002</td>\n",
       "      <td>기혼</td>\n",
       "    </tr>\n",
       "    <tr>\n",
       "      <th>2</th>\n",
       "      <td>C-1003</td>\n",
       "      <td>기혼</td>\n",
       "    </tr>\n",
       "    <tr>\n",
       "      <th>3</th>\n",
       "      <td>C-1004</td>\n",
       "      <td>미혼</td>\n",
       "    </tr>\n",
       "    <tr>\n",
       "      <th>4</th>\n",
       "      <td>C-1005</td>\n",
       "      <td>기혼</td>\n",
       "    </tr>\n",
       "    <tr>\n",
       "      <th>...</th>\n",
       "      <td>...</td>\n",
       "      <td>...</td>\n",
       "    </tr>\n",
       "    <tr>\n",
       "      <th>1979</th>\n",
       "      <td>C-2996</td>\n",
       "      <td>미혼</td>\n",
       "    </tr>\n",
       "    <tr>\n",
       "      <th>1980</th>\n",
       "      <td>C-2997</td>\n",
       "      <td>기혼</td>\n",
       "    </tr>\n",
       "    <tr>\n",
       "      <th>1981</th>\n",
       "      <td>C-2998</td>\n",
       "      <td>기혼</td>\n",
       "    </tr>\n",
       "    <tr>\n",
       "      <th>1982</th>\n",
       "      <td>C-2999</td>\n",
       "      <td>기혼</td>\n",
       "    </tr>\n",
       "    <tr>\n",
       "      <th>1983</th>\n",
       "      <td>C-3000</td>\n",
       "      <td>기타(이혼/별거/사별)</td>\n",
       "    </tr>\n",
       "  </tbody>\n",
       "</table>\n",
       "<p>1984 rows × 2 columns</p>\n",
       "</div>"
      ],
      "text/plain": [
       "     chaju_id      marriage\n",
       "0      C-1001            미혼\n",
       "1      C-1002            기혼\n",
       "2      C-1003            기혼\n",
       "3      C-1004            미혼\n",
       "4      C-1005            기혼\n",
       "...       ...           ...\n",
       "1979   C-2996            미혼\n",
       "1980   C-2997            기혼\n",
       "1981   C-2998            기혼\n",
       "1982   C-2999            기혼\n",
       "1983   C-3000  기타(이혼/별거/사별)\n",
       "\n",
       "[1984 rows x 2 columns]"
      ]
     },
     "execution_count": 26,
     "metadata": {},
     "output_type": "execute_result"
    }
   ],
   "source": [
    "df_marriage = df_chaju[['chaju_id','marriage']]\n",
    "df_marriage"
   ]
  },
  {
   "cell_type": "code",
   "execution_count": 27,
   "metadata": {
    "ExecuteTime": {
     "end_time": "2021-11-14T12:56:42.374143Z",
     "start_time": "2021-11-14T12:56:42.347655Z"
    }
   },
   "outputs": [
    {
     "data": {
      "text/html": [
       "<div>\n",
       "<style scoped>\n",
       "    .dataframe tbody tr th:only-of-type {\n",
       "        vertical-align: middle;\n",
       "    }\n",
       "\n",
       "    .dataframe tbody tr th {\n",
       "        vertical-align: top;\n",
       "    }\n",
       "\n",
       "    .dataframe thead th {\n",
       "        text-align: right;\n",
       "    }\n",
       "</style>\n",
       "<table border=\"1\" class=\"dataframe\">\n",
       "  <thead>\n",
       "    <tr style=\"text-align: right;\">\n",
       "      <th></th>\n",
       "      <th>chaju_id</th>\n",
       "      <th>marriage</th>\n",
       "      <th>over_amt</th>\n",
       "    </tr>\n",
       "  </thead>\n",
       "  <tbody>\n",
       "    <tr>\n",
       "      <th>0</th>\n",
       "      <td>C-1001</td>\n",
       "      <td>미혼</td>\n",
       "      <td>5700000</td>\n",
       "    </tr>\n",
       "    <tr>\n",
       "      <th>1</th>\n",
       "      <td>C-1019</td>\n",
       "      <td>기혼</td>\n",
       "      <td>292900000</td>\n",
       "    </tr>\n",
       "    <tr>\n",
       "      <th>2</th>\n",
       "      <td>C-1029</td>\n",
       "      <td>기혼</td>\n",
       "      <td>880000</td>\n",
       "    </tr>\n",
       "    <tr>\n",
       "      <th>3</th>\n",
       "      <td>C-1030</td>\n",
       "      <td>기혼</td>\n",
       "      <td>8000000</td>\n",
       "    </tr>\n",
       "    <tr>\n",
       "      <th>4</th>\n",
       "      <td>C-1036</td>\n",
       "      <td>기혼</td>\n",
       "      <td>95000000</td>\n",
       "    </tr>\n",
       "    <tr>\n",
       "      <th>...</th>\n",
       "      <td>...</td>\n",
       "      <td>...</td>\n",
       "      <td>...</td>\n",
       "    </tr>\n",
       "    <tr>\n",
       "      <th>395</th>\n",
       "      <td>C-2972</td>\n",
       "      <td>기혼</td>\n",
       "      <td>54170000</td>\n",
       "    </tr>\n",
       "    <tr>\n",
       "      <th>396</th>\n",
       "      <td>C-2984</td>\n",
       "      <td>기혼</td>\n",
       "      <td>2110000</td>\n",
       "    </tr>\n",
       "    <tr>\n",
       "      <th>397</th>\n",
       "      <td>C-2987</td>\n",
       "      <td>기혼</td>\n",
       "      <td>19230000</td>\n",
       "    </tr>\n",
       "    <tr>\n",
       "      <th>398</th>\n",
       "      <td>C-2992</td>\n",
       "      <td>기혼</td>\n",
       "      <td>9600000</td>\n",
       "    </tr>\n",
       "    <tr>\n",
       "      <th>399</th>\n",
       "      <td>C-2994</td>\n",
       "      <td>기혼</td>\n",
       "      <td>500000</td>\n",
       "    </tr>\n",
       "  </tbody>\n",
       "</table>\n",
       "<p>400 rows × 3 columns</p>\n",
       "</div>"
      ],
      "text/plain": [
       "    chaju_id marriage   over_amt\n",
       "0     C-1001       미혼    5700000\n",
       "1     C-1019       기혼  292900000\n",
       "2     C-1029       기혼     880000\n",
       "3     C-1030       기혼    8000000\n",
       "4     C-1036       기혼   95000000\n",
       "..       ...      ...        ...\n",
       "395   C-2972       기혼   54170000\n",
       "396   C-2984       기혼    2110000\n",
       "397   C-2987       기혼   19230000\n",
       "398   C-2992       기혼    9600000\n",
       "399   C-2994       기혼     500000\n",
       "\n",
       "[400 rows x 3 columns]"
      ]
     },
     "execution_count": 27,
     "metadata": {},
     "output_type": "execute_result"
    }
   ],
   "source": [
    "df_marriage_over_amt = pd.merge(df_marriage, df_total_over_amt, on='chaju_id', how='inner')\n",
    "df_marriage_over_amt"
   ]
  },
  {
   "cell_type": "code",
   "execution_count": 28,
   "metadata": {
    "ExecuteTime": {
     "end_time": "2021-11-14T12:56:42.389802Z",
     "start_time": "2021-11-14T12:56:42.376270Z"
    }
   },
   "outputs": [
    {
     "data": {
      "text/html": [
       "<div>\n",
       "<style scoped>\n",
       "    .dataframe tbody tr th:only-of-type {\n",
       "        vertical-align: middle;\n",
       "    }\n",
       "\n",
       "    .dataframe tbody tr th {\n",
       "        vertical-align: top;\n",
       "    }\n",
       "\n",
       "    .dataframe thead th {\n",
       "        text-align: right;\n",
       "    }\n",
       "</style>\n",
       "<table border=\"1\" class=\"dataframe\">\n",
       "  <thead>\n",
       "    <tr style=\"text-align: right;\">\n",
       "      <th></th>\n",
       "      <th>marriage</th>\n",
       "      <th>over_amt</th>\n",
       "    </tr>\n",
       "  </thead>\n",
       "  <tbody>\n",
       "    <tr>\n",
       "      <th>0</th>\n",
       "      <td>기타(이혼/별거/사별)</td>\n",
       "      <td>68551176.5</td>\n",
       "    </tr>\n",
       "    <tr>\n",
       "      <th>1</th>\n",
       "      <td>기혼</td>\n",
       "      <td>38083815.8</td>\n",
       "    </tr>\n",
       "    <tr>\n",
       "      <th>2</th>\n",
       "      <td>미혼</td>\n",
       "      <td>24953164.6</td>\n",
       "    </tr>\n",
       "  </tbody>\n",
       "</table>\n",
       "</div>"
      ],
      "text/plain": [
       "       marriage   over_amt\n",
       "0  기타(이혼/별거/사별) 68551176.5\n",
       "1            기혼 38083815.8\n",
       "2            미혼 24953164.6"
      ]
     },
     "execution_count": 28,
     "metadata": {},
     "output_type": "execute_result"
    }
   ],
   "source": [
    "df_marriage_over_amt_mean = df_marriage_over_amt.groupby(['marriage'],as_index=False)[['over_amt']].mean()\n",
    "df_marriage_over_amt_mean"
   ]
  },
  {
   "cell_type": "code",
   "execution_count": 57,
   "metadata": {
    "ExecuteTime": {
     "end_time": "2021-11-14T14:09:14.214945Z",
     "start_time": "2021-11-14T14:09:14.102556Z"
    }
   },
   "outputs": [
    {
     "data": {
      "image/png": "[encoded data removed]",
      "text/plain": [
       "<Figure size 432x288 with 1 Axes>"
      ]
     },
     "metadata": {},
     "output_type": "display_data"
    }
   ],
   "source": [
    "labels = ['기타(이혼/별거/사별)','기혼','미혼']\n",
    "ratio = ['68551176.5','38083815.8','24953164.6']\n",
    "plt.pie(ratio, labels=labels, autopct='%1.1f%%')\n",
    "plt.show()"
   ]
  },
  {
   "cell_type": "markdown",
   "metadata": {},
   "source": [
    "# 자녀유무별 연체율"
   ]
  },
  {
   "cell_type": "code",
   "execution_count": 29,
   "metadata": {
    "ExecuteTime": {
     "end_time": "2021-11-14T12:56:42.410535Z",
     "start_time": "2021-11-14T12:56:42.392897Z"
    }
   },
   "outputs": [
    {
     "data": {
      "text/html": [
       "<div>\n",
       "<style scoped>\n",
       "    .dataframe tbody tr th:only-of-type {\n",
       "        vertical-align: middle;\n",
       "    }\n",
       "\n",
       "    .dataframe tbody tr th {\n",
       "        vertical-align: top;\n",
       "    }\n",
       "\n",
       "    .dataframe thead th {\n",
       "        text-align: right;\n",
       "    }\n",
       "</style>\n",
       "<table border=\"1\" class=\"dataframe\">\n",
       "  <thead>\n",
       "    <tr style=\"text-align: right;\">\n",
       "      <th></th>\n",
       "      <th>chaju_id</th>\n",
       "      <th>child_cd</th>\n",
       "    </tr>\n",
       "  </thead>\n",
       "  <tbody>\n",
       "    <tr>\n",
       "      <th>0</th>\n",
       "      <td>C-1001</td>\n",
       "      <td>Y</td>\n",
       "    </tr>\n",
       "    <tr>\n",
       "      <th>1</th>\n",
       "      <td>C-1002</td>\n",
       "      <td>N</td>\n",
       "    </tr>\n",
       "    <tr>\n",
       "      <th>2</th>\n",
       "      <td>C-1003</td>\n",
       "      <td>N</td>\n",
       "    </tr>\n",
       "    <tr>\n",
       "      <th>3</th>\n",
       "      <td>C-1004</td>\n",
       "      <td>Y</td>\n",
       "    </tr>\n",
       "    <tr>\n",
       "      <th>4</th>\n",
       "      <td>C-1005</td>\n",
       "      <td>N</td>\n",
       "    </tr>\n",
       "    <tr>\n",
       "      <th>...</th>\n",
       "      <td>...</td>\n",
       "      <td>...</td>\n",
       "    </tr>\n",
       "    <tr>\n",
       "      <th>1979</th>\n",
       "      <td>C-2996</td>\n",
       "      <td>Y</td>\n",
       "    </tr>\n",
       "    <tr>\n",
       "      <th>1980</th>\n",
       "      <td>C-2997</td>\n",
       "      <td>N</td>\n",
       "    </tr>\n",
       "    <tr>\n",
       "      <th>1981</th>\n",
       "      <td>C-2998</td>\n",
       "      <td>N</td>\n",
       "    </tr>\n",
       "    <tr>\n",
       "      <th>1982</th>\n",
       "      <td>C-2999</td>\n",
       "      <td>N</td>\n",
       "    </tr>\n",
       "    <tr>\n",
       "      <th>1983</th>\n",
       "      <td>C-3000</td>\n",
       "      <td>N</td>\n",
       "    </tr>\n",
       "  </tbody>\n",
       "</table>\n",
       "<p>1984 rows × 2 columns</p>\n",
       "</div>"
      ],
      "text/plain": [
       "     chaju_id child_cd\n",
       "0      C-1001        Y\n",
       "1      C-1002        N\n",
       "2      C-1003        N\n",
       "3      C-1004        Y\n",
       "4      C-1005        N\n",
       "...       ...      ...\n",
       "1979   C-2996        Y\n",
       "1980   C-2997        N\n",
       "1981   C-2998        N\n",
       "1982   C-2999        N\n",
       "1983   C-3000        N\n",
       "\n",
       "[1984 rows x 2 columns]"
      ]
     },
     "execution_count": 29,
     "metadata": {},
     "output_type": "execute_result"
    }
   ],
   "source": [
    "df_child_cd = df_chaju[['chaju_id','child_cd']]\n",
    "df_child_cd"
   ]
  },
  {
   "cell_type": "code",
   "execution_count": 30,
   "metadata": {
    "ExecuteTime": {
     "end_time": "2021-11-14T12:56:42.425434Z",
     "start_time": "2021-11-14T12:56:42.412252Z"
    }
   },
   "outputs": [
    {
     "data": {
      "text/html": [
       "<div>\n",
       "<style scoped>\n",
       "    .dataframe tbody tr th:only-of-type {\n",
       "        vertical-align: middle;\n",
       "    }\n",
       "\n",
       "    .dataframe tbody tr th {\n",
       "        vertical-align: top;\n",
       "    }\n",
       "\n",
       "    .dataframe thead th {\n",
       "        text-align: right;\n",
       "    }\n",
       "</style>\n",
       "<table border=\"1\" class=\"dataframe\">\n",
       "  <thead>\n",
       "    <tr style=\"text-align: right;\">\n",
       "      <th></th>\n",
       "      <th>chaju_id</th>\n",
       "      <th>child_cd</th>\n",
       "      <th>over_amt</th>\n",
       "    </tr>\n",
       "  </thead>\n",
       "  <tbody>\n",
       "    <tr>\n",
       "      <th>0</th>\n",
       "      <td>C-1001</td>\n",
       "      <td>Y</td>\n",
       "      <td>5700000</td>\n",
       "    </tr>\n",
       "    <tr>\n",
       "      <th>1</th>\n",
       "      <td>C-1019</td>\n",
       "      <td>N</td>\n",
       "      <td>292900000</td>\n",
       "    </tr>\n",
       "    <tr>\n",
       "      <th>2</th>\n",
       "      <td>C-1029</td>\n",
       "      <td>N</td>\n",
       "      <td>880000</td>\n",
       "    </tr>\n",
       "    <tr>\n",
       "      <th>3</th>\n",
       "      <td>C-1030</td>\n",
       "      <td>N</td>\n",
       "      <td>8000000</td>\n",
       "    </tr>\n",
       "    <tr>\n",
       "      <th>4</th>\n",
       "      <td>C-1036</td>\n",
       "      <td>N</td>\n",
       "      <td>95000000</td>\n",
       "    </tr>\n",
       "    <tr>\n",
       "      <th>...</th>\n",
       "      <td>...</td>\n",
       "      <td>...</td>\n",
       "      <td>...</td>\n",
       "    </tr>\n",
       "    <tr>\n",
       "      <th>395</th>\n",
       "      <td>C-2972</td>\n",
       "      <td>N</td>\n",
       "      <td>54170000</td>\n",
       "    </tr>\n",
       "    <tr>\n",
       "      <th>396</th>\n",
       "      <td>C-2984</td>\n",
       "      <td>N</td>\n",
       "      <td>2110000</td>\n",
       "    </tr>\n",
       "    <tr>\n",
       "      <th>397</th>\n",
       "      <td>C-2987</td>\n",
       "      <td>N</td>\n",
       "      <td>19230000</td>\n",
       "    </tr>\n",
       "    <tr>\n",
       "      <th>398</th>\n",
       "      <td>C-2992</td>\n",
       "      <td>Y</td>\n",
       "      <td>9600000</td>\n",
       "    </tr>\n",
       "    <tr>\n",
       "      <th>399</th>\n",
       "      <td>C-2994</td>\n",
       "      <td>N</td>\n",
       "      <td>500000</td>\n",
       "    </tr>\n",
       "  </tbody>\n",
       "</table>\n",
       "<p>400 rows × 3 columns</p>\n",
       "</div>"
      ],
      "text/plain": [
       "    chaju_id child_cd   over_amt\n",
       "0     C-1001        Y    5700000\n",
       "1     C-1019        N  292900000\n",
       "2     C-1029        N     880000\n",
       "3     C-1030        N    8000000\n",
       "4     C-1036        N   95000000\n",
       "..       ...      ...        ...\n",
       "395   C-2972        N   54170000\n",
       "396   C-2984        N    2110000\n",
       "397   C-2987        N   19230000\n",
       "398   C-2992        Y    9600000\n",
       "399   C-2994        N     500000\n",
       "\n",
       "[400 rows x 3 columns]"
      ]
     },
     "execution_count": 30,
     "metadata": {},
     "output_type": "execute_result"
    }
   ],
   "source": [
    "df_child_cd_over_amt = pd.merge(df_child_cd, df_total_over_amt, on='chaju_id', how='inner')\n",
    "df_child_cd_over_amt"
   ]
  },
  {
   "cell_type": "code",
   "execution_count": 31,
   "metadata": {
    "ExecuteTime": {
     "end_time": "2021-11-14T12:56:42.439253Z",
     "start_time": "2021-11-14T12:56:42.427153Z"
    }
   },
   "outputs": [
    {
     "data": {
      "text/html": [
       "<div>\n",
       "<style scoped>\n",
       "    .dataframe tbody tr th:only-of-type {\n",
       "        vertical-align: middle;\n",
       "    }\n",
       "\n",
       "    .dataframe tbody tr th {\n",
       "        vertical-align: top;\n",
       "    }\n",
       "\n",
       "    .dataframe thead th {\n",
       "        text-align: right;\n",
       "    }\n",
       "</style>\n",
       "<table border=\"1\" class=\"dataframe\">\n",
       "  <thead>\n",
       "    <tr style=\"text-align: right;\">\n",
       "      <th></th>\n",
       "      <th>child_cd</th>\n",
       "      <th>over_amt</th>\n",
       "    </tr>\n",
       "  </thead>\n",
       "  <tbody>\n",
       "    <tr>\n",
       "      <th>0</th>\n",
       "      <td>N</td>\n",
       "      <td>40938741.7</td>\n",
       "    </tr>\n",
       "    <tr>\n",
       "      <th>1</th>\n",
       "      <td>Y</td>\n",
       "      <td>23986224.5</td>\n",
       "    </tr>\n",
       "  </tbody>\n",
       "</table>\n",
       "</div>"
      ],
      "text/plain": [
       "  child_cd   over_amt\n",
       "0        N 40938741.7\n",
       "1        Y 23986224.5"
      ]
     },
     "execution_count": 31,
     "metadata": {},
     "output_type": "execute_result"
    }
   ],
   "source": [
    "df_child_cd_over_amt_mean = df_child_cd_over_amt.groupby(['child_cd'],as_index=False)[['over_amt']].mean()\n",
    "df_child_cd_over_amt_mean"
   ]
  },
  {
   "cell_type": "code",
   "execution_count": 59,
   "metadata": {
    "ExecuteTime": {
     "end_time": "2021-11-14T14:09:56.976612Z",
     "start_time": "2021-11-14T14:09:56.887773Z"
    }
   },
   "outputs": [
    {
     "data": {
      "image/png": "[encoded data removed]",
      "text/plain": [
       "<Figure size 432x288 with 1 Axes>"
      ]
     },
     "metadata": {},
     "output_type": "display_data"
    }
   ],
   "source": [
    "labels = ['N','Y']\n",
    "ratio = ['40938741.7','23986224.5']\n",
    "plt.pie(ratio, labels=labels, autopct='%1.1f%%')\n",
    "plt.show()"
   ]
  },
  {
   "cell_type": "markdown",
   "metadata": {},
   "source": [
    "# 자녀 수 별 연체율"
   ]
  },
  {
   "cell_type": "code",
   "execution_count": 32,
   "metadata": {
    "ExecuteTime": {
     "end_time": "2021-11-14T12:56:42.453385Z",
     "start_time": "2021-11-14T12:56:42.441097Z"
    }
   },
   "outputs": [
    {
     "data": {
      "text/html": [
       "<div>\n",
       "<style scoped>\n",
       "    .dataframe tbody tr th:only-of-type {\n",
       "        vertical-align: middle;\n",
       "    }\n",
       "\n",
       "    .dataframe tbody tr th {\n",
       "        vertical-align: top;\n",
       "    }\n",
       "\n",
       "    .dataframe thead th {\n",
       "        text-align: right;\n",
       "    }\n",
       "</style>\n",
       "<table border=\"1\" class=\"dataframe\">\n",
       "  <thead>\n",
       "    <tr style=\"text-align: right;\">\n",
       "      <th></th>\n",
       "      <th>chaju_id</th>\n",
       "      <th>no_child</th>\n",
       "    </tr>\n",
       "  </thead>\n",
       "  <tbody>\n",
       "    <tr>\n",
       "      <th>0</th>\n",
       "      <td>C-1001</td>\n",
       "      <td>0</td>\n",
       "    </tr>\n",
       "    <tr>\n",
       "      <th>1</th>\n",
       "      <td>C-1002</td>\n",
       "      <td>3</td>\n",
       "    </tr>\n",
       "    <tr>\n",
       "      <th>2</th>\n",
       "      <td>C-1003</td>\n",
       "      <td>2</td>\n",
       "    </tr>\n",
       "    <tr>\n",
       "      <th>3</th>\n",
       "      <td>C-1004</td>\n",
       "      <td>0</td>\n",
       "    </tr>\n",
       "    <tr>\n",
       "      <th>4</th>\n",
       "      <td>C-1005</td>\n",
       "      <td>2</td>\n",
       "    </tr>\n",
       "    <tr>\n",
       "      <th>...</th>\n",
       "      <td>...</td>\n",
       "      <td>...</td>\n",
       "    </tr>\n",
       "    <tr>\n",
       "      <th>1979</th>\n",
       "      <td>C-2996</td>\n",
       "      <td>0</td>\n",
       "    </tr>\n",
       "    <tr>\n",
       "      <th>1980</th>\n",
       "      <td>C-2997</td>\n",
       "      <td>2</td>\n",
       "    </tr>\n",
       "    <tr>\n",
       "      <th>1981</th>\n",
       "      <td>C-2998</td>\n",
       "      <td>2</td>\n",
       "    </tr>\n",
       "    <tr>\n",
       "      <th>1982</th>\n",
       "      <td>C-2999</td>\n",
       "      <td>2</td>\n",
       "    </tr>\n",
       "    <tr>\n",
       "      <th>1983</th>\n",
       "      <td>C-3000</td>\n",
       "      <td>1</td>\n",
       "    </tr>\n",
       "  </tbody>\n",
       "</table>\n",
       "<p>1984 rows × 2 columns</p>\n",
       "</div>"
      ],
      "text/plain": [
       "     chaju_id  no_child\n",
       "0      C-1001         0\n",
       "1      C-1002         3\n",
       "2      C-1003         2\n",
       "3      C-1004         0\n",
       "4      C-1005         2\n",
       "...       ...       ...\n",
       "1979   C-2996         0\n",
       "1980   C-2997         2\n",
       "1981   C-2998         2\n",
       "1982   C-2999         2\n",
       "1983   C-3000         1\n",
       "\n",
       "[1984 rows x 2 columns]"
      ]
     },
     "execution_count": 32,
     "metadata": {},
     "output_type": "execute_result"
    }
   ],
   "source": [
    "df_no_child = df_chaju[['chaju_id','no_child']]\n",
    "df_no_child"
   ]
  },
  {
   "cell_type": "code",
   "execution_count": 33,
   "metadata": {
    "ExecuteTime": {
     "end_time": "2021-11-14T12:56:42.481274Z",
     "start_time": "2021-11-14T12:56:42.454845Z"
    }
   },
   "outputs": [
    {
     "data": {
      "text/html": [
       "<div>\n",
       "<style scoped>\n",
       "    .dataframe tbody tr th:only-of-type {\n",
       "        vertical-align: middle;\n",
       "    }\n",
       "\n",
       "    .dataframe tbody tr th {\n",
       "        vertical-align: top;\n",
       "    }\n",
       "\n",
       "    .dataframe thead th {\n",
       "        text-align: right;\n",
       "    }\n",
       "</style>\n",
       "<table border=\"1\" class=\"dataframe\">\n",
       "  <thead>\n",
       "    <tr style=\"text-align: right;\">\n",
       "      <th></th>\n",
       "      <th>chaju_id</th>\n",
       "      <th>no_child</th>\n",
       "      <th>over_amt</th>\n",
       "    </tr>\n",
       "  </thead>\n",
       "  <tbody>\n",
       "    <tr>\n",
       "      <th>0</th>\n",
       "      <td>C-1001</td>\n",
       "      <td>0</td>\n",
       "      <td>5700000</td>\n",
       "    </tr>\n",
       "    <tr>\n",
       "      <th>1</th>\n",
       "      <td>C-1019</td>\n",
       "      <td>2</td>\n",
       "      <td>292900000</td>\n",
       "    </tr>\n",
       "    <tr>\n",
       "      <th>2</th>\n",
       "      <td>C-1029</td>\n",
       "      <td>2</td>\n",
       "      <td>880000</td>\n",
       "    </tr>\n",
       "    <tr>\n",
       "      <th>3</th>\n",
       "      <td>C-1030</td>\n",
       "      <td>1</td>\n",
       "      <td>8000000</td>\n",
       "    </tr>\n",
       "    <tr>\n",
       "      <th>4</th>\n",
       "      <td>C-1036</td>\n",
       "      <td>2</td>\n",
       "      <td>95000000</td>\n",
       "    </tr>\n",
       "    <tr>\n",
       "      <th>...</th>\n",
       "      <td>...</td>\n",
       "      <td>...</td>\n",
       "      <td>...</td>\n",
       "    </tr>\n",
       "    <tr>\n",
       "      <th>395</th>\n",
       "      <td>C-2972</td>\n",
       "      <td>2</td>\n",
       "      <td>54170000</td>\n",
       "    </tr>\n",
       "    <tr>\n",
       "      <th>396</th>\n",
       "      <td>C-2984</td>\n",
       "      <td>2</td>\n",
       "      <td>2110000</td>\n",
       "    </tr>\n",
       "    <tr>\n",
       "      <th>397</th>\n",
       "      <td>C-2987</td>\n",
       "      <td>2</td>\n",
       "      <td>19230000</td>\n",
       "    </tr>\n",
       "    <tr>\n",
       "      <th>398</th>\n",
       "      <td>C-2992</td>\n",
       "      <td>0</td>\n",
       "      <td>9600000</td>\n",
       "    </tr>\n",
       "    <tr>\n",
       "      <th>399</th>\n",
       "      <td>C-2994</td>\n",
       "      <td>2</td>\n",
       "      <td>500000</td>\n",
       "    </tr>\n",
       "  </tbody>\n",
       "</table>\n",
       "<p>400 rows × 3 columns</p>\n",
       "</div>"
      ],
      "text/plain": [
       "    chaju_id  no_child   over_amt\n",
       "0     C-1001         0    5700000\n",
       "1     C-1019         2  292900000\n",
       "2     C-1029         2     880000\n",
       "3     C-1030         1    8000000\n",
       "4     C-1036         2   95000000\n",
       "..       ...       ...        ...\n",
       "395   C-2972         2   54170000\n",
       "396   C-2984         2    2110000\n",
       "397   C-2987         2   19230000\n",
       "398   C-2992         0    9600000\n",
       "399   C-2994         2     500000\n",
       "\n",
       "[400 rows x 3 columns]"
      ]
     },
     "execution_count": 33,
     "metadata": {},
     "output_type": "execute_result"
    }
   ],
   "source": [
    "df_no_child_over_amt = pd.merge(df_no_child, df_total_over_amt, on='chaju_id', how='inner')\n",
    "df_no_child_over_amt"
   ]
  },
  {
   "cell_type": "code",
   "execution_count": 34,
   "metadata": {
    "ExecuteTime": {
     "end_time": "2021-11-14T12:56:42.497415Z",
     "start_time": "2021-11-14T12:56:42.483301Z"
    }
   },
   "outputs": [
    {
     "data": {
      "text/html": [
       "<div>\n",
       "<style scoped>\n",
       "    .dataframe tbody tr th:only-of-type {\n",
       "        vertical-align: middle;\n",
       "    }\n",
       "\n",
       "    .dataframe tbody tr th {\n",
       "        vertical-align: top;\n",
       "    }\n",
       "\n",
       "    .dataframe thead th {\n",
       "        text-align: right;\n",
       "    }\n",
       "</style>\n",
       "<table border=\"1\" class=\"dataframe\">\n",
       "  <thead>\n",
       "    <tr style=\"text-align: right;\">\n",
       "      <th></th>\n",
       "      <th>no_child</th>\n",
       "      <th>over_amt</th>\n",
       "    </tr>\n",
       "  </thead>\n",
       "  <tbody>\n",
       "    <tr>\n",
       "      <th>0</th>\n",
       "      <td>0</td>\n",
       "      <td>23986224.5</td>\n",
       "    </tr>\n",
       "    <tr>\n",
       "      <th>1</th>\n",
       "      <td>1</td>\n",
       "      <td>34186981.1</td>\n",
       "    </tr>\n",
       "    <tr>\n",
       "      <th>2</th>\n",
       "      <td>2</td>\n",
       "      <td>42754955.8</td>\n",
       "    </tr>\n",
       "    <tr>\n",
       "      <th>3</th>\n",
       "      <td>3</td>\n",
       "      <td>38650869.6</td>\n",
       "    </tr>\n",
       "  </tbody>\n",
       "</table>\n",
       "</div>"
      ],
      "text/plain": [
       "   no_child   over_amt\n",
       "0         0 23986224.5\n",
       "1         1 34186981.1\n",
       "2         2 42754955.8\n",
       "3         3 38650869.6"
      ]
     },
     "execution_count": 34,
     "metadata": {},
     "output_type": "execute_result"
    }
   ],
   "source": [
    "df_no_child_over_amt_mean = df_no_child_over_amt.groupby(['no_child'],as_index=False)[['over_amt']].mean()\n",
    "df_no_child_over_amt_mean"
   ]
  },
  {
   "cell_type": "code",
   "execution_count": 60,
   "metadata": {
    "ExecuteTime": {
     "end_time": "2021-11-14T14:11:01.911410Z",
     "start_time": "2021-11-14T14:11:01.800273Z"
    }
   },
   "outputs": [
    {
     "data": {
      "image/png": "[encoded data removed]",
      "text/plain": [
       "<Figure size 432x288 with 1 Axes>"
      ]
     },
     "metadata": {},
     "output_type": "display_data"
    }
   ],
   "source": [
    "labels = ['0명','1명','2명','3명']\n",
    "ratio = ['23986224.5','34186981.1','42754955.8','38650869.6']\n",
    "plt.pie(ratio, labels=labels, autopct='%1.1f%%')\n",
    "plt.show()"
   ]
  },
  {
   "cell_type": "markdown",
   "metadata": {},
   "source": [
    "# 개인사업자 여부별 연체율"
   ]
  },
  {
   "cell_type": "code",
   "execution_count": 35,
   "metadata": {
    "ExecuteTime": {
     "end_time": "2021-11-14T12:56:42.515136Z",
     "start_time": "2021-11-14T12:56:42.499389Z"
    }
   },
   "outputs": [
    {
     "data": {
      "text/html": [
       "<div>\n",
       "<style scoped>\n",
       "    .dataframe tbody tr th:only-of-type {\n",
       "        vertical-align: middle;\n",
       "    }\n",
       "\n",
       "    .dataframe tbody tr th {\n",
       "        vertical-align: top;\n",
       "    }\n",
       "\n",
       "    .dataframe thead th {\n",
       "        text-align: right;\n",
       "    }\n",
       "</style>\n",
       "<table border=\"1\" class=\"dataframe\">\n",
       "  <thead>\n",
       "    <tr style=\"text-align: right;\">\n",
       "      <th></th>\n",
       "      <th>chaju_id</th>\n",
       "      <th>flag_priv_biz_cd</th>\n",
       "    </tr>\n",
       "  </thead>\n",
       "  <tbody>\n",
       "    <tr>\n",
       "      <th>0</th>\n",
       "      <td>C-1001</td>\n",
       "      <td>N</td>\n",
       "    </tr>\n",
       "    <tr>\n",
       "      <th>1</th>\n",
       "      <td>C-1002</td>\n",
       "      <td>Y</td>\n",
       "    </tr>\n",
       "    <tr>\n",
       "      <th>2</th>\n",
       "      <td>C-1003</td>\n",
       "      <td>N</td>\n",
       "    </tr>\n",
       "    <tr>\n",
       "      <th>3</th>\n",
       "      <td>C-1004</td>\n",
       "      <td>N</td>\n",
       "    </tr>\n",
       "    <tr>\n",
       "      <th>4</th>\n",
       "      <td>C-1005</td>\n",
       "      <td>N</td>\n",
       "    </tr>\n",
       "    <tr>\n",
       "      <th>...</th>\n",
       "      <td>...</td>\n",
       "      <td>...</td>\n",
       "    </tr>\n",
       "    <tr>\n",
       "      <th>1979</th>\n",
       "      <td>C-2996</td>\n",
       "      <td>N</td>\n",
       "    </tr>\n",
       "    <tr>\n",
       "      <th>1980</th>\n",
       "      <td>C-2997</td>\n",
       "      <td>N</td>\n",
       "    </tr>\n",
       "    <tr>\n",
       "      <th>1981</th>\n",
       "      <td>C-2998</td>\n",
       "      <td>N</td>\n",
       "    </tr>\n",
       "    <tr>\n",
       "      <th>1982</th>\n",
       "      <td>C-2999</td>\n",
       "      <td>N</td>\n",
       "    </tr>\n",
       "    <tr>\n",
       "      <th>1983</th>\n",
       "      <td>C-3000</td>\n",
       "      <td>N</td>\n",
       "    </tr>\n",
       "  </tbody>\n",
       "</table>\n",
       "<p>1984 rows × 2 columns</p>\n",
       "</div>"
      ],
      "text/plain": [
       "     chaju_id flag_priv_biz_cd\n",
       "0      C-1001                N\n",
       "1      C-1002                Y\n",
       "2      C-1003                N\n",
       "3      C-1004                N\n",
       "4      C-1005                N\n",
       "...       ...              ...\n",
       "1979   C-2996                N\n",
       "1980   C-2997                N\n",
       "1981   C-2998                N\n",
       "1982   C-2999                N\n",
       "1983   C-3000                N\n",
       "\n",
       "[1984 rows x 2 columns]"
      ]
     },
     "execution_count": 35,
     "metadata": {},
     "output_type": "execute_result"
    }
   ],
   "source": [
    "df_flag_priv_biz_cd = df_chaju[['chaju_id','flag_priv_biz_cd']]\n",
    "df_flag_priv_biz_cd "
   ]
  },
  {
   "cell_type": "code",
   "execution_count": 41,
   "metadata": {
    "ExecuteTime": {
     "end_time": "2021-11-14T13:38:10.909333Z",
     "start_time": "2021-11-14T13:38:10.878076Z"
    }
   },
   "outputs": [
    {
     "data": {
      "text/html": [
       "<div>\n",
       "<style scoped>\n",
       "    .dataframe tbody tr th:only-of-type {\n",
       "        vertical-align: middle;\n",
       "    }\n",
       "\n",
       "    .dataframe tbody tr th {\n",
       "        vertical-align: top;\n",
       "    }\n",
       "\n",
       "    .dataframe thead th {\n",
       "        text-align: right;\n",
       "    }\n",
       "</style>\n",
       "<table border=\"1\" class=\"dataframe\">\n",
       "  <thead>\n",
       "    <tr style=\"text-align: right;\">\n",
       "      <th></th>\n",
       "      <th>chaju_id</th>\n",
       "      <th>flag_priv_biz_cd</th>\n",
       "      <th>over_amt</th>\n",
       "    </tr>\n",
       "  </thead>\n",
       "  <tbody>\n",
       "    <tr>\n",
       "      <th>0</th>\n",
       "      <td>C-1001</td>\n",
       "      <td>N</td>\n",
       "      <td>5700000</td>\n",
       "    </tr>\n",
       "    <tr>\n",
       "      <th>1</th>\n",
       "      <td>C-1019</td>\n",
       "      <td>N</td>\n",
       "      <td>292900000</td>\n",
       "    </tr>\n",
       "    <tr>\n",
       "      <th>2</th>\n",
       "      <td>C-1029</td>\n",
       "      <td>N</td>\n",
       "      <td>880000</td>\n",
       "    </tr>\n",
       "    <tr>\n",
       "      <th>3</th>\n",
       "      <td>C-1030</td>\n",
       "      <td>N</td>\n",
       "      <td>8000000</td>\n",
       "    </tr>\n",
       "    <tr>\n",
       "      <th>4</th>\n",
       "      <td>C-1036</td>\n",
       "      <td>N</td>\n",
       "      <td>95000000</td>\n",
       "    </tr>\n",
       "    <tr>\n",
       "      <th>...</th>\n",
       "      <td>...</td>\n",
       "      <td>...</td>\n",
       "      <td>...</td>\n",
       "    </tr>\n",
       "    <tr>\n",
       "      <th>395</th>\n",
       "      <td>C-2972</td>\n",
       "      <td>N</td>\n",
       "      <td>54170000</td>\n",
       "    </tr>\n",
       "    <tr>\n",
       "      <th>396</th>\n",
       "      <td>C-2984</td>\n",
       "      <td>N</td>\n",
       "      <td>2110000</td>\n",
       "    </tr>\n",
       "    <tr>\n",
       "      <th>397</th>\n",
       "      <td>C-2987</td>\n",
       "      <td>N</td>\n",
       "      <td>19230000</td>\n",
       "    </tr>\n",
       "    <tr>\n",
       "      <th>398</th>\n",
       "      <td>C-2992</td>\n",
       "      <td>N</td>\n",
       "      <td>9600000</td>\n",
       "    </tr>\n",
       "    <tr>\n",
       "      <th>399</th>\n",
       "      <td>C-2994</td>\n",
       "      <td>N</td>\n",
       "      <td>500000</td>\n",
       "    </tr>\n",
       "  </tbody>\n",
       "</table>\n",
       "<p>400 rows × 3 columns</p>\n",
       "</div>"
      ],
      "text/plain": [
       "    chaju_id flag_priv_biz_cd   over_amt\n",
       "0     C-1001                N    5700000\n",
       "1     C-1019                N  292900000\n",
       "2     C-1029                N     880000\n",
       "3     C-1030                N    8000000\n",
       "4     C-1036                N   95000000\n",
       "..       ...              ...        ...\n",
       "395   C-2972                N   54170000\n",
       "396   C-2984                N    2110000\n",
       "397   C-2987                N   19230000\n",
       "398   C-2992                N    9600000\n",
       "399   C-2994                N     500000\n",
       "\n",
       "[400 rows x 3 columns]"
      ]
     },
     "execution_count": 41,
     "metadata": {},
     "output_type": "execute_result"
    }
   ],
   "source": [
    "df_flag_priv_biz_cd_over_amt = pd.merge(df_flag_priv_biz_cd, df_total_over_amt, on='chaju_id', how='inner')\n",
    "df_flag_priv_biz_cd_over_amt"
   ]
  },
  {
   "cell_type": "code",
   "execution_count": 37,
   "metadata": {
    "ExecuteTime": {
     "end_time": "2021-11-14T12:56:42.564078Z",
     "start_time": "2021-11-14T12:56:42.550945Z"
    }
   },
   "outputs": [
    {
     "data": {
      "text/html": [
       "<div>\n",
       "<style scoped>\n",
       "    .dataframe tbody tr th:only-of-type {\n",
       "        vertical-align: middle;\n",
       "    }\n",
       "\n",
       "    .dataframe tbody tr th {\n",
       "        vertical-align: top;\n",
       "    }\n",
       "\n",
       "    .dataframe thead th {\n",
       "        text-align: right;\n",
       "    }\n",
       "</style>\n",
       "<table border=\"1\" class=\"dataframe\">\n",
       "  <thead>\n",
       "    <tr style=\"text-align: right;\">\n",
       "      <th></th>\n",
       "      <th>flag_priv_biz_cd</th>\n",
       "      <th>over_amt</th>\n",
       "    </tr>\n",
       "  </thead>\n",
       "  <tbody>\n",
       "    <tr>\n",
       "      <th>0</th>\n",
       "      <td>N</td>\n",
       "      <td>36746375.7</td>\n",
       "    </tr>\n",
       "    <tr>\n",
       "      <th>1</th>\n",
       "      <td>Y</td>\n",
       "      <td>37455454.5</td>\n",
       "    </tr>\n",
       "  </tbody>\n",
       "</table>\n",
       "</div>"
      ],
      "text/plain": [
       "  flag_priv_biz_cd   over_amt\n",
       "0                N 36746375.7\n",
       "1                Y 37455454.5"
      ]
     },
     "execution_count": 37,
     "metadata": {},
     "output_type": "execute_result"
    }
   ],
   "source": [
    "df_flag_priv_biz_cd_over_amt_mean = df_flag_priv_biz_cd_over_amt.groupby(['flag_priv_biz_cd'],as_index=False)[['over_amt']].mean()\n",
    "df_flag_priv_biz_cd_over_amt_mean"
   ]
  },
  {
   "cell_type": "code",
   "execution_count": 55,
   "metadata": {
    "ExecuteTime": {
     "end_time": "2021-11-14T14:07:10.001282Z",
     "start_time": "2021-11-14T14:07:09.830129Z"
    }
   },
   "outputs": [
    {
     "data": {
      "image/png": "[encoded data removed]",
      "text/plain": [
       "<Figure size 432x288 with 1 Axes>"
      ]
     },
     "metadata": {},
     "output_type": "display_data"
    }
   ],
   "source": [
    "labels = ['N','Y']\n",
    "ratio = ['36746375.7','37455454.5']\n",
    "plt.pie(ratio, labels=labels, autopct='%1.1f%%')\n",
    "plt.show()"
   ]
  },
  {
   "cell_type": "markdown",
   "metadata": {},
   "source": [
    "# 전체 데이터 비교"
   ]
  },
  {
   "cell_type": "markdown",
   "metadata": {},
   "source": [
    "## 각 데이터 분석"
   ]
  },
  {
   "cell_type": "markdown",
   "metadata": {},
   "source": [
    "### chaju"
   ]
  },
  {
   "cell_type": "code",
   "execution_count": 248,
   "metadata": {
    "ExecuteTime": {
     "end_time": "2021-11-15T02:28:53.424762Z",
     "start_time": "2021-11-15T02:28:53.416747Z"
    }
   },
   "outputs": [
    {
     "name": "stdout",
     "output_type": "stream",
     "text": [
      "1984\n"
     ]
    }
   ],
   "source": [
    "a = df_chaju['chaju_id']\n",
    "a = list(a)\n",
    "print(len(a))"
   ]
  },
  {
   "cell_type": "markdown",
   "metadata": {},
   "source": [
    "### card"
   ]
  },
  {
   "cell_type": "code",
   "execution_count": 262,
   "metadata": {
    "ExecuteTime": {
     "end_time": "2021-11-15T02:30:28.837346Z",
     "start_time": "2021-11-15T02:30:28.766430Z"
    },
    "scrolled": true
   },
   "outputs": [],
   "source": [
    "#카드\n",
    "df_card_drop_month=df_card.drop_duplicates(['chaju_id','sector','card_ym','com_id'],keep = 'first')\n",
    "df_card_drop_month\n",
    "df_card_count=df_card_drop_month.groupby([\"chaju_id\"]).count()[\"card_cd\"]\n",
    "df_card_count = pd.DataFrame(df_card_count)\n",
    "df_card_count = df_card_count.reset_index()\n",
    "b = df_card_count['chaju_id']\n",
    "b = list(b)"
   ]
  },
  {
   "cell_type": "markdown",
   "metadata": {},
   "source": [
    "### loan"
   ]
  },
  {
   "cell_type": "code",
   "execution_count": 263,
   "metadata": {
    "ExecuteTime": {
     "end_time": "2021-11-15T02:30:47.241263Z",
     "start_time": "2021-11-15T02:30:47.198337Z"
    }
   },
   "outputs": [],
   "source": [
    "#대출\n",
    "df_loan_drop_month=df_loan.drop_duplicates(['chaju_id','loan_amt','loan_ym','com_id'],keep = 'first')\n",
    "df_loan_drop_month\n",
    "grouped=df_loan_drop_month['loan_amt'].groupby(df_loan_drop_month['chaju_id'])\n",
    "df_total_loan_amt=pd.DataFrame(grouped.sum())\n",
    "df_total_loan_amt=df_total_loan_amt.reset_index()\n",
    "c = df_total_loan_amt['chaju_id']\n",
    "c = list(c)"
   ]
  },
  {
   "cell_type": "markdown",
   "metadata": {},
   "source": [
    "### overdue"
   ]
  },
  {
   "cell_type": "code",
   "execution_count": 251,
   "metadata": {
    "ExecuteTime": {
     "end_time": "2021-11-15T02:28:55.670223Z",
     "start_time": "2021-11-15T02:28:55.640652Z"
    }
   },
   "outputs": [],
   "source": [
    "#연체\n",
    "#df_raw4.duplicated(['loan_amt','loan_ym','com_id'],keep = 'first')\n",
    "df_overdue_drop_month=df_overdue.drop_duplicates(['chaju_id','over_amt','over_ym','com_id'],keep = 'first')\n",
    "df_overdue_drop_month\n",
    "grouped=df_overdue_drop_month['over_amt'].groupby(df_overdue_drop_month['chaju_id'])\n",
    "df_total_over_amt=pd.DataFrame(grouped.sum())\n",
    "df_total_over_amt =df_total_over_amt.reset_index()\n",
    "d = df_total_over_amt['chaju_id']\n",
    "d = list(d)"
   ]
  },
  {
   "cell_type": "markdown",
   "metadata": {},
   "source": [
    "### overdue&loan"
   ]
  },
  {
   "cell_type": "code",
   "execution_count": 252,
   "metadata": {
    "ExecuteTime": {
     "end_time": "2021-11-15T02:28:56.548854Z",
     "start_time": "2021-11-15T02:28:56.536840Z"
    },
    "scrolled": true
   },
   "outputs": [
    {
     "name": "stdout",
     "output_type": "stream",
     "text": [
      "299\n"
     ]
    }
   ],
   "source": [
    "#overdue & loan\n",
    "overdue_loan_inter = list(set(c) & set(d))\n",
    "print(len(overdue_loan_inter))"
   ]
  },
  {
   "cell_type": "markdown",
   "metadata": {},
   "source": [
    "### only overdue"
   ]
  },
  {
   "cell_type": "code",
   "execution_count": 264,
   "metadata": {
    "ExecuteTime": {
     "end_time": "2021-11-15T02:31:33.462362Z",
     "start_time": "2021-11-15T02:31:33.454486Z"
    }
   },
   "outputs": [
    {
     "name": "stdout",
     "output_type": "stream",
     "text": [
      "101\n"
     ]
    }
   ],
   "source": [
    "#overdue\n",
    "over_dif = list(set(d)-set(overdue_inter))\n",
    "print(len(over_dif))"
   ]
  },
  {
   "cell_type": "markdown",
   "metadata": {},
   "source": [
    "### only loan"
   ]
  },
  {
   "cell_type": "code",
   "execution_count": 254,
   "metadata": {
    "ExecuteTime": {
     "end_time": "2021-11-15T02:28:58.847983Z",
     "start_time": "2021-11-15T02:28:58.839692Z"
    }
   },
   "outputs": [
    {
     "name": "stdout",
     "output_type": "stream",
     "text": [
      "1029\n"
     ]
    }
   ],
   "source": [
    "#loan\n",
    "loan_dif = list(set(c)-set(overdue_loan_inter))\n",
    "print(len(loan_dif))"
   ]
  },
  {
   "cell_type": "markdown",
   "metadata": {},
   "source": [
    "### overdue+loan"
   ]
  },
  {
   "cell_type": "code",
   "execution_count": 255,
   "metadata": {
    "ExecuteTime": {
     "end_time": "2021-11-15T02:29:00.415793Z",
     "start_time": "2021-11-15T02:29:00.407217Z"
    },
    "scrolled": true
   },
   "outputs": [
    {
     "name": "stdout",
     "output_type": "stream",
     "text": [
      "1429\n"
     ]
    }
   ],
   "source": [
    "#overdue, loan\n",
    "over_loan = list(set(overdue_loan_inter) | set(over_dif) | set(loan_dif))\n",
    "print(len(over_loan))"
   ]
  },
  {
   "cell_type": "markdown",
   "metadata": {},
   "source": [
    "### only card"
   ]
  },
  {
   "cell_type": "code",
   "execution_count": 256,
   "metadata": {
    "ExecuteTime": {
     "end_time": "2021-11-15T02:29:02.583210Z",
     "start_time": "2021-11-15T02:29:02.574021Z"
    }
   },
   "outputs": [
    {
     "name": "stdout",
     "output_type": "stream",
     "text": [
      "555\n"
     ]
    }
   ],
   "source": [
    "#card\n",
    "card_dif = list(set(a)-set(over_loan))\n",
    "print(len(card_dif))"
   ]
  },
  {
   "cell_type": "code",
   "execution_count": 261,
   "metadata": {
    "ExecuteTime": {
     "end_time": "2021-11-15T02:29:50.774115Z",
     "start_time": "2021-11-15T02:29:50.765006Z"
    }
   },
   "outputs": [
    {
     "name": "stdout",
     "output_type": "stream",
     "text": [
      "493\n"
     ]
    }
   ],
   "source": [
    "card = list(set(b) & set(card_dif))\n",
    "print(len(card))"
   ]
  },
  {
   "cell_type": "markdown",
   "metadata": {},
   "source": [
    "### thin_filer"
   ]
  },
  {
   "cell_type": "code",
   "execution_count": 269,
   "metadata": {
    "ExecuteTime": {
     "end_time": "2021-11-15T02:34:46.312239Z",
     "start_time": "2021-11-15T02:34:46.304523Z"
    }
   },
   "outputs": [],
   "source": [
    "all = list(set(card) | set(loan_dif) | set(over_loan))"
   ]
  },
  {
   "cell_type": "code",
   "execution_count": 270,
   "metadata": {
    "ExecuteTime": {
     "end_time": "2021-11-15T02:34:47.013089Z",
     "start_time": "2021-11-15T02:34:47.004355Z"
    }
   },
   "outputs": [
    {
     "name": "stdout",
     "output_type": "stream",
     "text": [
      "62\n"
     ]
    }
   ],
   "source": [
    "thin_filer = list(set(a)-set(all))\n",
    "print(len(thin_filer))"
   ]
  },
  {
   "cell_type": "markdown",
   "metadata": {},
   "source": [
    "## pieplot"
   ]
  },
  {
   "cell_type": "code",
   "execution_count": 271,
   "metadata": {
    "ExecuteTime": {
     "end_time": "2021-11-15T02:39:09.202290Z",
     "start_time": "2021-11-15T02:39:09.091073Z"
    }
   },
   "outputs": [
    {
     "data": {
      "image/png": "[encoded data removed]",
      "text/plain": [
       "<Figure size 432x288 with 1 Axes>"
      ]
     },
     "metadata": {},
     "output_type": "display_data"
    }
   ],
   "source": [
    "labels = ['thin_filer','card','loan','overdue','overdue&loan']\n",
    "ratio = ['62','493','1029','101','299']\n",
    "plt.pie(ratio, labels=labels, autopct='%1.1f%%')\n",
    "plt.show()"
   ]
  },
  {
   "cell_type": "markdown",
   "metadata": {},
   "source": [
    "# 빅데이터"
   ]
  },
  {
   "cell_type": "code",
   "execution_count": 71,
   "metadata": {
    "ExecuteTime": {
     "end_time": "2021-11-14T16:44:01.926422Z",
     "start_time": "2021-11-14T16:44:01.908221Z"
    }
   },
   "outputs": [],
   "source": [
    "# 중복값 제거\n",
    "#df_raw4.duplicated(['loan_amt','loan_ym','com_id'],keep = 'first')\n",
    "df_overdue_drop_month=df_overdue.drop_duplicates(['chaju_id','over_amt','over_ym','com_id'],keep = 'first')"
   ]
  },
  {
   "cell_type": "code",
   "execution_count": null,
   "metadata": {},
   "outputs": [],
   "source": [
    "연체자-중복제거"
   ]
  },
  {
   "cell_type": "code",
   "execution_count": 131,
   "metadata": {
    "ExecuteTime": {
     "end_time": "2021-11-14T17:35:47.707122Z",
     "start_time": "2021-11-14T17:35:47.674686Z"
    },
    "scrolled": true
   },
   "outputs": [
    {
     "data": {
      "text/html": [
       "<div>\n",
       "<style scoped>\n",
       "    .dataframe tbody tr th:only-of-type {\n",
       "        vertical-align: middle;\n",
       "    }\n",
       "\n",
       "    .dataframe tbody tr th {\n",
       "        vertical-align: top;\n",
       "    }\n",
       "\n",
       "    .dataframe thead th {\n",
       "        text-align: right;\n",
       "    }\n",
       "</style>\n",
       "<table border=\"1\" class=\"dataframe\">\n",
       "  <thead>\n",
       "    <tr style=\"text-align: right;\">\n",
       "      <th></th>\n",
       "      <th>chaju_id</th>\n",
       "      <th>over_amt</th>\n",
       "    </tr>\n",
       "  </thead>\n",
       "  <tbody>\n",
       "    <tr>\n",
       "      <th>0</th>\n",
       "      <td>C-1001</td>\n",
       "      <td>5700000</td>\n",
       "    </tr>\n",
       "    <tr>\n",
       "      <th>1</th>\n",
       "      <td>C-1019</td>\n",
       "      <td>292900000</td>\n",
       "    </tr>\n",
       "    <tr>\n",
       "      <th>2</th>\n",
       "      <td>C-1029</td>\n",
       "      <td>880000</td>\n",
       "    </tr>\n",
       "    <tr>\n",
       "      <th>3</th>\n",
       "      <td>C-1030</td>\n",
       "      <td>8000000</td>\n",
       "    </tr>\n",
       "    <tr>\n",
       "      <th>4</th>\n",
       "      <td>C-1036</td>\n",
       "      <td>95000000</td>\n",
       "    </tr>\n",
       "    <tr>\n",
       "      <th>...</th>\n",
       "      <td>...</td>\n",
       "      <td>...</td>\n",
       "    </tr>\n",
       "    <tr>\n",
       "      <th>395</th>\n",
       "      <td>C-2972</td>\n",
       "      <td>54170000</td>\n",
       "    </tr>\n",
       "    <tr>\n",
       "      <th>396</th>\n",
       "      <td>C-2984</td>\n",
       "      <td>2110000</td>\n",
       "    </tr>\n",
       "    <tr>\n",
       "      <th>397</th>\n",
       "      <td>C-2987</td>\n",
       "      <td>19230000</td>\n",
       "    </tr>\n",
       "    <tr>\n",
       "      <th>398</th>\n",
       "      <td>C-2992</td>\n",
       "      <td>9600000</td>\n",
       "    </tr>\n",
       "    <tr>\n",
       "      <th>399</th>\n",
       "      <td>C-2994</td>\n",
       "      <td>500000</td>\n",
       "    </tr>\n",
       "  </tbody>\n",
       "</table>\n",
       "<p>400 rows × 2 columns</p>\n",
       "</div>"
      ],
      "text/plain": [
       "    chaju_id   over_amt\n",
       "0     C-1001    5700000\n",
       "1     C-1019  292900000\n",
       "2     C-1029     880000\n",
       "3     C-1030    8000000\n",
       "4     C-1036   95000000\n",
       "..       ...        ...\n",
       "395   C-2972   54170000\n",
       "396   C-2984    2110000\n",
       "397   C-2987   19230000\n",
       "398   C-2992    9600000\n",
       "399   C-2994     500000\n",
       "\n",
       "[400 rows x 2 columns]"
      ]
     },
     "execution_count": 131,
     "metadata": {},
     "output_type": "execute_result"
    }
   ],
   "source": [
    "grouped=df_overdue_drop_month['over_amt'].groupby(df_overdue_drop_month['chaju_id'])\n",
    "df_total_over_amt=pd.DataFrame(grouped.sum())\n",
    "df_total_over_amt=df_total_over_amt.reset_index()\n",
    "df_total_over_amt"
   ]
  },
  {
   "cell_type": "code",
   "execution_count": 275,
   "metadata": {
    "ExecuteTime": {
     "end_time": "2021-11-15T02:43:03.289469Z",
     "start_time": "2021-11-15T02:43:03.268106Z"
    },
    "scrolled": true
   },
   "outputs": [],
   "source": [
    "a = set(df_loan[\"chaju_id\"])\n",
    "b = set(df_overdue['chaju_id'])\n",
    "df_only_overdue = b-a\n",
    "df_overdue_list = list(df_only_overdue)"
   ]
  },
  {
   "cell_type": "markdown",
   "metadata": {},
   "source": [
    "연체자만 추출"
   ]
  },
  {
   "cell_type": "code",
   "execution_count": 276,
   "metadata": {
    "ExecuteTime": {
     "end_time": "2021-11-15T02:43:05.239093Z",
     "start_time": "2021-11-15T02:43:05.202720Z"
    }
   },
   "outputs": [
    {
     "data": {
      "text/html": [
       "<div>\n",
       "<style scoped>\n",
       "    .dataframe tbody tr th:only-of-type {\n",
       "        vertical-align: middle;\n",
       "    }\n",
       "\n",
       "    .dataframe tbody tr th {\n",
       "        vertical-align: top;\n",
       "    }\n",
       "\n",
       "    .dataframe thead th {\n",
       "        text-align: right;\n",
       "    }\n",
       "</style>\n",
       "<table border=\"1\" class=\"dataframe\">\n",
       "  <thead>\n",
       "    <tr style=\"text-align: right;\">\n",
       "      <th></th>\n",
       "      <th>chaju_id</th>\n",
       "    </tr>\n",
       "  </thead>\n",
       "  <tbody>\n",
       "    <tr>\n",
       "      <th>0</th>\n",
       "      <td>C-2354</td>\n",
       "    </tr>\n",
       "    <tr>\n",
       "      <th>1</th>\n",
       "      <td>C-1520</td>\n",
       "    </tr>\n",
       "    <tr>\n",
       "      <th>2</th>\n",
       "      <td>C-2684</td>\n",
       "    </tr>\n",
       "    <tr>\n",
       "      <th>3</th>\n",
       "      <td>C-1228</td>\n",
       "    </tr>\n",
       "    <tr>\n",
       "      <th>4</th>\n",
       "      <td>C-2855</td>\n",
       "    </tr>\n",
       "    <tr>\n",
       "      <th>...</th>\n",
       "      <td>...</td>\n",
       "    </tr>\n",
       "    <tr>\n",
       "      <th>96</th>\n",
       "      <td>C-1915</td>\n",
       "    </tr>\n",
       "    <tr>\n",
       "      <th>97</th>\n",
       "      <td>C-2808</td>\n",
       "    </tr>\n",
       "    <tr>\n",
       "      <th>98</th>\n",
       "      <td>C-1307</td>\n",
       "    </tr>\n",
       "    <tr>\n",
       "      <th>99</th>\n",
       "      <td>C-1030</td>\n",
       "    </tr>\n",
       "    <tr>\n",
       "      <th>100</th>\n",
       "      <td>C-1414</td>\n",
       "    </tr>\n",
       "  </tbody>\n",
       "</table>\n",
       "<p>101 rows × 1 columns</p>\n",
       "</div>"
      ],
      "text/plain": [
       "    chaju_id\n",
       "0     C-2354\n",
       "1     C-1520\n",
       "2     C-2684\n",
       "3     C-1228\n",
       "4     C-2855\n",
       "..       ...\n",
       "96    C-1915\n",
       "97    C-2808\n",
       "98    C-1307\n",
       "99    C-1030\n",
       "100   C-1414\n",
       "\n",
       "[101 rows x 1 columns]"
      ]
     },
     "execution_count": 276,
     "metadata": {},
     "output_type": "execute_result"
    }
   ],
   "source": [
    "import pandas as pd\n",
    "overdue_list=df_overdue_list\n",
    "df_over_list=pd.DataFrame([overdue_list])\n",
    "df_over_list=df_over_list.transpose()\n",
    "df=df_over_list.rename(columns={0:'chaju_id'})\n",
    "df"
   ]
  },
  {
   "cell_type": "code",
   "execution_count": 137,
   "metadata": {
    "ExecuteTime": {
     "end_time": "2021-11-14T17:39:59.232620Z",
     "start_time": "2021-11-14T17:39:59.197115Z"
    },
    "scrolled": true
   },
   "outputs": [
    {
     "data": {
      "text/html": [
       "<div>\n",
       "<style scoped>\n",
       "    .dataframe tbody tr th:only-of-type {\n",
       "        vertical-align: middle;\n",
       "    }\n",
       "\n",
       "    .dataframe tbody tr th {\n",
       "        vertical-align: top;\n",
       "    }\n",
       "\n",
       "    .dataframe thead th {\n",
       "        text-align: right;\n",
       "    }\n",
       "</style>\n",
       "<table border=\"1\" class=\"dataframe\">\n",
       "  <thead>\n",
       "    <tr style=\"text-align: right;\">\n",
       "      <th></th>\n",
       "      <th>chaju_id</th>\n",
       "      <th>com_id</th>\n",
       "      <th>check_ym</th>\n",
       "      <th>sector_cd</th>\n",
       "      <th>sector</th>\n",
       "      <th>over_type</th>\n",
       "      <th>over_reason_cd</th>\n",
       "      <th>over_reason</th>\n",
       "      <th>over_regist</th>\n",
       "      <th>over_ym</th>\n",
       "      <th>over_amt</th>\n",
       "    </tr>\n",
       "  </thead>\n",
       "  <tbody>\n",
       "    <tr>\n",
       "      <th>0</th>\n",
       "      <td>C-1001</td>\n",
       "      <td>S21-01018</td>\n",
       "      <td>202001</td>\n",
       "      <td>S21</td>\n",
       "      <td>상호저축은행(S21)</td>\n",
       "      <td>공공(2)</td>\n",
       "      <td>R-0101</td>\n",
       "      <td>대출원금·이자연체</td>\n",
       "      <td>주채무자(0)</td>\n",
       "      <td>202001</td>\n",
       "      <td>5700000</td>\n",
       "    </tr>\n",
       "    <tr>\n",
       "      <th>1</th>\n",
       "      <td>C-1001</td>\n",
       "      <td>S21-01018</td>\n",
       "      <td>202002</td>\n",
       "      <td>S21</td>\n",
       "      <td>상호저축은행(S21)</td>\n",
       "      <td>공공(2)</td>\n",
       "      <td>R-0101</td>\n",
       "      <td>대출원금·이자연체</td>\n",
       "      <td>주채무자(0)</td>\n",
       "      <td>202001</td>\n",
       "      <td>5700000</td>\n",
       "    </tr>\n",
       "    <tr>\n",
       "      <th>2</th>\n",
       "      <td>C-1019</td>\n",
       "      <td>S01-01001</td>\n",
       "      <td>202008</td>\n",
       "      <td>S01</td>\n",
       "      <td>은행(S01)</td>\n",
       "      <td>공공(2)</td>\n",
       "      <td>R-0101</td>\n",
       "      <td>대출원금·이자연체</td>\n",
       "      <td>주채무자(0)</td>\n",
       "      <td>202002</td>\n",
       "      <td>270000000</td>\n",
       "    </tr>\n",
       "    <tr>\n",
       "      <th>3</th>\n",
       "      <td>C-1019</td>\n",
       "      <td>S01-01001</td>\n",
       "      <td>202003</td>\n",
       "      <td>S01</td>\n",
       "      <td>은행(S01)</td>\n",
       "      <td>공공(2)</td>\n",
       "      <td>R-0101</td>\n",
       "      <td>대출원금·이자연체</td>\n",
       "      <td>주채무자(0)</td>\n",
       "      <td>202002</td>\n",
       "      <td>270000000</td>\n",
       "    </tr>\n",
       "    <tr>\n",
       "      <th>4</th>\n",
       "      <td>C-1019</td>\n",
       "      <td>S01-01001</td>\n",
       "      <td>202006</td>\n",
       "      <td>S01</td>\n",
       "      <td>은행(S01)</td>\n",
       "      <td>공공(2)</td>\n",
       "      <td>R-0101</td>\n",
       "      <td>대출원금·이자연체</td>\n",
       "      <td>주채무자(0)</td>\n",
       "      <td>202002</td>\n",
       "      <td>270000000</td>\n",
       "    </tr>\n",
       "    <tr>\n",
       "      <th>...</th>\n",
       "      <td>...</td>\n",
       "      <td>...</td>\n",
       "      <td>...</td>\n",
       "      <td>...</td>\n",
       "      <td>...</td>\n",
       "      <td>...</td>\n",
       "      <td>...</td>\n",
       "      <td>...</td>\n",
       "      <td>...</td>\n",
       "      <td>...</td>\n",
       "      <td>...</td>\n",
       "    </tr>\n",
       "    <tr>\n",
       "      <th>10779</th>\n",
       "      <td>C-2994</td>\n",
       "      <td>S98-01024</td>\n",
       "      <td>201904</td>\n",
       "      <td>S98</td>\n",
       "      <td>기타-장학재단/기금 등(S98)</td>\n",
       "      <td>공공(2)</td>\n",
       "      <td>R-0201</td>\n",
       "      <td>지급보증대지급금</td>\n",
       "      <td>주채무자(0)</td>\n",
       "      <td>201505</td>\n",
       "      <td>500000</td>\n",
       "    </tr>\n",
       "    <tr>\n",
       "      <th>10780</th>\n",
       "      <td>C-2994</td>\n",
       "      <td>S98-01024</td>\n",
       "      <td>201903</td>\n",
       "      <td>S98</td>\n",
       "      <td>기타-장학재단/기금 등(S98)</td>\n",
       "      <td>공공(2)</td>\n",
       "      <td>R-0201</td>\n",
       "      <td>지급보증대지급금</td>\n",
       "      <td>주채무자(0)</td>\n",
       "      <td>201505</td>\n",
       "      <td>500000</td>\n",
       "    </tr>\n",
       "    <tr>\n",
       "      <th>10781</th>\n",
       "      <td>C-2994</td>\n",
       "      <td>S98-01024</td>\n",
       "      <td>201902</td>\n",
       "      <td>S98</td>\n",
       "      <td>기타-장학재단/기금 등(S98)</td>\n",
       "      <td>공공(2)</td>\n",
       "      <td>R-0201</td>\n",
       "      <td>지급보증대지급금</td>\n",
       "      <td>주채무자(0)</td>\n",
       "      <td>201505</td>\n",
       "      <td>500000</td>\n",
       "    </tr>\n",
       "    <tr>\n",
       "      <th>10782</th>\n",
       "      <td>C-2994</td>\n",
       "      <td>S98-01024</td>\n",
       "      <td>201901</td>\n",
       "      <td>S98</td>\n",
       "      <td>기타-장학재단/기금 등(S98)</td>\n",
       "      <td>공공(2)</td>\n",
       "      <td>R-0201</td>\n",
       "      <td>지급보증대지급금</td>\n",
       "      <td>주채무자(0)</td>\n",
       "      <td>201505</td>\n",
       "      <td>500000</td>\n",
       "    </tr>\n",
       "    <tr>\n",
       "      <th>10783</th>\n",
       "      <td>C-2994</td>\n",
       "      <td>S98-01024</td>\n",
       "      <td>201812</td>\n",
       "      <td>S98</td>\n",
       "      <td>기타-장학재단/기금 등(S98)</td>\n",
       "      <td>공공(2)</td>\n",
       "      <td>R-0201</td>\n",
       "      <td>지급보증대지급금</td>\n",
       "      <td>주채무자(0)</td>\n",
       "      <td>201505</td>\n",
       "      <td>500000</td>\n",
       "    </tr>\n",
       "  </tbody>\n",
       "</table>\n",
       "<p>10784 rows × 11 columns</p>\n",
       "</div>"
      ],
      "text/plain": [
       "      chaju_id     com_id  check_ym sector_cd             sector over_type  \\\n",
       "0       C-1001  S21-01018    202001       S21        상호저축은행(S21)     공공(2)   \n",
       "1       C-1001  S21-01018    202002       S21        상호저축은행(S21)     공공(2)   \n",
       "2       C-1019  S01-01001    202008       S01            은행(S01)     공공(2)   \n",
       "3       C-1019  S01-01001    202003       S01            은행(S01)     공공(2)   \n",
       "4       C-1019  S01-01001    202006       S01            은행(S01)     공공(2)   \n",
       "...        ...        ...       ...       ...                ...       ...   \n",
       "10779   C-2994  S98-01024    201904       S98  기타-장학재단/기금 등(S98)     공공(2)   \n",
       "10780   C-2994  S98-01024    201903       S98  기타-장학재단/기금 등(S98)     공공(2)   \n",
       "10781   C-2994  S98-01024    201902       S98  기타-장학재단/기금 등(S98)     공공(2)   \n",
       "10782   C-2994  S98-01024    201901       S98  기타-장학재단/기금 등(S98)     공공(2)   \n",
       "10783   C-2994  S98-01024    201812       S98  기타-장학재단/기금 등(S98)     공공(2)   \n",
       "\n",
       "      over_reason_cd over_reason over_regist  over_ym   over_amt  \n",
       "0             R-0101   대출원금·이자연체     주채무자(0)   202001    5700000  \n",
       "1             R-0101   대출원금·이자연체     주채무자(0)   202001    5700000  \n",
       "2             R-0101   대출원금·이자연체     주채무자(0)   202002  270000000  \n",
       "3             R-0101   대출원금·이자연체     주채무자(0)   202002  270000000  \n",
       "4             R-0101   대출원금·이자연체     주채무자(0)   202002  270000000  \n",
       "...              ...         ...         ...      ...        ...  \n",
       "10779         R-0201    지급보증대지급금     주채무자(0)   201505     500000  \n",
       "10780         R-0201    지급보증대지급금     주채무자(0)   201505     500000  \n",
       "10781         R-0201    지급보증대지급금     주채무자(0)   201505     500000  \n",
       "10782         R-0201    지급보증대지급금     주채무자(0)   201505     500000  \n",
       "10783         R-0201    지급보증대지급금     주채무자(0)   201505     500000  \n",
       "\n",
       "[10784 rows x 11 columns]"
      ]
     },
     "execution_count": 137,
     "metadata": {},
     "output_type": "execute_result"
    }
   ],
   "source": [
    "df_overdue"
   ]
  },
  {
   "cell_type": "markdown",
   "metadata": {},
   "source": [
    "연체자 추출 후 overdue 내용과 결합"
   ]
  },
  {
   "cell_type": "code",
   "execution_count": 140,
   "metadata": {
    "ExecuteTime": {
     "end_time": "2021-11-15T00:27:47.679557Z",
     "start_time": "2021-11-15T00:27:47.632686Z"
    },
    "scrolled": true
   },
   "outputs": [
    {
     "data": {
      "text/html": [
       "<div>\n",
       "<style scoped>\n",
       "    .dataframe tbody tr th:only-of-type {\n",
       "        vertical-align: middle;\n",
       "    }\n",
       "\n",
       "    .dataframe tbody tr th {\n",
       "        vertical-align: top;\n",
       "    }\n",
       "\n",
       "    .dataframe thead th {\n",
       "        text-align: right;\n",
       "    }\n",
       "</style>\n",
       "<table border=\"1\" class=\"dataframe\">\n",
       "  <thead>\n",
       "    <tr style=\"text-align: right;\">\n",
       "      <th></th>\n",
       "      <th>chaju_id</th>\n",
       "      <th>com_id</th>\n",
       "      <th>check_ym</th>\n",
       "      <th>sector_cd</th>\n",
       "      <th>sector</th>\n",
       "      <th>over_type</th>\n",
       "      <th>over_reason_cd</th>\n",
       "      <th>over_reason</th>\n",
       "      <th>over_regist</th>\n",
       "      <th>over_ym</th>\n",
       "      <th>over_amt</th>\n",
       "    </tr>\n",
       "  </thead>\n",
       "  <tbody>\n",
       "    <tr>\n",
       "      <th>0</th>\n",
       "      <td>C-2354</td>\n",
       "      <td>S98-01029</td>\n",
       "      <td>202012</td>\n",
       "      <td>S98</td>\n",
       "      <td>기타-장학재단/기금 등(S98)</td>\n",
       "      <td>공공(2)</td>\n",
       "      <td>R-0201</td>\n",
       "      <td>지급보증대지급금</td>\n",
       "      <td>주채무자(0)</td>\n",
       "      <td>201811</td>\n",
       "      <td>2600000</td>\n",
       "    </tr>\n",
       "    <tr>\n",
       "      <th>1</th>\n",
       "      <td>C-2354</td>\n",
       "      <td>S98-01029</td>\n",
       "      <td>202011</td>\n",
       "      <td>S98</td>\n",
       "      <td>기타-장학재단/기금 등(S98)</td>\n",
       "      <td>공공(2)</td>\n",
       "      <td>R-0201</td>\n",
       "      <td>지급보증대지급금</td>\n",
       "      <td>주채무자(0)</td>\n",
       "      <td>201811</td>\n",
       "      <td>2600000</td>\n",
       "    </tr>\n",
       "    <tr>\n",
       "      <th>2</th>\n",
       "      <td>C-2354</td>\n",
       "      <td>S98-01029</td>\n",
       "      <td>202009</td>\n",
       "      <td>S98</td>\n",
       "      <td>기타-장학재단/기금 등(S98)</td>\n",
       "      <td>공공(2)</td>\n",
       "      <td>R-0201</td>\n",
       "      <td>지급보증대지급금</td>\n",
       "      <td>주채무자(0)</td>\n",
       "      <td>201811</td>\n",
       "      <td>2600000</td>\n",
       "    </tr>\n",
       "    <tr>\n",
       "      <th>3</th>\n",
       "      <td>C-2354</td>\n",
       "      <td>S98-01029</td>\n",
       "      <td>202008</td>\n",
       "      <td>S98</td>\n",
       "      <td>기타-장학재단/기금 등(S98)</td>\n",
       "      <td>공공(2)</td>\n",
       "      <td>R-0201</td>\n",
       "      <td>지급보증대지급금</td>\n",
       "      <td>주채무자(0)</td>\n",
       "      <td>201811</td>\n",
       "      <td>2600000</td>\n",
       "    </tr>\n",
       "    <tr>\n",
       "      <th>4</th>\n",
       "      <td>C-2354</td>\n",
       "      <td>S98-01029</td>\n",
       "      <td>202007</td>\n",
       "      <td>S98</td>\n",
       "      <td>기타-장학재단/기금 등(S98)</td>\n",
       "      <td>공공(2)</td>\n",
       "      <td>R-0201</td>\n",
       "      <td>지급보증대지급금</td>\n",
       "      <td>주채무자(0)</td>\n",
       "      <td>201811</td>\n",
       "      <td>2600000</td>\n",
       "    </tr>\n",
       "    <tr>\n",
       "      <th>...</th>\n",
       "      <td>...</td>\n",
       "      <td>...</td>\n",
       "      <td>...</td>\n",
       "      <td>...</td>\n",
       "      <td>...</td>\n",
       "      <td>...</td>\n",
       "      <td>...</td>\n",
       "      <td>...</td>\n",
       "      <td>...</td>\n",
       "      <td>...</td>\n",
       "      <td>...</td>\n",
       "    </tr>\n",
       "    <tr>\n",
       "      <th>1788</th>\n",
       "      <td>C-1414</td>\n",
       "      <td>S98-01016</td>\n",
       "      <td>201903</td>\n",
       "      <td>S98</td>\n",
       "      <td>기타-장학재단/기금 등(S98)</td>\n",
       "      <td>공공(2)</td>\n",
       "      <td>R-0201</td>\n",
       "      <td>지급보증대지급금</td>\n",
       "      <td>주채무자(0)</td>\n",
       "      <td>201706</td>\n",
       "      <td>930000</td>\n",
       "    </tr>\n",
       "    <tr>\n",
       "      <th>1789</th>\n",
       "      <td>C-1414</td>\n",
       "      <td>S98-01016</td>\n",
       "      <td>201905</td>\n",
       "      <td>S98</td>\n",
       "      <td>기타-장학재단/기금 등(S98)</td>\n",
       "      <td>공공(2)</td>\n",
       "      <td>R-0201</td>\n",
       "      <td>지급보증대지급금</td>\n",
       "      <td>주채무자(0)</td>\n",
       "      <td>201706</td>\n",
       "      <td>930000</td>\n",
       "    </tr>\n",
       "    <tr>\n",
       "      <th>1790</th>\n",
       "      <td>C-1414</td>\n",
       "      <td>S98-01016</td>\n",
       "      <td>201902</td>\n",
       "      <td>S98</td>\n",
       "      <td>기타-장학재단/기금 등(S98)</td>\n",
       "      <td>공공(2)</td>\n",
       "      <td>R-0201</td>\n",
       "      <td>지급보증대지급금</td>\n",
       "      <td>주채무자(0)</td>\n",
       "      <td>201706</td>\n",
       "      <td>930000</td>\n",
       "    </tr>\n",
       "    <tr>\n",
       "      <th>1791</th>\n",
       "      <td>C-1414</td>\n",
       "      <td>S98-01016</td>\n",
       "      <td>201901</td>\n",
       "      <td>S98</td>\n",
       "      <td>기타-장학재단/기금 등(S98)</td>\n",
       "      <td>공공(2)</td>\n",
       "      <td>R-0201</td>\n",
       "      <td>지급보증대지급금</td>\n",
       "      <td>주채무자(0)</td>\n",
       "      <td>201706</td>\n",
       "      <td>930000</td>\n",
       "    </tr>\n",
       "    <tr>\n",
       "      <th>1792</th>\n",
       "      <td>C-1414</td>\n",
       "      <td>S98-01016</td>\n",
       "      <td>201906</td>\n",
       "      <td>S98</td>\n",
       "      <td>기타-장학재단/기금 등(S98)</td>\n",
       "      <td>공공(2)</td>\n",
       "      <td>R-0201</td>\n",
       "      <td>지급보증대지급금</td>\n",
       "      <td>주채무자(0)</td>\n",
       "      <td>201706</td>\n",
       "      <td>930000</td>\n",
       "    </tr>\n",
       "  </tbody>\n",
       "</table>\n",
       "<p>1793 rows × 11 columns</p>\n",
       "</div>"
      ],
      "text/plain": [
       "     chaju_id     com_id  check_ym sector_cd             sector over_type  \\\n",
       "0      C-2354  S98-01029    202012       S98  기타-장학재단/기금 등(S98)     공공(2)   \n",
       "1      C-2354  S98-01029    202011       S98  기타-장학재단/기금 등(S98)     공공(2)   \n",
       "2      C-2354  S98-01029    202009       S98  기타-장학재단/기금 등(S98)     공공(2)   \n",
       "3      C-2354  S98-01029    202008       S98  기타-장학재단/기금 등(S98)     공공(2)   \n",
       "4      C-2354  S98-01029    202007       S98  기타-장학재단/기금 등(S98)     공공(2)   \n",
       "...       ...        ...       ...       ...                ...       ...   \n",
       "1788   C-1414  S98-01016    201903       S98  기타-장학재단/기금 등(S98)     공공(2)   \n",
       "1789   C-1414  S98-01016    201905       S98  기타-장학재단/기금 등(S98)     공공(2)   \n",
       "1790   C-1414  S98-01016    201902       S98  기타-장학재단/기금 등(S98)     공공(2)   \n",
       "1791   C-1414  S98-01016    201901       S98  기타-장학재단/기금 등(S98)     공공(2)   \n",
       "1792   C-1414  S98-01016    201906       S98  기타-장학재단/기금 등(S98)     공공(2)   \n",
       "\n",
       "     over_reason_cd over_reason over_regist  over_ym  over_amt  \n",
       "0            R-0201    지급보증대지급금     주채무자(0)   201811   2600000  \n",
       "1            R-0201    지급보증대지급금     주채무자(0)   201811   2600000  \n",
       "2            R-0201    지급보증대지급금     주채무자(0)   201811   2600000  \n",
       "3            R-0201    지급보증대지급금     주채무자(0)   201811   2600000  \n",
       "4            R-0201    지급보증대지급금     주채무자(0)   201811   2600000  \n",
       "...             ...         ...         ...      ...       ...  \n",
       "1788         R-0201    지급보증대지급금     주채무자(0)   201706    930000  \n",
       "1789         R-0201    지급보증대지급금     주채무자(0)   201706    930000  \n",
       "1790         R-0201    지급보증대지급금     주채무자(0)   201706    930000  \n",
       "1791         R-0201    지급보증대지급금     주채무자(0)   201706    930000  \n",
       "1792         R-0201    지급보증대지급금     주채무자(0)   201706    930000  \n",
       "\n",
       "[1793 rows x 11 columns]"
      ]
     },
     "execution_count": 140,
     "metadata": {},
     "output_type": "execute_result"
    }
   ],
   "source": [
    "df_total_over_amt = pd.merge(df, df_overdue, on='chaju_id', how='inner')\n",
    "df_total_over_amt"
   ]
  },
  {
   "cell_type": "markdown",
   "metadata": {},
   "source": [
    "## 연체자 구분"
   ]
  },
  {
   "cell_type": "code",
   "execution_count": 280,
   "metadata": {
    "ExecuteTime": {
     "end_time": "2021-11-15T02:46:01.856364Z",
     "start_time": "2021-11-15T02:46:01.829474Z"
    }
   },
   "outputs": [],
   "source": [
    "df_over_period=df_overdue.groupby([\"chaju_id\"]).count()[\"over_amt\"]\n",
    "df_over_period = pd.DataFrame(df_over_period)\n",
    "df_over_period.rename(columns= {'over_amt':'over_period'},inplace = True)\n",
    "df_over_period = df_over_period.reset_index()"
   ]
  },
  {
   "cell_type": "code",
   "execution_count": 284,
   "metadata": {
    "ExecuteTime": {
     "end_time": "2021-11-15T02:46:43.317908Z",
     "start_time": "2021-11-15T02:46:43.286664Z"
    },
    "scrolled": false
   },
   "outputs": [
    {
     "data": {
      "text/html": [
       "<div>\n",
       "<style scoped>\n",
       "    .dataframe tbody tr th:only-of-type {\n",
       "        vertical-align: middle;\n",
       "    }\n",
       "\n",
       "    .dataframe tbody tr th {\n",
       "        vertical-align: top;\n",
       "    }\n",
       "\n",
       "    .dataframe thead th {\n",
       "        text-align: right;\n",
       "    }\n",
       "</style>\n",
       "<table border=\"1\" class=\"dataframe\">\n",
       "  <thead>\n",
       "    <tr style=\"text-align: right;\">\n",
       "      <th></th>\n",
       "      <th>chaju_id</th>\n",
       "      <th>over_amt</th>\n",
       "      <th>over_period</th>\n",
       "    </tr>\n",
       "  </thead>\n",
       "  <tbody>\n",
       "    <tr>\n",
       "      <th>0</th>\n",
       "      <td>C-1001</td>\n",
       "      <td>5700000</td>\n",
       "      <td>2</td>\n",
       "    </tr>\n",
       "    <tr>\n",
       "      <th>1</th>\n",
       "      <td>C-1019</td>\n",
       "      <td>292900000</td>\n",
       "      <td>72</td>\n",
       "    </tr>\n",
       "    <tr>\n",
       "      <th>2</th>\n",
       "      <td>C-1029</td>\n",
       "      <td>880000</td>\n",
       "      <td>5</td>\n",
       "    </tr>\n",
       "    <tr>\n",
       "      <th>3</th>\n",
       "      <td>C-1030</td>\n",
       "      <td>8000000</td>\n",
       "      <td>12</td>\n",
       "    </tr>\n",
       "    <tr>\n",
       "      <th>4</th>\n",
       "      <td>C-1036</td>\n",
       "      <td>95000000</td>\n",
       "      <td>25</td>\n",
       "    </tr>\n",
       "    <tr>\n",
       "      <th>...</th>\n",
       "      <td>...</td>\n",
       "      <td>...</td>\n",
       "      <td>...</td>\n",
       "    </tr>\n",
       "    <tr>\n",
       "      <th>395</th>\n",
       "      <td>C-2972</td>\n",
       "      <td>54170000</td>\n",
       "      <td>64</td>\n",
       "    </tr>\n",
       "    <tr>\n",
       "      <th>396</th>\n",
       "      <td>C-2984</td>\n",
       "      <td>2110000</td>\n",
       "      <td>43</td>\n",
       "    </tr>\n",
       "    <tr>\n",
       "      <th>397</th>\n",
       "      <td>C-2987</td>\n",
       "      <td>19230000</td>\n",
       "      <td>56</td>\n",
       "    </tr>\n",
       "    <tr>\n",
       "      <th>398</th>\n",
       "      <td>C-2992</td>\n",
       "      <td>9600000</td>\n",
       "      <td>25</td>\n",
       "    </tr>\n",
       "    <tr>\n",
       "      <th>399</th>\n",
       "      <td>C-2994</td>\n",
       "      <td>500000</td>\n",
       "      <td>6</td>\n",
       "    </tr>\n",
       "  </tbody>\n",
       "</table>\n",
       "<p>400 rows × 3 columns</p>\n",
       "</div>"
      ],
      "text/plain": [
       "    chaju_id   over_amt  over_period\n",
       "0     C-1001    5700000            2\n",
       "1     C-1019  292900000           72\n",
       "2     C-1029     880000            5\n",
       "3     C-1030    8000000           12\n",
       "4     C-1036   95000000           25\n",
       "..       ...        ...          ...\n",
       "395   C-2972   54170000           64\n",
       "396   C-2984    2110000           43\n",
       "397   C-2987   19230000           56\n",
       "398   C-2992    9600000           25\n",
       "399   C-2994     500000            6\n",
       "\n",
       "[400 rows x 3 columns]"
      ]
     },
     "execution_count": 284,
     "metadata": {},
     "output_type": "execute_result"
    }
   ],
   "source": [
    "df_total_amt_period = pd.merge(df_total_over_amt, df_over_period, on='chaju_id', how='inner')\n",
    "df_total_amt_period"
   ]
  },
  {
   "cell_type": "code",
   "execution_count": 288,
   "metadata": {
    "ExecuteTime": {
     "end_time": "2021-11-15T06:00:00.785869Z",
     "start_time": "2021-11-15T06:00:00.778218Z"
    }
   },
   "outputs": [
    {
     "ename": "IndentationError",
     "evalue": "expected an indented block (<ipython-input-288-56c871e12fbc>, line 3)",
     "output_type": "error",
     "traceback": [
      "\u001b[0;36m  File \u001b[0;32m\"<ipython-input-288-56c871e12fbc>\"\u001b[0;36m, line \u001b[0;32m3\u001b[0m\n\u001b[0;31m    print(a)\u001b[0m\n\u001b[0m    ^\u001b[0m\n\u001b[0;31mIndentationError\u001b[0m\u001b[0;31m:\u001b[0m expected an indented block\n"
     ]
    }
   ],
   "source": [
    "a=[]\n",
    "for a in range(len(over_period)):\n",
    "    if a<=3:\n",
    "    print(a)\n",
    "    if a<=6:\n",
    "    "
   ]
  },
  {
   "cell_type": "code",
   "execution_count": null,
   "metadata": {},
   "outputs": [],
   "source": [
    "9"
   ]
  }
 ],
 "metadata": {
  "kernelspec": {
   "display_name": "Python 3",
   "language": "python",
   "name": "python3"
  },
  "language_info": {
   "codemirror_mode": {
    "name": "ipython",
    "version": 3
   },
   "file_extension": ".py",
   "mimetype": "text/x-python",
   "name": "python",
   "nbconvert_exporter": "python",
   "pygments_lexer": "ipython3",
   "version": "3.8.5"
  },
  "toc": {
   "base_numbering": 1,
   "nav_menu": {},
   "number_sections": true,
   "sideBar": true,
   "skip_h1_title": false,
   "title_cell": "Table of Contents",
   "title_sidebar": "Contents",
   "toc_cell": false,
   "toc_position": {
    "height": "calc(100% - 180px)",
    "left": "10px",
    "top": "150px",
    "width": "165px"
   },
   "toc_section_display": true,
   "toc_window_display": true
  }
 },
 "nbformat": 4,
 "nbformat_minor": 5
}
