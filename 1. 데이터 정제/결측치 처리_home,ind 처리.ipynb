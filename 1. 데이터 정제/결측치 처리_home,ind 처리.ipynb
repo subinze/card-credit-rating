{
 "cells": [
  {
   "cell_type": "code",
   "execution_count": null,
   "id": "98a805fb",
   "metadata": {},
   "outputs": [],
   "source": [
    "def family(y):\n",
    "    if y == '500-599만원':\n",
    "        won = 550\n",
    "    elif y == '300-399만원':\n",
    "        won = 350\n",
    "    elif y == '400-499만원':\n",
    "        won = 450\n",
    "    elif y == '600-699만원':\n",
    "        won = 650\n",
    "    elif y == '200-299만원':\n",
    "        won = 250\n",
    "    elif y == '700-799만원':\n",
    "        won = 750\n",
    "    elif y == '100-199만원':\n",
    "        won = 150\n",
    "    elif y == '800-899만원':\n",
    "        won = 850\n",
    "    elif y == '99만원 이하':\n",
    "        won = 50\n",
    "    elif y == '1000만원 이상':\n",
    "        won = 1050\n",
    "    elif y == '900-999만원':\n",
    "        won = 950\n",
    "    else:\n",
    "        won = 0\n",
    "        \n",
    "    return won"
   ]
  },
  {
   "cell_type": "code",
   "execution_count": null,
   "id": "eeacff38",
   "metadata": {},
   "outputs": [],
   "source": [
    "df_all['income_home_grp'] = df_all['income_home_grp'].apply(lambda y: family(y))\n",
    "df_all['income_ind_grp'] = df_all['income_ind_grp'].apply(lambda y: family(y))\n",
    "\n",
    "# chaju_main[['age','job','']]\n",
    "df_all.head()"
   ]
  },
  {
   "cell_type": "code",
   "execution_count": null,
   "id": "d7e85572",
   "metadata": {},
   "outputs": [],
   "source": [
    "# home < ind인 경우 확인\n",
    "cnt = 0\n",
    "a = []\n",
    "for i in range(len(df_all)):\n",
    "    if df_all['income_home_grp'][i] < df_all['income_ind_grp'][i]:\n",
    "        a.append(i)\n",
    "        cnt += 1\n",
    "print(a)\n",
    "print(cnt)"
   ]
  },
  {
   "cell_type": "code",
   "execution_count": null,
   "id": "8b81e397",
   "metadata": {},
   "outputs": [],
   "source": [
    "# home = ind 만들기\n",
    "for i in range(len(df_all)):\n",
    "    if df_all['income_home_grp'][i] < df_all['income_ind_grp'][i]:\n",
    "        df_all['income_ind_grp'][i] = df_all['income_home_grp'][i]\n"
   ]
  },
  {
   "cell_type": "code",
   "execution_count": null,
   "id": "a250bce5",
   "metadata": {},
   "outputs": [],
   "source": [
    "cnt = 0\n",
    "a = []\n",
    "for i in range(len(df_all)):\n",
    "    if df_all['income_home_grp'][i] < df_all['income_ind_grp'][i]:\n",
    "        a.append(i)\n",
    "        cnt += 1\n",
    "print(a)\n",
    "print(cnt)"
   ]
  },
  {
   "cell_type": "code",
   "execution_count": null,
   "id": "9b58c4e1",
   "metadata": {},
   "outputs": [],
   "source": [
    "def change(y):\n",
    "    if y == 550:\n",
    "        won = '500-599만원'\n",
    "    elif y == 350:\n",
    "        won = '300-399만원'\n",
    "    elif y == 450:\n",
    "        won = '400-499만원'\n",
    "    elif y == 650:\n",
    "        won = '600-699만원'\n",
    "    elif y == 250:\n",
    "        won = '200-299만원'\n",
    "    elif y == 750:\n",
    "        won = '700-799만원'\n",
    "    elif y == 150:\n",
    "        won = '100-199만원'\n",
    "    elif y == 850:\n",
    "        won = '800-899만원'\n",
    "    elif y == 50:\n",
    "        won = '99만원 이하'\n",
    "    elif y == 1050:\n",
    "        won = '1000만원 이상'\n",
    "    else:\n",
    "        won = '900-999만원'\n",
    "        \n",
    "    return won"
   ]
  },
  {
   "cell_type": "code",
   "execution_count": null,
   "id": "8c96941b",
   "metadata": {},
   "outputs": [],
   "source": [
    "df_all['income_home_grp'] = df_all['income_home_grp'].apply(lambda y: change(y))\n",
    "df_all['income_ind_grp'] = df_all['income_ind_grp'].apply(lambda y: change(y))\n",
    "\n",
    "# chaju_main[['age','job','']]\n",
    "df_all.head()"
   ]
  },
  {
   "cell_type": "code",
   "execution_count": null,
   "id": "d789c695",
   "metadata": {},
   "outputs": [],
   "source": [
    "df_all[['income_ind_grp','income_home_grp']]"
   ]
  }
 ],
 "metadata": {
  "kernelspec": {
   "display_name": "Python 3",
   "language": "python",
   "name": "python3"
  },
  "language_info": {
   "codemirror_mode": {
    "name": "ipython",
    "version": 3
   },
   "file_extension": ".py",
   "mimetype": "text/x-python",
   "name": "python",
   "nbconvert_exporter": "python",
   "pygments_lexer": "ipython3",
   "version": "3.8.8"
  },
  "toc": {
   "base_numbering": 1,
   "nav_menu": {},
   "number_sections": true,
   "sideBar": true,
   "skip_h1_title": false,
   "title_cell": "Table of Contents",
   "title_sidebar": "Contents",
   "toc_cell": false,
   "toc_position": {},
   "toc_section_display": true,
   "toc_window_display": false
  }
 },
 "nbformat": 4,
 "nbformat_minor": 5
}
